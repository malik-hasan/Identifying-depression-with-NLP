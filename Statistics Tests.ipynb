{
 "cells": [
  {
   "cell_type": "markdown",
   "metadata": {},
   "source": [
    "# Identifying depression using stats\n",
    "\n",
    "We run some statistical tests to identify trends among users that point to depression "
   ]
  },
  {
   "cell_type": "code",
   "execution_count": 1,
   "metadata": {},
   "outputs": [
    {
     "name": "stderr",
     "output_type": "stream",
     "text": [
      "/opt/anaconda3/lib/python3.7/site-packages/statsmodels/tools/_testing.py:19: FutureWarning: pandas.util.testing is deprecated. Use the functions in the public API at pandas.testing instead.\n",
      "  import pandas.util.testing as tm\n"
     ]
    }
   ],
   "source": [
    "#imports\n",
    "import pandas as pd\n",
    "import matplotlib.pyplot as plt\n",
    "import statistics\n",
    "from statsmodels.stats import weightstats as stests\n",
    "from nltk.tokenize.casual import casual_tokenize\n",
    "import re\n",
    "from scipy import stats"
   ]
  },
  {
   "cell_type": "code",
   "execution_count": 2,
   "metadata": {},
   "outputs": [
    {
     "name": "stdout",
     "output_type": "stream",
     "text": [
      "1600498\n",
      "   target  id                          date     flag      user  \\\n",
      "0       4   3  Mon May 11 03:17:40 UTC 2009  kindle2    tpryan   \n",
      "1       4   4  Mon May 11 03:18:03 UTC 2009  kindle2    vcu451   \n",
      "2       4   5  Mon May 11 03:18:54 UTC 2009  kindle2    chadfu   \n",
      "3       4   6  Mon May 11 03:19:04 UTC 2009  kindle2     SIX15   \n",
      "4       4   7  Mon May 11 03:21:41 UTC 2009  kindle2  yamarama   \n",
      "\n",
      "                                                text  \\\n",
      "0  @stellargirl I loooooooovvvvvveee my Kindle2. ...   \n",
      "1  Reading my kindle2...  Love it... Lee childs i...   \n",
      "2  Ok, first assesment of the #kindle2 ...it fuck...   \n",
      "3  @kenburbary You'll love your Kindle2. I've had...   \n",
      "4  @mikefish  Fair enough. But i have the Kindle2...   \n",
      "\n",
      "                                               words  num_words  \n",
      "0  (I, loooooooovvvvvveee, my, Kindle, 2, ., Not,...         23  \n",
      "1  (Reading, my, kindle, 2, ..., Love, it, ..., L...         14  \n",
      "2  (Ok, ,, first, assesment, of, the, #kindle2, ....         14  \n",
      "3  (You'll, love, your, Kindle, 2, ., I've, had, ...         31  \n",
      "4  (Fair, enough, ., But, i, have, the, Kindle, 2...         15  \n"
     ]
    }
   ],
   "source": [
    "#read in the data\n",
    "df = pd.read_csv('../Downloads/sentiment140.csv', header = None, encoding = \"ISO-8859-1\")\n",
    "df.columns = ['target', 'id', 'date', 'flag', 'user', 'text'] #set column names\n",
    "print(len(df))\n",
    "\n",
    "df[\"words\"] = [tuple([word for word in casual_tokenize(row.text) if not re.match('@', \n",
    "  word)]) for _, row in df.iterrows()]\n",
    "df[\"num_words\"] = [len(row.words) for _, row in df.iterrows()]\n",
    "print(df.head())"
   ]
  },
  {
   "cell_type": "markdown",
   "metadata": {},
   "source": [
    "## Analysis 1\n",
    "\n",
    "Plotting the average sentiment for each user"
   ]
  },
  {
   "cell_type": "code",
   "execution_count": 4,
   "metadata": {},
   "outputs": [
    {
     "name": "stdout",
     "output_type": "stream",
     "text": [
      "CPU times: user 1min 44s, sys: 1.13 s, total: 1min 45s\n",
      "Wall time: 1min 51s\n"
     ]
    }
   ],
   "source": [
    "%%time\n",
    "#create a dictionary { user : average sentiment} for users with 50+ tweets and not bots\n",
    "average_sentiment = {}\n",
    "users = df.user.value_counts()[df.user.value_counts() > 50] #minimum 50 tweets\n",
    "for user in users.keys():\n",
    "    tweet_set = df[df.user == user]\n",
    "    if len(tweet_set.words.unique()) > 5: #filters bot spam\n",
    "        average_sentiment[user] = sum(tweet_set.target) / len(tweet_set)\n",
    "    else:\n",
    "        del users[user]"
   ]
  },
  {
   "cell_type": "code",
   "execution_count": 5,
   "metadata": {},
   "outputs": [
    {
     "data": {
      "text/plain": [
       "Text(0, 0.5, 'Number of Users')"
      ]
     },
     "execution_count": 5,
     "metadata": {},
     "output_type": "execute_result"
    },
    {
     "data": {
      "image/png": "[encoded data removed]",
      "text/plain": [
       "<Figure size 432x288 with 1 Axes>"
      ]
     },
     "metadata": {
      "needs_background": "light"
     },
     "output_type": "display_data"
    }
   ],
   "source": [
    "plt.hist(average_sentiment.values(), bins = 20)\n",
    "plt.xlabel('Average Sentiment')\n",
    "plt.ylabel('Number of Users')\n",
    "#plt.savefig('average_sentiment50.png')"
   ]
  },
  {
   "cell_type": "markdown",
   "metadata": {},
   "source": [
    "We noticed users tend to favor positive tweets \n",
    "so we run a z-test to see if it is statistically significant\n",
    "\n",
    "#null hypothesis: population is a normal distribution\n",
    "#alternate: users favor positive tweets"
   ]
  },
  {
   "cell_type": "code",
   "execution_count": 6,
   "metadata": {},
   "outputs": [
    {
     "name": "stdout",
     "output_type": "stream",
     "text": [
      "5.638601821944252e-45\n",
      "reject null hypothesis\n"
     ]
    }
   ],
   "source": [
    "sample = list(average_sentiment.values())\n",
    "# sample.sort()\n",
    "# std = statistics.stdev(sample)\n",
    "# mean = sum(sample)/len(sample)\n",
    "ztest ,pval = stests.ztest(sample, x2=None, value=2, alternative='larger')\n",
    "print(float(pval))\n",
    "alpha = 0.01\n",
    "if pval < alpha:\n",
    "    print(\"reject null hypothesis\")\n",
    "else:\n",
    "    print(\"accept null hypothesis\")"
   ]
  },
  {
   "cell_type": "markdown",
   "metadata": {},
   "source": [
    "## Analysis 2\n",
    "\n",
    "According to Wang et al (2013), depressed users tweet less often, so we plot and test that"
   ]
  },
  {
   "cell_type": "code",
   "execution_count": 7,
   "metadata": {},
   "outputs": [
    {
     "data": {
      "text/plain": [
       "Text(0, 0.5, 'Number of Tweets')"
      ]
     },
     "execution_count": 7,
     "metadata": {},
     "output_type": "execute_result"
    },
    {
     "data": {
      "image/png": "[encoded data removed]",
      "text/plain": [
       "<Figure size 432x288 with 1 Axes>"
      ]
     },
     "metadata": {
      "needs_background": "light"
     },
     "output_type": "display_data"
    }
   ],
   "source": [
    "#plot tweeting frequency vs average sentiment\n",
    "plt.scatter(average_sentiment.values(), users)\n",
    "plt.xlabel('Average Sentiment')\n",
    "plt.ylabel('Number of Tweets')\n",
    "#plt.savefig('tweet_freq.png')"
   ]
  },
  {
   "cell_type": "markdown",
   "metadata": {},
   "source": [
    "Testing if the tweet frequency is significantly different across a certain threshold of average sentiment (we found 0.7 gives the best result) using ANOVA"
   ]
  },
  {
   "cell_type": "code",
   "execution_count": 8,
   "metadata": {},
   "outputs": [
    {
     "name": "stdout",
     "output_type": "stream",
     "text": [
      "p-value for significance is:  0.009997455983955883\n",
      "reject null hypothesis\n"
     ]
    }
   ],
   "source": [
    "#anova test to see if users with low average_sentiment tweet less\n",
    "low = {}\n",
    "normal = {}\n",
    "threshold = 0.7\n",
    "for k,v in average_sentiment.items():\n",
    "    if v < threshold:\n",
    "        low[k] = users[k]\n",
    "    else:\n",
    "        normal[k] = users[k]\n",
    "F, p = stats.f_oneway(tuple(low.values()), tuple(normal.values()))\n",
    "print(\"p-value for significance is: \", p)\n",
    "if p<0.01:\n",
    "    print(\"reject null hypothesis\")\n",
    "else:\n",
    "    print(\"accept null hypothesis\")"
   ]
  },
  {
   "cell_type": "code",
   "execution_count": 15,
   "metadata": {},
   "outputs": [
    {
     "data": {
      "text/plain": [
       "81.81549815498155"
      ]
     },
     "execution_count": 15,
     "metadata": {},
     "output_type": "execute_result"
    }
   ],
   "source": [
    "sum(normal.values()) / len(normal.values())"
   ]
  },
  {
   "cell_type": "code",
   "execution_count": 18,
   "metadata": {},
   "outputs": [
    {
     "data": {
      "text/plain": [
       "37.080992435478315"
      ]
     },
     "execution_count": 18,
     "metadata": {},
     "output_type": "execute_result"
    }
   ],
   "source": [
    "statistics.stdev(normal.values())"
   ]
  },
  {
   "cell_type": "code",
   "execution_count": 13,
   "metadata": {},
   "outputs": [
    {
     "data": {
      "text/plain": [
       "67.13953488372093"
      ]
     },
     "execution_count": 13,
     "metadata": {},
     "output_type": "execute_result"
    }
   ],
   "source": [
    "sum(low.values()) /len(low.values())"
   ]
  },
  {
   "cell_type": "markdown",
   "metadata": {},
   "source": [
    "## Analysis 3\n",
    "\n",
    "Wang et al. also mention that depressed users tweet more often between midnight and 6 am"
   ]
  },
  {
   "cell_type": "code",
   "execution_count": 9,
   "metadata": {},
   "outputs": [
    {
     "name": "stdout",
     "output_type": "stream",
     "text": [
      "CPU times: user 1min 53s, sys: 879 ms, total: 1min 54s\n",
      "Wall time: 2min 1s\n"
     ]
    }
   ],
   "source": [
    "%%time\n",
    "#structuring the data\n",
    "normal_times, dep_times = [], []\n",
    "for user in users.keys():\n",
    "    tweet_set = df[df.user == user]\n",
    "    for _, tweet in tweet_set.iterrows():\n",
    "        time = int(re.search('(\\d{2}):', tweet.date)[1])\n",
    "        if average_sentiment[user] > 0.7:\n",
    "           normal_times.append(time)\n",
    "        else:\n",
    "           dep_times.append(time)"
   ]
  },
  {
   "cell_type": "code",
   "execution_count": 10,
   "metadata": {},
   "outputs": [
    {
     "data": {
      "text/plain": [
       "Text(0, 0.5, 'number of tweets')"
      ]
     },
     "execution_count": 10,
     "metadata": {},
     "output_type": "execute_result"
    },
    {
     "data": {
      "image/png": "[encoded data removed]",
      "text/plain": [
       "<Figure size 432x288 with 1 Axes>"
      ]
     },
     "metadata": {
      "needs_background": "light"
     },
     "output_type": "display_data"
    }
   ],
   "source": [
    "plt.hist(normal_times)\n",
    "plt.title('Timings for users with normal avg sentiment')\n",
    "plt.xlabel('hour')\n",
    "plt.ylabel('number of tweets')"
   ]
  },
  {
   "cell_type": "code",
   "execution_count": 11,
   "metadata": {},
   "outputs": [
    {
     "data": {
      "text/plain": [
       "Text(0, 0.5, 'number of tweets')"
      ]
     },
     "execution_count": 11,
     "metadata": {},
     "output_type": "execute_result"
    },
    {
     "data": {
      "image/png": "[encoded data removed]",
      "text/plain": [
       "<Figure size 432x288 with 1 Axes>"
      ]
     },
     "metadata": {
      "needs_background": "light"
     },
     "output_type": "display_data"
    }
   ],
   "source": [
    "plt.hist(dep_times)\n",
    "plt.title('Timings for users with low avg sentiment')\n",
    "plt.xlabel('hour')\n",
    "plt.ylabel('number of tweets')"
   ]
  },
  {
   "cell_type": "markdown",
   "metadata": {},
   "source": [
    "use ANOVA to see if there is any statistically significant difference"
   ]
  },
  {
   "cell_type": "code",
   "execution_count": 12,
   "metadata": {},
   "outputs": [
    {
     "name": "stdout",
     "output_type": "stream",
     "text": [
      "p-value for significance is:  0.4077208397001345\n",
      "accept null hypothesis\n"
     ]
    }
   ],
   "source": [
    "F, p = stats.f_oneway(normal_times, dep_times)\n",
    "print(\"p-value for significance is: \", p)\n",
    "if p<0.01:\n",
    "    print(\"reject null hypothesis\")\n",
    "else:\n",
    "    print(\"accept null hypothesis\")"
   ]
  },
  {
   "cell_type": "markdown",
   "metadata": {},
   "source": [
    "this last test found no significant difference"
   ]
  },
  {
   "cell_type": "code",
   "execution_count": null,
   "metadata": {},
   "outputs": [],
   "source": []
  }
 ],
 "metadata": {
  "kernelspec": {
   "display_name": "Python 3",
   "language": "python",
   "name": "python3"
  },
  "language_info": {
   "codemirror_mode": {
    "name": "ipython",
    "version": 3
   },
   "file_extension": ".py",
   "mimetype": "text/x-python",
   "name": "python",
   "nbconvert_exporter": "python",
   "pygments_lexer": "ipython3",
   "version": "3.7.4"
  }
 },
 "nbformat": 4,
 "nbformat_minor": 2
}
