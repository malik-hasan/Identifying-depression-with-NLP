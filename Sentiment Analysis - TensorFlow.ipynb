{
 "cells": [
  {
   "cell_type": "markdown",
   "metadata": {},
   "source": [
    "### Preperation"
   ]
  },
  {
   "cell_type": "code",
   "execution_count": 1,
   "metadata": {
    "collapsed": true
   },
   "outputs": [
    {
     "name": "stdout",
     "output_type": "stream",
     "text": [
      "Requirement already up-to-date: gensim in /opt/anaconda3/lib/python3.7/site-packages (3.8.3)\n",
      "Requirement already satisfied, skipping upgrade: six>=1.5.0 in /opt/anaconda3/lib/python3.7/site-packages (from gensim) (1.12.0)\n",
      "Requirement already satisfied, skipping upgrade: numpy>=1.11.3 in /opt/anaconda3/lib/python3.7/site-packages (from gensim) (1.17.2)\n",
      "Requirement already satisfied, skipping upgrade: smart-open>=1.8.1 in /opt/anaconda3/lib/python3.7/site-packages (from gensim) (2.0.0)\n",
      "Requirement already satisfied, skipping upgrade: scipy>=0.18.1 in /opt/anaconda3/lib/python3.7/site-packages (from gensim) (1.4.1)\n",
      "Requirement already satisfied, skipping upgrade: boto in /opt/anaconda3/lib/python3.7/site-packages (from smart-open>=1.8.1->gensim) (2.49.0)\n",
      "Requirement already satisfied, skipping upgrade: boto3 in /opt/anaconda3/lib/python3.7/site-packages (from smart-open>=1.8.1->gensim) (1.13.4)\n",
      "Requirement already satisfied, skipping upgrade: requests in /opt/anaconda3/lib/python3.7/site-packages (from smart-open>=1.8.1->gensim) (2.22.0)\n",
      "Requirement already satisfied, skipping upgrade: botocore<1.17.0,>=1.16.4 in /opt/anaconda3/lib/python3.7/site-packages (from boto3->smart-open>=1.8.1->gensim) (1.16.4)\n",
      "Requirement already satisfied, skipping upgrade: jmespath<1.0.0,>=0.7.1 in /opt/anaconda3/lib/python3.7/site-packages (from boto3->smart-open>=1.8.1->gensim) (0.9.5)\n",
      "Requirement already satisfied, skipping upgrade: s3transfer<0.4.0,>=0.3.0 in /opt/anaconda3/lib/python3.7/site-packages (from boto3->smart-open>=1.8.1->gensim) (0.3.3)\n",
      "Requirement already satisfied, skipping upgrade: idna<2.9,>=2.5 in /opt/anaconda3/lib/python3.7/site-packages (from requests->smart-open>=1.8.1->gensim) (2.8)\n",
      "Requirement already satisfied, skipping upgrade: chardet<3.1.0,>=3.0.2 in /opt/anaconda3/lib/python3.7/site-packages (from requests->smart-open>=1.8.1->gensim) (3.0.4)\n",
      "Requirement already satisfied, skipping upgrade: certifi>=2017.4.17 in /opt/anaconda3/lib/python3.7/site-packages (from requests->smart-open>=1.8.1->gensim) (2019.9.11)\n",
      "Requirement already satisfied, skipping upgrade: urllib3!=1.25.0,!=1.25.1,<1.26,>=1.21.1 in /opt/anaconda3/lib/python3.7/site-packages (from requests->smart-open>=1.8.1->gensim) (1.24.2)\n",
      "Requirement already satisfied, skipping upgrade: python-dateutil<3.0.0,>=2.1 in /opt/anaconda3/lib/python3.7/site-packages (from botocore<1.17.0,>=1.16.4->boto3->smart-open>=1.8.1->gensim) (2.8.0)\n",
      "Requirement already satisfied, skipping upgrade: docutils<0.16,>=0.10 in /opt/anaconda3/lib/python3.7/site-packages (from botocore<1.17.0,>=1.16.4->boto3->smart-open>=1.8.1->gensim) (0.15.2)\n",
      "Requirement already up-to-date: keras in /opt/anaconda3/lib/python3.7/site-packages (2.3.1)\n",
      "Requirement already satisfied, skipping upgrade: pyyaml in /opt/anaconda3/lib/python3.7/site-packages (from keras) (5.1.2)\n",
      "Requirement already satisfied, skipping upgrade: keras-applications>=1.0.6 in /opt/anaconda3/lib/python3.7/site-packages (from keras) (1.0.8)\n",
      "Requirement already satisfied, skipping upgrade: keras-preprocessing>=1.0.5 in /opt/anaconda3/lib/python3.7/site-packages (from keras) (1.1.0)\n",
      "Requirement already satisfied, skipping upgrade: h5py in /opt/anaconda3/lib/python3.7/site-packages (from keras) (2.10.0)\n",
      "Requirement already satisfied, skipping upgrade: scipy>=0.14 in /opt/anaconda3/lib/python3.7/site-packages (from keras) (1.4.1)\n",
      "Requirement already satisfied, skipping upgrade: six>=1.9.0 in /opt/anaconda3/lib/python3.7/site-packages (from keras) (1.12.0)\n",
      "Requirement already satisfied, skipping upgrade: numpy>=1.9.1 in /opt/anaconda3/lib/python3.7/site-packages (from keras) (1.17.2)\n",
      "Requirement already up-to-date: pandas in /opt/anaconda3/lib/python3.7/site-packages (1.0.3)\n",
      "Requirement already satisfied, skipping upgrade: numpy>=1.13.3 in /opt/anaconda3/lib/python3.7/site-packages (from pandas) (1.17.2)\n",
      "Requirement already satisfied, skipping upgrade: pytz>=2017.2 in /opt/anaconda3/lib/python3.7/site-packages (from pandas) (2019.3)\n",
      "Requirement already satisfied, skipping upgrade: python-dateutil>=2.6.1 in /opt/anaconda3/lib/python3.7/site-packages (from pandas) (2.8.0)\n",
      "Requirement already satisfied, skipping upgrade: six>=1.5 in /opt/anaconda3/lib/python3.7/site-packages (from python-dateutil>=2.6.1->pandas) (1.12.0)\n"
     ]
    }
   ],
   "source": [
    "# !pip install gensim --upgrade\n",
    "# !pip install keras --upgrade\n",
    "# !pip install pandas --upgrade"
   ]
  },
  {
   "cell_type": "code",
   "execution_count": 2,
   "metadata": {
    "collapsed": true
   },
   "outputs": [
    {
     "name": "stdout",
     "output_type": "stream",
     "text": [
      "Requirement already satisfied: tensorflow in /opt/anaconda3/lib/python3.7/site-packages (2.2.0)\n",
      "Requirement already satisfied: gast==0.3.3 in /opt/anaconda3/lib/python3.7/site-packages (from tensorflow) (0.3.3)\n",
      "Requirement already satisfied: h5py<2.11.0,>=2.10.0 in /opt/anaconda3/lib/python3.7/site-packages (from tensorflow) (2.10.0)\n",
      "Requirement already satisfied: astunparse==1.6.3 in /opt/anaconda3/lib/python3.7/site-packages (from tensorflow) (1.6.3)\n",
      "Requirement already satisfied: google-pasta>=0.1.8 in /opt/anaconda3/lib/python3.7/site-packages (from tensorflow) (0.2.0)\n",
      "Requirement already satisfied: scipy==1.4.1; python_version >= \"3\" in /opt/anaconda3/lib/python3.7/site-packages (from tensorflow) (1.4.1)\n",
      "Requirement already satisfied: numpy<2.0,>=1.16.0 in /opt/anaconda3/lib/python3.7/site-packages (from tensorflow) (1.17.2)\n",
      "Requirement already satisfied: termcolor>=1.1.0 in /opt/anaconda3/lib/python3.7/site-packages (from tensorflow) (1.1.0)\n",
      "Requirement already satisfied: tensorflow-estimator<2.3.0,>=2.2.0 in /opt/anaconda3/lib/python3.7/site-packages (from tensorflow) (2.2.0)\n",
      "Requirement already satisfied: absl-py>=0.7.0 in /opt/anaconda3/lib/python3.7/site-packages (from tensorflow) (0.9.0)\n",
      "Requirement already satisfied: six>=1.12.0 in /opt/anaconda3/lib/python3.7/site-packages (from tensorflow) (1.12.0)\n",
      "Requirement already satisfied: opt-einsum>=2.3.2 in /opt/anaconda3/lib/python3.7/site-packages (from tensorflow) (3.2.1)\n",
      "Requirement already satisfied: tensorboard<2.3.0,>=2.2.0 in /opt/anaconda3/lib/python3.7/site-packages (from tensorflow) (2.2.1)\n",
      "Requirement already satisfied: grpcio>=1.8.6 in /opt/anaconda3/lib/python3.7/site-packages (from tensorflow) (1.28.1)\n",
      "Requirement already satisfied: wheel>=0.26; python_version >= \"3\" in /opt/anaconda3/lib/python3.7/site-packages (from tensorflow) (0.33.6)\n",
      "Requirement already satisfied: protobuf>=3.8.0 in /opt/anaconda3/lib/python3.7/site-packages (from tensorflow) (3.11.3)\n",
      "Requirement already satisfied: wrapt>=1.11.1 in /opt/anaconda3/lib/python3.7/site-packages (from tensorflow) (1.11.2)\n",
      "Requirement already satisfied: keras-preprocessing>=1.1.0 in /opt/anaconda3/lib/python3.7/site-packages (from tensorflow) (1.1.0)\n",
      "Requirement already satisfied: google-auth<2,>=1.6.3 in /opt/anaconda3/lib/python3.7/site-packages (from tensorboard<2.3.0,>=2.2.0->tensorflow) (1.14.2)\n",
      "Requirement already satisfied: requests<3,>=2.21.0 in /opt/anaconda3/lib/python3.7/site-packages (from tensorboard<2.3.0,>=2.2.0->tensorflow) (2.22.0)\n",
      "Requirement already satisfied: setuptools>=41.0.0 in /opt/anaconda3/lib/python3.7/site-packages (from tensorboard<2.3.0,>=2.2.0->tensorflow) (46.1.3)\n",
      "Requirement already satisfied: markdown>=2.6.8 in /opt/anaconda3/lib/python3.7/site-packages (from tensorboard<2.3.0,>=2.2.0->tensorflow) (3.2.1)\n",
      "Requirement already satisfied: werkzeug>=0.11.15 in /opt/anaconda3/lib/python3.7/site-packages (from tensorboard<2.3.0,>=2.2.0->tensorflow) (0.16.0)\n",
      "Requirement already satisfied: google-auth-oauthlib<0.5,>=0.4.1 in /opt/anaconda3/lib/python3.7/site-packages (from tensorboard<2.3.0,>=2.2.0->tensorflow) (0.4.1)\n",
      "Requirement already satisfied: tensorboard-plugin-wit>=1.6.0 in /opt/anaconda3/lib/python3.7/site-packages (from tensorboard<2.3.0,>=2.2.0->tensorflow) (1.6.0.post3)\n",
      "Requirement already satisfied: rsa<4.1,>=3.1.4 in /opt/anaconda3/lib/python3.7/site-packages (from google-auth<2,>=1.6.3->tensorboard<2.3.0,>=2.2.0->tensorflow) (4.0)\n",
      "Requirement already satisfied: cachetools<5.0,>=2.0.0 in /opt/anaconda3/lib/python3.7/site-packages (from google-auth<2,>=1.6.3->tensorboard<2.3.0,>=2.2.0->tensorflow) (4.1.0)\n",
      "Requirement already satisfied: pyasn1-modules>=0.2.1 in /opt/anaconda3/lib/python3.7/site-packages (from google-auth<2,>=1.6.3->tensorboard<2.3.0,>=2.2.0->tensorflow) (0.2.8)\n",
      "Requirement already satisfied: urllib3!=1.25.0,!=1.25.1,<1.26,>=1.21.1 in /opt/anaconda3/lib/python3.7/site-packages (from requests<3,>=2.21.0->tensorboard<2.3.0,>=2.2.0->tensorflow) (1.24.2)\n",
      "Requirement already satisfied: chardet<3.1.0,>=3.0.2 in /opt/anaconda3/lib/python3.7/site-packages (from requests<3,>=2.21.0->tensorboard<2.3.0,>=2.2.0->tensorflow) (3.0.4)\n",
      "Requirement already satisfied: idna<2.9,>=2.5 in /opt/anaconda3/lib/python3.7/site-packages (from requests<3,>=2.21.0->tensorboard<2.3.0,>=2.2.0->tensorflow) (2.8)\n",
      "Requirement already satisfied: certifi>=2017.4.17 in /opt/anaconda3/lib/python3.7/site-packages (from requests<3,>=2.21.0->tensorboard<2.3.0,>=2.2.0->tensorflow) (2019.9.11)\n",
      "Requirement already satisfied: requests-oauthlib>=0.7.0 in /opt/anaconda3/lib/python3.7/site-packages (from google-auth-oauthlib<0.5,>=0.4.1->tensorboard<2.3.0,>=2.2.0->tensorflow) (1.3.0)\n",
      "Requirement already satisfied: pyasn1>=0.1.3 in /opt/anaconda3/lib/python3.7/site-packages (from rsa<4.1,>=3.1.4->google-auth<2,>=1.6.3->tensorboard<2.3.0,>=2.2.0->tensorflow) (0.4.8)\n",
      "Requirement already satisfied: oauthlib>=3.0.0 in /opt/anaconda3/lib/python3.7/site-packages (from requests-oauthlib>=0.7.0->google-auth-oauthlib<0.5,>=0.4.1->tensorboard<2.3.0,>=2.2.0->tensorflow) (3.1.0)\n"
     ]
    }
   ],
   "source": [
    "# !pip install tensorflow"
   ]
  },
  {
   "cell_type": "code",
   "execution_count": 3,
   "metadata": {},
   "outputs": [
    {
     "name": "stdout",
     "output_type": "stream",
     "text": [
      "\u001b[33mWARNING: Skipping tensorflow-tensorboard as it is not installed.\u001b[0m\n",
      "Note: you may need to restart the kernel to use updated packages.\n"
     ]
    }
   ],
   "source": [
    "# pip uninstall tensorflow-tensorboard"
   ]
  },
  {
   "cell_type": "code",
   "execution_count": 4,
   "metadata": {},
   "outputs": [
    {
     "name": "stdout",
     "output_type": "stream",
     "text": [
      "Collecting tensorflow-gpu\n",
      "\u001b[31m  ERROR: Could not find a version that satisfies the requirement tensorflow-gpu (from versions: none)\u001b[0m\n",
      "\u001b[31mERROR: No matching distribution found for tensorflow-gpu\u001b[0m\n",
      "Note: you may need to restart the kernel to use updated packages.\n"
     ]
    }
   ],
   "source": [
    "# pip install --upgrade tensorflow-gpu"
   ]
  },
  {
   "cell_type": "code",
   "execution_count": 5,
   "metadata": {
    "collapsed": true
   },
   "outputs": [
    {
     "name": "stdout",
     "output_type": "stream",
     "text": [
      "Requirement already satisfied: tensorflow in /opt/anaconda3/lib/python3.7/site-packages (2.2.0)\n",
      "Requirement already satisfied: grpcio>=1.8.6 in /opt/anaconda3/lib/python3.7/site-packages (from tensorflow) (1.28.1)\n",
      "Requirement already satisfied: gast==0.3.3 in /opt/anaconda3/lib/python3.7/site-packages (from tensorflow) (0.3.3)\n",
      "Requirement already satisfied: wheel>=0.26; python_version >= \"3\" in /opt/anaconda3/lib/python3.7/site-packages (from tensorflow) (0.33.6)\n",
      "Requirement already satisfied: astunparse==1.6.3 in /opt/anaconda3/lib/python3.7/site-packages (from tensorflow) (1.6.3)\n",
      "Requirement already satisfied: termcolor>=1.1.0 in /opt/anaconda3/lib/python3.7/site-packages (from tensorflow) (1.1.0)\n",
      "Requirement already satisfied: scipy==1.4.1; python_version >= \"3\" in /opt/anaconda3/lib/python3.7/site-packages (from tensorflow) (1.4.1)\n",
      "Requirement already satisfied: numpy<2.0,>=1.16.0 in /opt/anaconda3/lib/python3.7/site-packages (from tensorflow) (1.17.2)\n",
      "Requirement already satisfied: opt-einsum>=2.3.2 in /opt/anaconda3/lib/python3.7/site-packages (from tensorflow) (3.2.1)\n",
      "Requirement already satisfied: tensorboard<2.3.0,>=2.2.0 in /opt/anaconda3/lib/python3.7/site-packages (from tensorflow) (2.2.1)\n",
      "Requirement already satisfied: absl-py>=0.7.0 in /opt/anaconda3/lib/python3.7/site-packages (from tensorflow) (0.9.0)\n",
      "Requirement already satisfied: tensorflow-estimator<2.3.0,>=2.2.0 in /opt/anaconda3/lib/python3.7/site-packages (from tensorflow) (2.2.0)\n",
      "Requirement already satisfied: keras-preprocessing>=1.1.0 in /opt/anaconda3/lib/python3.7/site-packages (from tensorflow) (1.1.0)\n",
      "Requirement already satisfied: wrapt>=1.11.1 in /opt/anaconda3/lib/python3.7/site-packages (from tensorflow) (1.11.2)\n",
      "Requirement already satisfied: protobuf>=3.8.0 in /opt/anaconda3/lib/python3.7/site-packages (from tensorflow) (3.11.3)\n",
      "Requirement already satisfied: h5py<2.11.0,>=2.10.0 in /opt/anaconda3/lib/python3.7/site-packages (from tensorflow) (2.10.0)\n",
      "Requirement already satisfied: google-pasta>=0.1.8 in /opt/anaconda3/lib/python3.7/site-packages (from tensorflow) (0.2.0)\n",
      "Requirement already satisfied: six>=1.12.0 in /opt/anaconda3/lib/python3.7/site-packages (from tensorflow) (1.12.0)\n",
      "Requirement already satisfied: tensorboard-plugin-wit>=1.6.0 in /opt/anaconda3/lib/python3.7/site-packages (from tensorboard<2.3.0,>=2.2.0->tensorflow) (1.6.0.post3)\n",
      "Requirement already satisfied: requests<3,>=2.21.0 in /opt/anaconda3/lib/python3.7/site-packages (from tensorboard<2.3.0,>=2.2.0->tensorflow) (2.22.0)\n",
      "Requirement already satisfied: google-auth<2,>=1.6.3 in /opt/anaconda3/lib/python3.7/site-packages (from tensorboard<2.3.0,>=2.2.0->tensorflow) (1.14.2)\n",
      "Requirement already satisfied: setuptools>=41.0.0 in /opt/anaconda3/lib/python3.7/site-packages (from tensorboard<2.3.0,>=2.2.0->tensorflow) (46.1.3)\n",
      "Requirement already satisfied: google-auth-oauthlib<0.5,>=0.4.1 in /opt/anaconda3/lib/python3.7/site-packages (from tensorboard<2.3.0,>=2.2.0->tensorflow) (0.4.1)\n",
      "Requirement already satisfied: markdown>=2.6.8 in /opt/anaconda3/lib/python3.7/site-packages (from tensorboard<2.3.0,>=2.2.0->tensorflow) (3.2.1)\n",
      "Requirement already satisfied: werkzeug>=0.11.15 in /opt/anaconda3/lib/python3.7/site-packages (from tensorboard<2.3.0,>=2.2.0->tensorflow) (0.16.0)\n",
      "Requirement already satisfied: chardet<3.1.0,>=3.0.2 in /opt/anaconda3/lib/python3.7/site-packages (from requests<3,>=2.21.0->tensorboard<2.3.0,>=2.2.0->tensorflow) (3.0.4)\n",
      "Requirement already satisfied: urllib3!=1.25.0,!=1.25.1,<1.26,>=1.21.1 in /opt/anaconda3/lib/python3.7/site-packages (from requests<3,>=2.21.0->tensorboard<2.3.0,>=2.2.0->tensorflow) (1.24.2)\n",
      "Requirement already satisfied: idna<2.9,>=2.5 in /opt/anaconda3/lib/python3.7/site-packages (from requests<3,>=2.21.0->tensorboard<2.3.0,>=2.2.0->tensorflow) (2.8)\n",
      "Requirement already satisfied: certifi>=2017.4.17 in /opt/anaconda3/lib/python3.7/site-packages (from requests<3,>=2.21.0->tensorboard<2.3.0,>=2.2.0->tensorflow) (2019.9.11)\n",
      "Requirement already satisfied: cachetools<5.0,>=2.0.0 in /opt/anaconda3/lib/python3.7/site-packages (from google-auth<2,>=1.6.3->tensorboard<2.3.0,>=2.2.0->tensorflow) (4.1.0)\n",
      "Requirement already satisfied: rsa<4.1,>=3.1.4 in /opt/anaconda3/lib/python3.7/site-packages (from google-auth<2,>=1.6.3->tensorboard<2.3.0,>=2.2.0->tensorflow) (4.0)\n",
      "Requirement already satisfied: pyasn1-modules>=0.2.1 in /opt/anaconda3/lib/python3.7/site-packages (from google-auth<2,>=1.6.3->tensorboard<2.3.0,>=2.2.0->tensorflow) (0.2.8)\n",
      "Requirement already satisfied: requests-oauthlib>=0.7.0 in /opt/anaconda3/lib/python3.7/site-packages (from google-auth-oauthlib<0.5,>=0.4.1->tensorboard<2.3.0,>=2.2.0->tensorflow) (1.3.0)\n",
      "Requirement already satisfied: pyasn1>=0.1.3 in /opt/anaconda3/lib/python3.7/site-packages (from rsa<4.1,>=3.1.4->google-auth<2,>=1.6.3->tensorboard<2.3.0,>=2.2.0->tensorflow) (0.4.8)\n",
      "Requirement already satisfied: oauthlib>=3.0.0 in /opt/anaconda3/lib/python3.7/site-packages (from requests-oauthlib>=0.7.0->google-auth-oauthlib<0.5,>=0.4.1->tensorboard<2.3.0,>=2.2.0->tensorflow) (3.1.0)\n"
     ]
    }
   ],
   "source": [
    "# !pip install tensorflow"
   ]
  },
  {
   "cell_type": "code",
   "execution_count": 6,
   "metadata": {},
   "outputs": [
    {
     "name": "stdout",
     "output_type": "stream",
     "text": [
      "Requirement already up-to-date: setuptools in /opt/anaconda3/lib/python3.7/site-packages (46.1.3)\n",
      "Note: you may need to restart the kernel to use updated packages.\n"
     ]
    }
   ],
   "source": [
    "# pip install setuptools --upgrade"
   ]
  },
  {
   "cell_type": "code",
   "execution_count": 7,
   "metadata": {},
   "outputs": [
    {
     "ename": "ModuleNotFoundError",
     "evalue": "No module named 'tensorflow.contrib'",
     "output_type": "error",
     "traceback": [
      "\u001b[0;31m---------------------------------------------------------------------------\u001b[0m",
      "\u001b[0;31mModuleNotFoundError\u001b[0m                       Traceback (most recent call last)",
      "\u001b[0;32m<ipython-input-7-afd65f278e24>\u001b[0m in \u001b[0;36m<module>\u001b[0;34m\u001b[0m\n\u001b[0;32m----> 1\u001b[0;31m \u001b[0;32mfrom\u001b[0m \u001b[0mtensorflow\u001b[0m\u001b[0;34m.\u001b[0m\u001b[0mcontrib\u001b[0m\u001b[0;34m.\u001b[0m\u001b[0mkeras\u001b[0m\u001b[0;34m.\u001b[0m\u001b[0mpreprocessing\u001b[0m\u001b[0;34m.\u001b[0m\u001b[0mtext\u001b[0m \u001b[0;32mimport\u001b[0m \u001b[0mTokenizer\u001b[0m\u001b[0;34m\u001b[0m\u001b[0;34m\u001b[0m\u001b[0m\n\u001b[0m",
      "\u001b[0;31mModuleNotFoundError\u001b[0m: No module named 'tensorflow.contrib'"
     ]
    }
   ],
   "source": [
    "# from tensorflow.contrib.keras.preprocessing.text import Tokenizer"
   ]
  },
  {
   "cell_type": "code",
   "execution_count": 8,
   "metadata": {},
   "outputs": [
    {
     "name": "stderr",
     "output_type": "stream",
     "text": [
      "Using TensorFlow backend.\n"
     ]
    }
   ],
   "source": [
    "# DataFrame\n",
    "import pandas as pd\n",
    "\n",
    "# Matplot\n",
    "import matplotlib.pyplot as plt\n",
    "%matplotlib inline\n",
    "\n",
    "# Scikit-learn\n",
    "from sklearn.model_selection import train_test_split\n",
    "from sklearn.preprocessing import LabelEncoder\n",
    "from sklearn.metrics import confusion_matrix, classification_report, accuracy_score\n",
    "from sklearn.manifold import TSNE\n",
    "from sklearn.feature_extraction.text import TfidfVectorizer\n",
    "\n",
    "# Keras\n",
    "from keras.preprocessing.text import Tokenizer\n",
    "from keras.preprocessing.sequence import pad_sequences\n",
    "from keras.models import Sequential\n",
    "from keras.layers import Activation, Dense, Dropout, Embedding, Flatten, Conv1D, MaxPooling1D, LSTM\n",
    "from keras import utils\n",
    "from keras.callbacks import ReduceLROnPlateau, EarlyStopping\n",
    "\n",
    "# nltk\n",
    "import nltk\n",
    "from nltk.corpus import stopwords\n",
    "from  nltk.stem import SnowballStemmer\n",
    "\n",
    "# Word2vec\n",
    "import gensim\n",
    "\n",
    "# Utility\n",
    "import re\n",
    "import numpy as np\n",
    "import os\n",
    "from collections import Counter\n",
    "import logging\n",
    "import time\n",
    "import pickle\n",
    "import itertools"
   ]
  },
  {
   "cell_type": "code",
   "execution_count": 9,
   "metadata": {},
   "outputs": [],
   "source": [
    "#Set log\n",
    "logging.basicConfig(format='%(asctime)s : %(levelname)s : %(message)s', level=logging.INFO)"
   ]
  },
  {
   "cell_type": "code",
   "execution_count": 10,
   "metadata": {},
   "outputs": [
    {
     "name": "stderr",
     "output_type": "stream",
     "text": [
      "[nltk_data] Downloading package stopwords to\n",
      "[nltk_data]     /Users/malachi/nltk_data...\n",
      "[nltk_data]   Unzipping corpora/stopwords.zip.\n"
     ]
    },
    {
     "data": {
      "text/plain": [
       "True"
      ]
     },
     "execution_count": 10,
     "metadata": {},
     "output_type": "execute_result"
    }
   ],
   "source": [
    "nltk.download('stopwords')"
   ]
  },
  {
   "cell_type": "markdown",
   "metadata": {},
   "source": [
    "### Settings"
   ]
  },
  {
   "cell_type": "code",
   "execution_count": 11,
   "metadata": {},
   "outputs": [],
   "source": [
    "# TEXT CLENAING\n",
    "TEXT_CLEANING_RE = \"@\\S+|https?:\\S+|http?:\\S|[^A-Za-z0-9]+\"\n",
    "\n",
    "# WORD2VEC \n",
    "W2V_SIZE = 300\n",
    "W2V_WINDOW = 7\n",
    "W2V_EPOCH = 32\n",
    "W2V_MIN_COUNT = 10\n",
    "\n",
    "# KERAS\n",
    "SEQUENCE_LENGTH = 300\n",
    "EPOCHS = 8\n",
    "BATCH_SIZE = 1024\n",
    "\n",
    "# SENTIMENT\n",
    "POSITIVE = \"POSITIVE\"\n",
    "NEGATIVE = \"NEGATIVE\"\n",
    "NEUTRAL = \"NEUTRAL\"\n",
    "SENTIMENT_THRESHOLDS = (0.4, 0.7)\n",
    "\n",
    "# EXPORT\n",
    "KERAS_MODEL = \"model.h5\"\n",
    "WORD2VEC_MODEL = \"model.w2v\"\n",
    "TOKENIZER_MODEL = \"tokenizer.pkl\"\n",
    "ENCODER_MODEL = \"encoder.pkl\""
   ]
  },
  {
   "cell_type": "markdown",
   "metadata": {},
   "source": [
    "### Read Dataset"
   ]
  },
  {
   "cell_type": "code",
   "execution_count": 13,
   "metadata": {},
   "outputs": [
    {
     "data": {
      "text/html": [
       "<div>\n",
       "<style scoped>\n",
       "    .dataframe tbody tr th:only-of-type {\n",
       "        vertical-align: middle;\n",
       "    }\n",
       "\n",
       "    .dataframe tbody tr th {\n",
       "        vertical-align: top;\n",
       "    }\n",
       "\n",
       "    .dataframe thead th {\n",
       "        text-align: right;\n",
       "    }\n",
       "</style>\n",
       "<table border=\"1\" class=\"dataframe\">\n",
       "  <thead>\n",
       "    <tr style=\"text-align: right;\">\n",
       "      <th></th>\n",
       "      <th>target</th>\n",
       "      <th>id</th>\n",
       "      <th>date</th>\n",
       "      <th>flag</th>\n",
       "      <th>user</th>\n",
       "      <th>text</th>\n",
       "    </tr>\n",
       "  </thead>\n",
       "  <tbody>\n",
       "    <tr>\n",
       "      <th>0</th>\n",
       "      <td>4</td>\n",
       "      <td>3</td>\n",
       "      <td>Mon May 11 03:17:40 UTC 2009</td>\n",
       "      <td>kindle2</td>\n",
       "      <td>tpryan</td>\n",
       "      <td>@stellargirl I loooooooovvvvvveee my Kindle2. ...</td>\n",
       "    </tr>\n",
       "    <tr>\n",
       "      <th>1</th>\n",
       "      <td>4</td>\n",
       "      <td>4</td>\n",
       "      <td>Mon May 11 03:18:03 UTC 2009</td>\n",
       "      <td>kindle2</td>\n",
       "      <td>vcu451</td>\n",
       "      <td>Reading my kindle2...  Love it... Lee childs i...</td>\n",
       "    </tr>\n",
       "    <tr>\n",
       "      <th>2</th>\n",
       "      <td>4</td>\n",
       "      <td>5</td>\n",
       "      <td>Mon May 11 03:18:54 UTC 2009</td>\n",
       "      <td>kindle2</td>\n",
       "      <td>chadfu</td>\n",
       "      <td>Ok, first assesment of the #kindle2 ...it fuck...</td>\n",
       "    </tr>\n",
       "    <tr>\n",
       "      <th>3</th>\n",
       "      <td>4</td>\n",
       "      <td>6</td>\n",
       "      <td>Mon May 11 03:19:04 UTC 2009</td>\n",
       "      <td>kindle2</td>\n",
       "      <td>SIX15</td>\n",
       "      <td>@kenburbary You'll love your Kindle2. I've had...</td>\n",
       "    </tr>\n",
       "    <tr>\n",
       "      <th>4</th>\n",
       "      <td>4</td>\n",
       "      <td>7</td>\n",
       "      <td>Mon May 11 03:21:41 UTC 2009</td>\n",
       "      <td>kindle2</td>\n",
       "      <td>yamarama</td>\n",
       "      <td>@mikefish  Fair enough. But i have the Kindle2...</td>\n",
       "    </tr>\n",
       "  </tbody>\n",
       "</table>\n",
       "</div>"
      ],
      "text/plain": [
       "   target  id                          date     flag      user  \\\n",
       "0       4   3  Mon May 11 03:17:40 UTC 2009  kindle2    tpryan   \n",
       "1       4   4  Mon May 11 03:18:03 UTC 2009  kindle2    vcu451   \n",
       "2       4   5  Mon May 11 03:18:54 UTC 2009  kindle2    chadfu   \n",
       "3       4   6  Mon May 11 03:19:04 UTC 2009  kindle2     SIX15   \n",
       "4       4   7  Mon May 11 03:21:41 UTC 2009  kindle2  yamarama   \n",
       "\n",
       "                                                text  \n",
       "0  @stellargirl I loooooooovvvvvveee my Kindle2. ...  \n",
       "1  Reading my kindle2...  Love it... Lee childs i...  \n",
       "2  Ok, first assesment of the #kindle2 ...it fuck...  \n",
       "3  @kenburbary You'll love your Kindle2. I've had...  \n",
       "4  @mikefish  Fair enough. But i have the Kindle2...  "
      ]
     },
     "execution_count": 13,
     "metadata": {},
     "output_type": "execute_result"
    }
   ],
   "source": [
    "df = pd.read_csv('./sentiment140.csv', header = None, encoding = \"ISO-8859-1\")\n",
    "df.columns = ['target', 'id', 'date', 'flag', 'user', 'text'] #set column names\n",
    "df.head()"
   ]
  },
  {
   "cell_type": "code",
   "execution_count": 14,
   "metadata": {},
   "outputs": [
    {
     "name": "stdout",
     "output_type": "stream",
     "text": [
      "Dataset size: 1600498\n"
     ]
    }
   ],
   "source": [
    "print(\"Dataset size:\", len(df))"
   ]
  },
  {
   "cell_type": "code",
   "execution_count": 15,
   "metadata": {},
   "outputs": [],
   "source": [
    "decode_map = {0: \"NEGATIVE\", 2: \"NEUTRAL\", 4: \"POSITIVE\"}\n",
    "def decode_sentiment(label):\n",
    "    return decode_map[int(label)]"
   ]
  },
  {
   "cell_type": "code",
   "execution_count": 16,
   "metadata": {},
   "outputs": [
    {
     "name": "stdout",
     "output_type": "stream",
     "text": [
      "CPU times: user 647 ms, sys: 8.84 ms, total: 655 ms\n",
      "Wall time: 655 ms\n"
     ]
    }
   ],
   "source": [
    "%%time\n",
    "df.target = df.target.apply(lambda x: decode_sentiment(x))"
   ]
  },
  {
   "cell_type": "code",
   "execution_count": 17,
   "metadata": {},
   "outputs": [
    {
     "data": {
      "text/plain": [
       "Text(0.5, 1.0, 'Dataset labels distribuition')"
      ]
     },
     "execution_count": 17,
     "metadata": {},
     "output_type": "execute_result"
    },
    {
     "data": {
      "image/png": "[encoded data removed]",
      "text/plain": [
       "<Figure size 1152x576 with 1 Axes>"
      ]
     },
     "metadata": {
      "needs_background": "light"
     },
     "output_type": "display_data"
    }
   ],
   "source": [
    "target_cnt = Counter(df.target)\n",
    "\n",
    "plt.figure(figsize=(16,8))\n",
    "plt.bar(target_cnt.keys(), target_cnt.values())\n",
    "plt.title(\"Dataset labels distribuition\")"
   ]
  },
  {
   "cell_type": "markdown",
   "metadata": {},
   "source": [
    "### Pre-Process dataset"
   ]
  },
  {
   "cell_type": "code",
   "execution_count": 18,
   "metadata": {},
   "outputs": [],
   "source": [
    "stop_words = stopwords.words(\"english\")\n",
    "stemmer = SnowballStemmer(\"english\")"
   ]
  },
  {
   "cell_type": "code",
   "execution_count": 19,
   "metadata": {},
   "outputs": [],
   "source": [
    "def preprocess(text, stem=False):\n",
    "    # Remove link,user and special characters\n",
    "    text = re.sub(TEXT_CLEANING_RE, ' ', str(text).lower()).strip()\n",
    "    tokens = []\n",
    "    for token in text.split():\n",
    "        if token not in stop_words:\n",
    "            if stem:\n",
    "                tokens.append(stemmer.stem(token))\n",
    "            else:\n",
    "                tokens.append(token)\n",
    "    return \" \".join(tokens)"
   ]
  },
  {
   "cell_type": "code",
   "execution_count": 20,
   "metadata": {},
   "outputs": [
    {
     "name": "stdout",
     "output_type": "stream",
     "text": [
      "CPU times: user 54.5 s, sys: 227 ms, total: 54.7 s\n",
      "Wall time: 55.2 s\n"
     ]
    }
   ],
   "source": [
    "%%time\n",
    "df.text = df.text.apply(lambda x: preprocess(x))"
   ]
  },
  {
   "cell_type": "markdown",
   "metadata": {},
   "source": [
    "### Split train and test"
   ]
  },
  {
   "cell_type": "code",
   "execution_count": 21,
   "metadata": {},
   "outputs": [
    {
     "name": "stdout",
     "output_type": "stream",
     "text": [
      "TRAIN size: 1280398\n",
      "TEST size: 320100\n"
     ]
    }
   ],
   "source": [
    "TRAIN_SIZE = 0.8\n",
    "\n",
    "df_train, df_test = train_test_split(df, test_size=1-TRAIN_SIZE, random_state=42)\n",
    "print(\"TRAIN size:\", len(df_train))\n",
    "print(\"TEST size:\", len(df_test))"
   ]
  },
  {
   "cell_type": "markdown",
   "metadata": {},
   "source": [
    "### Word2Vec"
   ]
  },
  {
   "cell_type": "code",
   "execution_count": 22,
   "metadata": {},
   "outputs": [
    {
     "name": "stdout",
     "output_type": "stream",
     "text": [
      "CPU times: user 3.09 s, sys: 383 ms, total: 3.47 s\n",
      "Wall time: 3.64 s\n"
     ]
    }
   ],
   "source": [
    "%%time\n",
    "documents = [_text.split() for _text in df_train.text] "
   ]
  },
  {
   "cell_type": "code",
   "execution_count": 23,
   "metadata": {},
   "outputs": [],
   "source": [
    "w2v_model = gensim.models.word2vec.Word2Vec(size=W2V_SIZE, \n",
    "                                            window=W2V_WINDOW, \n",
    "                                            min_count=W2V_MIN_COUNT, \n",
    "                                            workers=8)"
   ]
  },
  {
   "cell_type": "code",
   "execution_count": 24,
   "metadata": {},
   "outputs": [
    {
     "name": "stderr",
     "output_type": "stream",
     "text": [
      "2020-05-07 13:31:30,657 : INFO : collecting all words and their counts\n",
      "2020-05-07 13:31:30,658 : INFO : PROGRESS: at sentence #0, processed 0 words, keeping 0 word types\n",
      "2020-05-07 13:31:30,683 : INFO : PROGRESS: at sentence #10000, processed 72299 words, keeping 13988 word types\n",
      "2020-05-07 13:31:30,724 : INFO : PROGRESS: at sentence #20000, processed 144356 words, keeping 21673 word types\n",
      "2020-05-07 13:31:30,769 : INFO : PROGRESS: at sentence #30000, processed 216850 words, keeping 27642 word types\n",
      "2020-05-07 13:31:30,798 : INFO : PROGRESS: at sentence #40000, processed 288800 words, keeping 33038 word types\n",
      "2020-05-07 13:31:30,838 : INFO : PROGRESS: at sentence #50000, processed 361113 words, keeping 37809 word types\n",
      "2020-05-07 13:31:30,869 : INFO : PROGRESS: at sentence #60000, processed 433923 words, keeping 42290 word types\n",
      "2020-05-07 13:31:30,906 : INFO : PROGRESS: at sentence #70000, processed 505903 words, keeping 46598 word types\n",
      "2020-05-07 13:31:30,939 : INFO : PROGRESS: at sentence #80000, processed 578284 words, keeping 50510 word types\n",
      "2020-05-07 13:31:30,968 : INFO : PROGRESS: at sentence #90000, processed 650797 words, keeping 54512 word types\n",
      "2020-05-07 13:31:30,997 : INFO : PROGRESS: at sentence #100000, processed 722475 words, keeping 58240 word types\n",
      "2020-05-07 13:31:31,044 : INFO : PROGRESS: at sentence #110000, processed 794262 words, keeping 61677 word types\n",
      "2020-05-07 13:31:31,072 : INFO : PROGRESS: at sentence #120000, processed 865939 words, keeping 64983 word types\n",
      "2020-05-07 13:31:31,101 : INFO : PROGRESS: at sentence #130000, processed 937470 words, keeping 68231 word types\n",
      "2020-05-07 13:31:31,131 : INFO : PROGRESS: at sentence #140000, processed 1009502 words, keeping 71416 word types\n",
      "2020-05-07 13:31:31,164 : INFO : PROGRESS: at sentence #150000, processed 1082095 words, keeping 74487 word types\n",
      "2020-05-07 13:31:31,197 : INFO : PROGRESS: at sentence #160000, processed 1153984 words, keeping 77504 word types\n",
      "2020-05-07 13:31:31,230 : INFO : PROGRESS: at sentence #170000, processed 1225757 words, keeping 80537 word types\n",
      "2020-05-07 13:31:31,263 : INFO : PROGRESS: at sentence #180000, processed 1297586 words, keeping 83475 word types\n",
      "2020-05-07 13:31:31,296 : INFO : PROGRESS: at sentence #190000, processed 1369619 words, keeping 86293 word types\n",
      "2020-05-07 13:31:31,333 : INFO : PROGRESS: at sentence #200000, processed 1442104 words, keeping 89213 word types\n",
      "2020-05-07 13:31:31,366 : INFO : PROGRESS: at sentence #210000, processed 1514231 words, keeping 92038 word types\n",
      "2020-05-07 13:31:31,398 : INFO : PROGRESS: at sentence #220000, processed 1585904 words, keeping 94730 word types\n",
      "2020-05-07 13:31:31,429 : INFO : PROGRESS: at sentence #230000, processed 1658670 words, keeping 97372 word types\n",
      "2020-05-07 13:31:31,462 : INFO : PROGRESS: at sentence #240000, processed 1730666 words, keeping 100020 word types\n",
      "2020-05-07 13:31:31,495 : INFO : PROGRESS: at sentence #250000, processed 1803254 words, keeping 102620 word types\n",
      "2020-05-07 13:31:31,531 : INFO : PROGRESS: at sentence #260000, processed 1875579 words, keeping 105080 word types\n",
      "2020-05-07 13:31:31,567 : INFO : PROGRESS: at sentence #270000, processed 1948902 words, keeping 107640 word types\n",
      "2020-05-07 13:31:31,607 : INFO : PROGRESS: at sentence #280000, processed 2020519 words, keeping 110152 word types\n",
      "2020-05-07 13:31:31,672 : INFO : PROGRESS: at sentence #290000, processed 2092912 words, keeping 112646 word types\n",
      "2020-05-07 13:31:31,739 : INFO : PROGRESS: at sentence #300000, processed 2165711 words, keeping 115086 word types\n",
      "2020-05-07 13:31:31,816 : INFO : PROGRESS: at sentence #310000, processed 2238678 words, keeping 117524 word types\n",
      "2020-05-07 13:31:31,917 : INFO : PROGRESS: at sentence #320000, processed 2310836 words, keeping 119960 word types\n",
      "2020-05-07 13:31:31,957 : INFO : PROGRESS: at sentence #330000, processed 2382433 words, keeping 122233 word types\n",
      "2020-05-07 13:31:31,993 : INFO : PROGRESS: at sentence #340000, processed 2454458 words, keeping 124528 word types\n",
      "2020-05-07 13:31:32,029 : INFO : PROGRESS: at sentence #350000, processed 2526029 words, keeping 126864 word types\n",
      "2020-05-07 13:31:32,063 : INFO : PROGRESS: at sentence #360000, processed 2598295 words, keeping 129110 word types\n",
      "2020-05-07 13:31:32,105 : INFO : PROGRESS: at sentence #370000, processed 2670537 words, keeping 131332 word types\n",
      "2020-05-07 13:31:32,138 : INFO : PROGRESS: at sentence #380000, processed 2742227 words, keeping 133539 word types\n",
      "2020-05-07 13:31:32,169 : INFO : PROGRESS: at sentence #390000, processed 2813933 words, keeping 135647 word types\n",
      "2020-05-07 13:31:32,202 : INFO : PROGRESS: at sentence #400000, processed 2885848 words, keeping 137825 word types\n",
      "2020-05-07 13:31:32,236 : INFO : PROGRESS: at sentence #410000, processed 2958005 words, keeping 140098 word types\n",
      "2020-05-07 13:31:32,269 : INFO : PROGRESS: at sentence #420000, processed 3029484 words, keeping 142279 word types\n",
      "2020-05-07 13:31:32,320 : INFO : PROGRESS: at sentence #430000, processed 3101870 words, keeping 144454 word types\n",
      "2020-05-07 13:31:32,353 : INFO : PROGRESS: at sentence #440000, processed 3173973 words, keeping 146606 word types\n",
      "2020-05-07 13:31:32,385 : INFO : PROGRESS: at sentence #450000, processed 3246019 words, keeping 148735 word types\n",
      "2020-05-07 13:31:32,417 : INFO : PROGRESS: at sentence #460000, processed 3316775 words, keeping 150788 word types\n",
      "2020-05-07 13:31:32,451 : INFO : PROGRESS: at sentence #470000, processed 3388143 words, keeping 152854 word types\n",
      "2020-05-07 13:31:32,501 : INFO : PROGRESS: at sentence #480000, processed 3460484 words, keeping 154959 word types\n",
      "2020-05-07 13:31:32,553 : INFO : PROGRESS: at sentence #490000, processed 3531857 words, keeping 156922 word types\n",
      "2020-05-07 13:31:32,607 : INFO : PROGRESS: at sentence #500000, processed 3603766 words, keeping 159048 word types\n",
      "2020-05-07 13:31:32,662 : INFO : PROGRESS: at sentence #510000, processed 3675778 words, keeping 161077 word types\n",
      "2020-05-07 13:31:32,706 : INFO : PROGRESS: at sentence #520000, processed 3748218 words, keeping 163094 word types\n",
      "2020-05-07 13:31:32,751 : INFO : PROGRESS: at sentence #530000, processed 3820869 words, keeping 165155 word types\n",
      "2020-05-07 13:31:32,820 : INFO : PROGRESS: at sentence #540000, processed 3892603 words, keeping 167251 word types\n",
      "2020-05-07 13:31:32,871 : INFO : PROGRESS: at sentence #550000, processed 3964331 words, keeping 169172 word types\n",
      "2020-05-07 13:31:32,969 : INFO : PROGRESS: at sentence #560000, processed 4036119 words, keeping 171096 word types\n",
      "2020-05-07 13:31:33,028 : INFO : PROGRESS: at sentence #570000, processed 4108619 words, keeping 172996 word types\n",
      "2020-05-07 13:31:33,071 : INFO : PROGRESS: at sentence #580000, processed 4180273 words, keeping 174911 word types\n",
      "2020-05-07 13:31:33,110 : INFO : PROGRESS: at sentence #590000, processed 4252459 words, keeping 176799 word types\n",
      "2020-05-07 13:31:33,148 : INFO : PROGRESS: at sentence #600000, processed 4324876 words, keeping 178667 word types\n",
      "2020-05-07 13:31:33,190 : INFO : PROGRESS: at sentence #610000, processed 4396619 words, keeping 180565 word types\n",
      "2020-05-07 13:31:33,217 : INFO : PROGRESS: at sentence #620000, processed 4469044 words, keeping 182494 word types\n",
      "2020-05-07 13:31:33,247 : INFO : PROGRESS: at sentence #630000, processed 4540589 words, keeping 184374 word types\n",
      "2020-05-07 13:31:33,283 : INFO : PROGRESS: at sentence #640000, processed 4612111 words, keeping 186230 word types\n",
      "2020-05-07 13:31:33,324 : INFO : PROGRESS: at sentence #650000, processed 4683809 words, keeping 188142 word types\n",
      "2020-05-07 13:31:33,356 : INFO : PROGRESS: at sentence #660000, processed 4756694 words, keeping 189938 word types\n",
      "2020-05-07 13:31:33,385 : INFO : PROGRESS: at sentence #670000, processed 4828557 words, keeping 191786 word types\n",
      "2020-05-07 13:31:33,429 : INFO : PROGRESS: at sentence #680000, processed 4900358 words, keeping 193641 word types\n",
      "2020-05-07 13:31:33,460 : INFO : PROGRESS: at sentence #690000, processed 4972397 words, keeping 195543 word types\n",
      "2020-05-07 13:31:33,489 : INFO : PROGRESS: at sentence #700000, processed 5044581 words, keeping 197376 word types\n",
      "2020-05-07 13:31:33,522 : INFO : PROGRESS: at sentence #710000, processed 5117414 words, keeping 199205 word types\n"
     ]
    },
    {
     "name": "stderr",
     "output_type": "stream",
     "text": [
      "2020-05-07 13:31:33,559 : INFO : PROGRESS: at sentence #720000, processed 5189605 words, keeping 201053 word types\n",
      "2020-05-07 13:31:33,612 : INFO : PROGRESS: at sentence #730000, processed 5261061 words, keeping 202841 word types\n",
      "2020-05-07 13:31:33,653 : INFO : PROGRESS: at sentence #740000, processed 5333884 words, keeping 204555 word types\n",
      "2020-05-07 13:31:33,689 : INFO : PROGRESS: at sentence #750000, processed 5406843 words, keeping 206336 word types\n",
      "2020-05-07 13:31:33,739 : INFO : PROGRESS: at sentence #760000, processed 5478758 words, keeping 208082 word types\n",
      "2020-05-07 13:31:33,800 : INFO : PROGRESS: at sentence #770000, processed 5550719 words, keeping 209807 word types\n",
      "2020-05-07 13:31:33,925 : INFO : PROGRESS: at sentence #780000, processed 5623274 words, keeping 211497 word types\n",
      "2020-05-07 13:31:34,019 : INFO : PROGRESS: at sentence #790000, processed 5695216 words, keeping 213237 word types\n",
      "2020-05-07 13:31:34,114 : INFO : PROGRESS: at sentence #800000, processed 5767243 words, keeping 214940 word types\n",
      "2020-05-07 13:31:34,189 : INFO : PROGRESS: at sentence #810000, processed 5839266 words, keeping 216744 word types\n",
      "2020-05-07 13:31:34,247 : INFO : PROGRESS: at sentence #820000, processed 5911266 words, keeping 218423 word types\n",
      "2020-05-07 13:31:34,285 : INFO : PROGRESS: at sentence #830000, processed 5983005 words, keeping 220102 word types\n",
      "2020-05-07 13:31:34,334 : INFO : PROGRESS: at sentence #840000, processed 6055046 words, keeping 221705 word types\n",
      "2020-05-07 13:31:34,364 : INFO : PROGRESS: at sentence #850000, processed 6127117 words, keeping 223397 word types\n",
      "2020-05-07 13:31:34,394 : INFO : PROGRESS: at sentence #860000, processed 6199024 words, keeping 225117 word types\n",
      "2020-05-07 13:31:34,432 : INFO : PROGRESS: at sentence #870000, processed 6272001 words, keeping 226849 word types\n",
      "2020-05-07 13:31:34,480 : INFO : PROGRESS: at sentence #880000, processed 6343870 words, keeping 228563 word types\n",
      "2020-05-07 13:31:34,523 : INFO : PROGRESS: at sentence #890000, processed 6415535 words, keeping 230196 word types\n",
      "2020-05-07 13:31:34,583 : INFO : PROGRESS: at sentence #900000, processed 6487398 words, keeping 231884 word types\n",
      "2020-05-07 13:31:34,637 : INFO : PROGRESS: at sentence #910000, processed 6559747 words, keeping 233547 word types\n",
      "2020-05-07 13:31:34,721 : INFO : PROGRESS: at sentence #920000, processed 6631635 words, keeping 235169 word types\n",
      "2020-05-07 13:31:34,744 : INFO : PROGRESS: at sentence #930000, processed 6704311 words, keeping 236831 word types\n",
      "2020-05-07 13:31:34,783 : INFO : PROGRESS: at sentence #940000, processed 6776337 words, keeping 238418 word types\n",
      "2020-05-07 13:31:34,816 : INFO : PROGRESS: at sentence #950000, processed 6848810 words, keeping 240029 word types\n",
      "2020-05-07 13:31:34,855 : INFO : PROGRESS: at sentence #960000, processed 6921452 words, keeping 241647 word types\n",
      "2020-05-07 13:31:34,904 : INFO : PROGRESS: at sentence #970000, processed 6993825 words, keeping 243302 word types\n",
      "2020-05-07 13:31:34,959 : INFO : PROGRESS: at sentence #980000, processed 7066417 words, keeping 244865 word types\n",
      "2020-05-07 13:31:35,016 : INFO : PROGRESS: at sentence #990000, processed 7137914 words, keeping 246505 word types\n",
      "2020-05-07 13:31:35,070 : INFO : PROGRESS: at sentence #1000000, processed 7210275 words, keeping 248033 word types\n",
      "2020-05-07 13:31:35,120 : INFO : PROGRESS: at sentence #1010000, processed 7282339 words, keeping 249618 word types\n",
      "2020-05-07 13:31:35,189 : INFO : PROGRESS: at sentence #1020000, processed 7354498 words, keeping 251202 word types\n",
      "2020-05-07 13:31:35,280 : INFO : PROGRESS: at sentence #1030000, processed 7426421 words, keeping 252832 word types\n",
      "2020-05-07 13:31:35,339 : INFO : PROGRESS: at sentence #1040000, processed 7498272 words, keeping 254404 word types\n",
      "2020-05-07 13:31:35,387 : INFO : PROGRESS: at sentence #1050000, processed 7570078 words, keeping 255968 word types\n",
      "2020-05-07 13:31:35,461 : INFO : PROGRESS: at sentence #1060000, processed 7641911 words, keeping 257515 word types\n",
      "2020-05-07 13:31:35,526 : INFO : PROGRESS: at sentence #1070000, processed 7714038 words, keeping 259082 word types\n",
      "2020-05-07 13:31:35,587 : INFO : PROGRESS: at sentence #1080000, processed 7785511 words, keeping 260630 word types\n",
      "2020-05-07 13:31:35,620 : INFO : PROGRESS: at sentence #1090000, processed 7857261 words, keeping 262246 word types\n",
      "2020-05-07 13:31:35,653 : INFO : PROGRESS: at sentence #1100000, processed 7929368 words, keeping 263730 word types\n",
      "2020-05-07 13:31:35,694 : INFO : PROGRESS: at sentence #1110000, processed 8002440 words, keeping 265331 word types\n",
      "2020-05-07 13:31:35,759 : INFO : PROGRESS: at sentence #1120000, processed 8074883 words, keeping 266899 word types\n",
      "2020-05-07 13:31:35,847 : INFO : PROGRESS: at sentence #1130000, processed 8147051 words, keeping 268452 word types\n",
      "2020-05-07 13:31:35,929 : INFO : PROGRESS: at sentence #1140000, processed 8219209 words, keeping 269927 word types\n",
      "2020-05-07 13:31:35,973 : INFO : PROGRESS: at sentence #1150000, processed 8291705 words, keeping 271449 word types\n",
      "2020-05-07 13:31:36,068 : INFO : PROGRESS: at sentence #1160000, processed 8363678 words, keeping 272945 word types\n",
      "2020-05-07 13:31:36,135 : INFO : PROGRESS: at sentence #1170000, processed 8435835 words, keeping 274451 word types\n",
      "2020-05-07 13:31:36,188 : INFO : PROGRESS: at sentence #1180000, processed 8507559 words, keeping 275936 word types\n",
      "2020-05-07 13:31:36,243 : INFO : PROGRESS: at sentence #1190000, processed 8579269 words, keeping 277463 word types\n",
      "2020-05-07 13:31:36,347 : INFO : PROGRESS: at sentence #1200000, processed 8651197 words, keeping 278936 word types\n",
      "2020-05-07 13:31:36,413 : INFO : PROGRESS: at sentence #1210000, processed 8723898 words, keeping 280495 word types\n",
      "2020-05-07 13:31:36,481 : INFO : PROGRESS: at sentence #1220000, processed 8796245 words, keeping 282046 word types\n",
      "2020-05-07 13:31:36,509 : INFO : PROGRESS: at sentence #1230000, processed 8868703 words, keeping 283573 word types\n",
      "2020-05-07 13:31:36,544 : INFO : PROGRESS: at sentence #1240000, processed 8940354 words, keeping 285072 word types\n",
      "2020-05-07 13:31:36,618 : INFO : PROGRESS: at sentence #1250000, processed 9013026 words, keeping 286509 word types\n",
      "2020-05-07 13:31:36,663 : INFO : PROGRESS: at sentence #1260000, processed 9085370 words, keeping 287979 word types\n",
      "2020-05-07 13:31:36,690 : INFO : PROGRESS: at sentence #1270000, processed 9157639 words, keeping 289457 word types\n",
      "2020-05-07 13:31:36,725 : INFO : PROGRESS: at sentence #1280000, processed 9229838 words, keeping 290900 word types\n",
      "2020-05-07 13:31:36,730 : INFO : collected 290956 word types from a corpus of 9232906 raw words and 1280398 sentences\n",
      "2020-05-07 13:31:36,731 : INFO : Loading a fresh vocabulary\n",
      "2020-05-07 13:31:37,048 : INFO : effective_min_count=10 retains 30385 unique words (10% of original 290956, drops 260571)\n",
      "2020-05-07 13:31:37,049 : INFO : effective_min_count=10 leaves 8786365 word corpus (95% of original 9232906, drops 446541)\n",
      "2020-05-07 13:31:37,268 : INFO : deleting the raw counts dictionary of 290956 items\n",
      "2020-05-07 13:31:37,279 : INFO : sample=0.001 downsamples 44 most-common words\n",
      "2020-05-07 13:31:37,281 : INFO : downsampling leaves estimated 8229058 word corpus (93.7% of prior 8786365)\n",
      "2020-05-07 13:31:37,445 : INFO : estimated required memory for 30385 words and 300 dimensions: 88116500 bytes\n",
      "2020-05-07 13:31:37,446 : INFO : resetting layer weights\n"
     ]
    }
   ],
   "source": [
    "documents = [_text.split() for _text in df_train.text] \n",
    "w2v_model.build_vocab(documents)"
   ]
  },
  {
   "cell_type": "code",
   "execution_count": 25,
   "metadata": {},
   "outputs": [
    {
     "name": "stdout",
     "output_type": "stream",
     "text": [
      "Vocab size 30385\n"
     ]
    }
   ],
   "source": [
    "words = w2v_model.wv.vocab.keys()\n",
    "vocab_size = len(words)\n",
    "print(\"Vocab size\", vocab_size)"
   ]
  },
  {
   "cell_type": "code",
   "execution_count": 26,
   "metadata": {},
   "outputs": [
    {
     "name": "stderr",
     "output_type": "stream",
     "text": [
      "2020-05-07 13:31:46,706 : INFO : training model with 8 workers on 30385 vocabulary and 300 features, using sg=0 hs=0 sample=0.001 negative=5 window=7\n",
      "2020-05-07 13:31:47,772 : INFO : EPOCH 1 - PROGRESS: at 5.61% examples, 441596 words/s, in_qsize 16, out_qsize 0\n",
      "2020-05-07 13:31:48,811 : INFO : EPOCH 1 - PROGRESS: at 12.77% examples, 503467 words/s, in_qsize 14, out_qsize 1\n",
      "2020-05-07 13:31:49,850 : INFO : EPOCH 1 - PROGRESS: at 20.24% examples, 532843 words/s, in_qsize 16, out_qsize 1\n",
      "2020-05-07 13:31:50,920 : INFO : EPOCH 1 - PROGRESS: at 26.49% examples, 520127 words/s, in_qsize 15, out_qsize 0\n",
      "2020-05-07 13:31:51,953 : INFO : EPOCH 1 - PROGRESS: at 31.93% examples, 502624 words/s, in_qsize 13, out_qsize 2\n",
      "2020-05-07 13:31:52,976 : INFO : EPOCH 1 - PROGRESS: at 38.67% examples, 508722 words/s, in_qsize 15, out_qsize 0\n",
      "2020-05-07 13:31:54,044 : INFO : EPOCH 1 - PROGRESS: at 45.71% examples, 513519 words/s, in_qsize 16, out_qsize 1\n",
      "2020-05-07 13:31:55,047 : INFO : EPOCH 1 - PROGRESS: at 53.08% examples, 524415 words/s, in_qsize 16, out_qsize 0\n",
      "2020-05-07 13:31:56,094 : INFO : EPOCH 1 - PROGRESS: at 60.32% examples, 529532 words/s, in_qsize 16, out_qsize 1\n",
      "2020-05-07 13:31:57,156 : INFO : EPOCH 1 - PROGRESS: at 67.68% examples, 533740 words/s, in_qsize 16, out_qsize 0\n",
      "2020-05-07 13:31:58,157 : INFO : EPOCH 1 - PROGRESS: at 73.31% examples, 527545 words/s, in_qsize 14, out_qsize 1\n",
      "2020-05-07 13:31:59,158 : INFO : EPOCH 1 - PROGRESS: at 79.80% examples, 528027 words/s, in_qsize 15, out_qsize 0\n",
      "2020-05-07 13:32:00,225 : INFO : EPOCH 1 - PROGRESS: at 84.14% examples, 512687 words/s, in_qsize 14, out_qsize 1\n",
      "2020-05-07 13:32:01,240 : INFO : EPOCH 1 - PROGRESS: at 90.40% examples, 512444 words/s, in_qsize 14, out_qsize 1\n",
      "2020-05-07 13:32:02,242 : INFO : EPOCH 1 - PROGRESS: at 95.50% examples, 506356 words/s, in_qsize 15, out_qsize 0\n",
      "2020-05-07 13:32:02,901 : INFO : worker thread finished; awaiting finish of 7 more threads\n",
      "2020-05-07 13:32:02,906 : INFO : worker thread finished; awaiting finish of 6 more threads\n",
      "2020-05-07 13:32:02,910 : INFO : worker thread finished; awaiting finish of 5 more threads\n",
      "2020-05-07 13:32:02,967 : INFO : worker thread finished; awaiting finish of 4 more threads\n",
      "2020-05-07 13:32:02,975 : INFO : worker thread finished; awaiting finish of 3 more threads\n",
      "2020-05-07 13:32:03,004 : INFO : worker thread finished; awaiting finish of 2 more threads\n",
      "2020-05-07 13:32:03,017 : INFO : worker thread finished; awaiting finish of 1 more threads\n",
      "2020-05-07 13:32:03,059 : INFO : worker thread finished; awaiting finish of 0 more threads\n",
      "2020-05-07 13:32:03,059 : INFO : EPOCH - 1 : training on 9232906 raw words (8229816 effective words) took 16.3s, 503791 effective words/s\n",
      "2020-05-07 13:32:04,091 : INFO : EPOCH 2 - PROGRESS: at 5.62% examples, 458980 words/s, in_qsize 15, out_qsize 0\n",
      "2020-05-07 13:32:05,128 : INFO : EPOCH 2 - PROGRESS: at 11.90% examples, 478935 words/s, in_qsize 16, out_qsize 0\n",
      "2020-05-07 13:32:06,135 : INFO : EPOCH 2 - PROGRESS: at 17.97% examples, 484376 words/s, in_qsize 16, out_qsize 0\n",
      "2020-05-07 13:32:07,237 : INFO : EPOCH 2 - PROGRESS: at 23.57% examples, 467463 words/s, in_qsize 16, out_qsize 0\n",
      "2020-05-07 13:32:08,240 : INFO : EPOCH 2 - PROGRESS: at 28.23% examples, 450875 words/s, in_qsize 15, out_qsize 0\n",
      "2020-05-07 13:32:09,292 : INFO : EPOCH 2 - PROGRESS: at 31.92% examples, 423333 words/s, in_qsize 15, out_qsize 4\n",
      "2020-05-07 13:32:10,305 : INFO : EPOCH 2 - PROGRESS: at 36.27% examples, 413306 words/s, in_qsize 13, out_qsize 2\n",
      "2020-05-07 13:32:11,305 : INFO : EPOCH 2 - PROGRESS: at 41.05% examples, 410651 words/s, in_qsize 16, out_qsize 0\n",
      "2020-05-07 13:32:12,307 : INFO : EPOCH 2 - PROGRESS: at 46.58% examples, 415349 words/s, in_qsize 15, out_qsize 0\n",
      "2020-05-07 13:32:13,329 : INFO : EPOCH 2 - PROGRESS: at 53.19% examples, 426915 words/s, in_qsize 15, out_qsize 0\n",
      "2020-05-07 13:32:14,410 : INFO : EPOCH 2 - PROGRESS: at 58.80% examples, 427092 words/s, in_qsize 11, out_qsize 4\n",
      "2020-05-07 13:32:15,515 : INFO : EPOCH 2 - PROGRESS: at 65.20% examples, 431412 words/s, in_qsize 16, out_qsize 0\n",
      "2020-05-07 13:32:16,526 : INFO : EPOCH 2 - PROGRESS: at 72.23% examples, 442036 words/s, in_qsize 15, out_qsize 0\n",
      "2020-05-07 13:32:17,535 : INFO : EPOCH 2 - PROGRESS: at 77.53% examples, 441387 words/s, in_qsize 16, out_qsize 0\n",
      "2020-05-07 13:32:18,610 : INFO : EPOCH 2 - PROGRESS: at 81.64% examples, 432608 words/s, in_qsize 15, out_qsize 0\n",
      "2020-05-07 13:32:19,610 : INFO : EPOCH 2 - PROGRESS: at 86.31% examples, 429598 words/s, in_qsize 15, out_qsize 3\n",
      "2020-05-07 13:32:20,642 : INFO : EPOCH 2 - PROGRESS: at 91.82% examples, 430251 words/s, in_qsize 15, out_qsize 1\n",
      "2020-05-07 13:32:21,659 : INFO : EPOCH 2 - PROGRESS: at 98.31% examples, 435486 words/s, in_qsize 15, out_qsize 0\n",
      "2020-05-07 13:32:21,769 : INFO : worker thread finished; awaiting finish of 7 more threads\n",
      "2020-05-07 13:32:21,794 : INFO : worker thread finished; awaiting finish of 6 more threads\n",
      "2020-05-07 13:32:21,799 : INFO : worker thread finished; awaiting finish of 5 more threads\n",
      "2020-05-07 13:32:21,884 : INFO : worker thread finished; awaiting finish of 4 more threads\n",
      "2020-05-07 13:32:21,886 : INFO : worker thread finished; awaiting finish of 3 more threads\n",
      "2020-05-07 13:32:21,893 : INFO : worker thread finished; awaiting finish of 2 more threads\n",
      "2020-05-07 13:32:21,902 : INFO : worker thread finished; awaiting finish of 1 more threads\n",
      "2020-05-07 13:32:21,907 : INFO : worker thread finished; awaiting finish of 0 more threads\n",
      "2020-05-07 13:32:21,908 : INFO : EPOCH - 2 : training on 9232906 raw words (8229897 effective words) took 18.8s, 437160 effective words/s\n",
      "2020-05-07 13:32:22,940 : INFO : EPOCH 3 - PROGRESS: at 5.08% examples, 417520 words/s, in_qsize 16, out_qsize 0\n",
      "2020-05-07 13:32:23,991 : INFO : EPOCH 3 - PROGRESS: at 10.93% examples, 438033 words/s, in_qsize 14, out_qsize 1\n",
      "2020-05-07 13:32:25,019 : INFO : EPOCH 3 - PROGRESS: at 17.32% examples, 462494 words/s, in_qsize 15, out_qsize 0\n",
      "2020-05-07 13:32:26,034 : INFO : EPOCH 3 - PROGRESS: at 22.39% examples, 450217 words/s, in_qsize 15, out_qsize 0\n",
      "2020-05-07 13:32:27,034 : INFO : EPOCH 3 - PROGRESS: at 27.58% examples, 445731 words/s, in_qsize 13, out_qsize 2\n",
      "2020-05-07 13:32:28,053 : INFO : EPOCH 3 - PROGRESS: at 32.90% examples, 442875 words/s, in_qsize 15, out_qsize 0\n",
      "2020-05-07 13:32:29,062 : INFO : EPOCH 3 - PROGRESS: at 39.86% examples, 460121 words/s, in_qsize 14, out_qsize 2\n",
      "2020-05-07 13:32:30,098 : INFO : EPOCH 3 - PROGRESS: at 46.89% examples, 472664 words/s, in_qsize 15, out_qsize 0\n",
      "2020-05-07 13:32:31,102 : INFO : EPOCH 3 - PROGRESS: at 54.38% examples, 487930 words/s, in_qsize 15, out_qsize 0\n",
      "2020-05-07 13:32:32,114 : INFO : EPOCH 3 - PROGRESS: at 61.08% examples, 493719 words/s, in_qsize 16, out_qsize 0\n",
      "2020-05-07 13:32:33,146 : INFO : EPOCH 3 - PROGRESS: at 65.74% examples, 482437 words/s, in_qsize 14, out_qsize 3\n",
      "2020-05-07 13:32:34,152 : INFO : EPOCH 3 - PROGRESS: at 72.02% examples, 485025 words/s, in_qsize 15, out_qsize 0\n",
      "2020-05-07 13:32:35,166 : INFO : EPOCH 3 - PROGRESS: at 79.47% examples, 494296 words/s, in_qsize 16, out_qsize 0\n",
      "2020-05-07 13:32:36,194 : INFO : EPOCH 3 - PROGRESS: at 86.63% examples, 499888 words/s, in_qsize 15, out_qsize 0\n",
      "2020-05-07 13:32:37,199 : INFO : EPOCH 3 - PROGRESS: at 93.56% examples, 504339 words/s, in_qsize 13, out_qsize 2\n",
      "2020-05-07 13:32:38,018 : INFO : worker thread finished; awaiting finish of 7 more threads\n",
      "2020-05-07 13:32:38,020 : INFO : worker thread finished; awaiting finish of 6 more threads\n",
      "2020-05-07 13:32:38,025 : INFO : worker thread finished; awaiting finish of 5 more threads\n",
      "2020-05-07 13:32:38,027 : INFO : worker thread finished; awaiting finish of 4 more threads\n",
      "2020-05-07 13:32:38,040 : INFO : worker thread finished; awaiting finish of 3 more threads\n",
      "2020-05-07 13:32:38,081 : INFO : worker thread finished; awaiting finish of 2 more threads\n",
      "2020-05-07 13:32:38,101 : INFO : worker thread finished; awaiting finish of 1 more threads\n",
      "2020-05-07 13:32:38,122 : INFO : worker thread finished; awaiting finish of 0 more threads\n",
      "2020-05-07 13:32:38,123 : INFO : EPOCH - 3 : training on 9232906 raw words (8228786 effective words) took 16.2s, 508419 effective words/s\n"
     ]
    },
    {
     "name": "stderr",
     "output_type": "stream",
     "text": [
      "2020-05-07 13:32:39,172 : INFO : EPOCH 4 - PROGRESS: at 6.48% examples, 524733 words/s, in_qsize 12, out_qsize 3\n",
      "2020-05-07 13:32:40,185 : INFO : EPOCH 4 - PROGRESS: at 13.75% examples, 556735 words/s, in_qsize 16, out_qsize 1\n",
      "2020-05-07 13:32:41,186 : INFO : EPOCH 4 - PROGRESS: at 20.98% examples, 569890 words/s, in_qsize 15, out_qsize 0\n",
      "2020-05-07 13:32:42,187 : INFO : EPOCH 4 - PROGRESS: at 27.69% examples, 565506 words/s, in_qsize 16, out_qsize 1\n",
      "2020-05-07 13:32:43,196 : INFO : EPOCH 4 - PROGRESS: at 34.74% examples, 567086 words/s, in_qsize 14, out_qsize 1\n",
      "2020-05-07 13:32:44,205 : INFO : EPOCH 4 - PROGRESS: at 41.70% examples, 566709 words/s, in_qsize 14, out_qsize 1\n",
      "2020-05-07 13:32:45,227 : INFO : EPOCH 4 - PROGRESS: at 46.36% examples, 539011 words/s, in_qsize 16, out_qsize 0\n",
      "2020-05-07 13:32:46,241 : INFO : EPOCH 4 - PROGRESS: at 50.91% examples, 517789 words/s, in_qsize 14, out_qsize 1\n",
      "2020-05-07 13:32:47,252 : INFO : EPOCH 4 - PROGRESS: at 56.87% examples, 514057 words/s, in_qsize 14, out_qsize 1\n",
      "2020-05-07 13:32:48,267 : INFO : EPOCH 4 - PROGRESS: at 63.24% examples, 514436 words/s, in_qsize 16, out_qsize 0\n",
      "2020-05-07 13:32:49,275 : INFO : EPOCH 4 - PROGRESS: at 70.61% examples, 522268 words/s, in_qsize 15, out_qsize 0\n",
      "2020-05-07 13:32:50,287 : INFO : EPOCH 4 - PROGRESS: at 76.01% examples, 515477 words/s, in_qsize 13, out_qsize 4\n",
      "2020-05-07 13:32:51,309 : INFO : EPOCH 4 - PROGRESS: at 80.88% examples, 505833 words/s, in_qsize 16, out_qsize 0\n",
      "2020-05-07 13:32:52,317 : INFO : EPOCH 4 - PROGRESS: at 85.34% examples, 495601 words/s, in_qsize 15, out_qsize 0\n",
      "2020-05-07 13:32:53,352 : INFO : EPOCH 4 - PROGRESS: at 91.60% examples, 495876 words/s, in_qsize 15, out_qsize 0\n",
      "2020-05-07 13:32:54,360 : INFO : EPOCH 4 - PROGRESS: at 98.85% examples, 501870 words/s, in_qsize 11, out_qsize 0\n",
      "2020-05-07 13:32:54,442 : INFO : worker thread finished; awaiting finish of 7 more threads\n",
      "2020-05-07 13:32:54,490 : INFO : worker thread finished; awaiting finish of 6 more threads\n",
      "2020-05-07 13:32:54,515 : INFO : worker thread finished; awaiting finish of 5 more threads\n",
      "2020-05-07 13:32:54,532 : INFO : worker thread finished; awaiting finish of 4 more threads\n",
      "2020-05-07 13:32:54,543 : INFO : worker thread finished; awaiting finish of 3 more threads\n",
      "2020-05-07 13:32:54,545 : INFO : worker thread finished; awaiting finish of 2 more threads\n",
      "2020-05-07 13:32:54,559 : INFO : worker thread finished; awaiting finish of 1 more threads\n",
      "2020-05-07 13:32:54,573 : INFO : worker thread finished; awaiting finish of 0 more threads\n",
      "2020-05-07 13:32:54,574 : INFO : EPOCH - 4 : training on 9232906 raw words (8229066 effective words) took 16.4s, 501150 effective words/s\n",
      "2020-05-07 13:32:55,598 : INFO : EPOCH 5 - PROGRESS: at 5.40% examples, 442980 words/s, in_qsize 15, out_qsize 0\n",
      "2020-05-07 13:32:56,613 : INFO : EPOCH 5 - PROGRESS: at 9.41% examples, 383495 words/s, in_qsize 15, out_qsize 0\n",
      "2020-05-07 13:32:57,617 : INFO : EPOCH 5 - PROGRESS: at 13.76% examples, 374034 words/s, in_qsize 16, out_qsize 0\n",
      "2020-05-07 13:32:58,652 : INFO : EPOCH 5 - PROGRESS: at 17.86% examples, 362084 words/s, in_qsize 13, out_qsize 2\n",
      "2020-05-07 13:32:59,709 : INFO : EPOCH 5 - PROGRESS: at 22.61% examples, 363982 words/s, in_qsize 11, out_qsize 4\n",
      "2020-05-07 13:33:00,755 : INFO : EPOCH 5 - PROGRESS: at 27.80% examples, 371566 words/s, in_qsize 15, out_qsize 0\n",
      "2020-05-07 13:33:01,777 : INFO : EPOCH 5 - PROGRESS: at 34.42% examples, 394324 words/s, in_qsize 15, out_qsize 0\n",
      "2020-05-07 13:33:02,779 : INFO : EPOCH 5 - PROGRESS: at 41.70% examples, 418911 words/s, in_qsize 16, out_qsize 0\n",
      "2020-05-07 13:33:03,787 : INFO : EPOCH 5 - PROGRESS: at 47.87% examples, 428229 words/s, in_qsize 14, out_qsize 1\n",
      "2020-05-07 13:33:04,791 : INFO : EPOCH 5 - PROGRESS: at 54.60% examples, 440226 words/s, in_qsize 16, out_qsize 2\n",
      "2020-05-07 13:33:05,812 : INFO : EPOCH 5 - PROGRESS: at 59.89% examples, 439078 words/s, in_qsize 14, out_qsize 1\n",
      "2020-05-07 13:33:06,819 : INFO : EPOCH 5 - PROGRESS: at 67.15% examples, 451735 words/s, in_qsize 16, out_qsize 0\n",
      "2020-05-07 13:33:07,822 : INFO : EPOCH 5 - PROGRESS: at 72.23% examples, 449133 words/s, in_qsize 15, out_qsize 0\n",
      "2020-05-07 13:33:08,845 : INFO : EPOCH 5 - PROGRESS: at 79.25% examples, 457510 words/s, in_qsize 16, out_qsize 0\n",
      "2020-05-07 13:33:09,858 : INFO : EPOCH 5 - PROGRESS: at 86.63% examples, 466846 words/s, in_qsize 15, out_qsize 0\n",
      "2020-05-07 13:33:10,859 : INFO : EPOCH 5 - PROGRESS: at 93.67% examples, 473716 words/s, in_qsize 15, out_qsize 0\n",
      "2020-05-07 13:33:11,664 : INFO : worker thread finished; awaiting finish of 7 more threads\n",
      "2020-05-07 13:33:11,730 : INFO : worker thread finished; awaiting finish of 6 more threads\n",
      "2020-05-07 13:33:11,742 : INFO : worker thread finished; awaiting finish of 5 more threads\n",
      "2020-05-07 13:33:11,774 : INFO : worker thread finished; awaiting finish of 4 more threads\n",
      "2020-05-07 13:33:11,797 : INFO : worker thread finished; awaiting finish of 3 more threads\n",
      "2020-05-07 13:33:11,798 : INFO : worker thread finished; awaiting finish of 2 more threads\n",
      "2020-05-07 13:33:11,801 : INFO : worker thread finished; awaiting finish of 1 more threads\n",
      "2020-05-07 13:33:11,802 : INFO : worker thread finished; awaiting finish of 0 more threads\n",
      "2020-05-07 13:33:11,803 : INFO : EPOCH - 5 : training on 9232906 raw words (8228711 effective words) took 17.2s, 478120 effective words/s\n",
      "2020-05-07 13:33:12,846 : INFO : EPOCH 6 - PROGRESS: at 6.48% examples, 525630 words/s, in_qsize 14, out_qsize 1\n",
      "2020-05-07 13:33:13,893 : INFO : EPOCH 6 - PROGRESS: at 13.43% examples, 535141 words/s, in_qsize 16, out_qsize 1\n",
      "2020-05-07 13:33:14,939 : INFO : EPOCH 6 - PROGRESS: at 20.56% examples, 544362 words/s, in_qsize 16, out_qsize 0\n",
      "2020-05-07 13:33:15,942 : INFO : EPOCH 6 - PROGRESS: at 27.80% examples, 556814 words/s, in_qsize 15, out_qsize 0\n",
      "2020-05-07 13:33:16,956 : INFO : EPOCH 6 - PROGRESS: at 34.63% examples, 556167 words/s, in_qsize 14, out_qsize 1\n",
      "2020-05-07 13:33:17,961 : INFO : EPOCH 6 - PROGRESS: at 42.24% examples, 566637 words/s, in_qsize 14, out_qsize 1\n",
      "2020-05-07 13:33:18,981 : INFO : EPOCH 6 - PROGRESS: at 49.18% examples, 565573 words/s, in_qsize 15, out_qsize 0\n",
      "2020-05-07 13:33:19,990 : INFO : EPOCH 6 - PROGRESS: at 56.54% examples, 569867 words/s, in_qsize 15, out_qsize 0\n",
      "2020-05-07 13:33:20,990 : INFO : EPOCH 6 - PROGRESS: at 63.68% examples, 571843 words/s, in_qsize 15, out_qsize 0\n",
      "2020-05-07 13:33:22,040 : INFO : EPOCH 6 - PROGRESS: at 70.83% examples, 570672 words/s, in_qsize 15, out_qsize 0\n",
      "2020-05-07 13:33:23,047 : INFO : EPOCH 6 - PROGRESS: at 77.42% examples, 567924 words/s, in_qsize 15, out_qsize 0\n",
      "2020-05-07 13:33:24,057 : INFO : EPOCH 6 - PROGRESS: at 81.43% examples, 547952 words/s, in_qsize 14, out_qsize 2\n",
      "2020-05-07 13:33:25,058 : INFO : EPOCH 6 - PROGRESS: at 87.60% examples, 544863 words/s, in_qsize 12, out_qsize 3\n",
      "2020-05-07 13:33:26,090 : INFO : EPOCH 6 - PROGRESS: at 93.88% examples, 541689 words/s, in_qsize 15, out_qsize 0\n",
      "2020-05-07 13:33:26,975 : INFO : worker thread finished; awaiting finish of 7 more threads\n",
      "2020-05-07 13:33:26,979 : INFO : worker thread finished; awaiting finish of 6 more threads\n",
      "2020-05-07 13:33:26,980 : INFO : worker thread finished; awaiting finish of 5 more threads\n",
      "2020-05-07 13:33:26,992 : INFO : worker thread finished; awaiting finish of 4 more threads\n",
      "2020-05-07 13:33:27,014 : INFO : worker thread finished; awaiting finish of 3 more threads\n",
      "2020-05-07 13:33:27,018 : INFO : worker thread finished; awaiting finish of 2 more threads\n",
      "2020-05-07 13:33:27,022 : INFO : worker thread finished; awaiting finish of 1 more threads\n",
      "2020-05-07 13:33:27,031 : INFO : worker thread finished; awaiting finish of 0 more threads\n",
      "2020-05-07 13:33:27,031 : INFO : EPOCH - 6 : training on 9232906 raw words (8230060 effective words) took 15.2s, 541388 effective words/s\n",
      "2020-05-07 13:33:28,067 : INFO : EPOCH 7 - PROGRESS: at 5.72% examples, 462347 words/s, in_qsize 15, out_qsize 0\n",
      "2020-05-07 13:33:29,084 : INFO : EPOCH 7 - PROGRESS: at 11.37% examples, 458794 words/s, in_qsize 15, out_qsize 0\n",
      "2020-05-07 13:33:30,094 : INFO : EPOCH 7 - PROGRESS: at 14.40% examples, 388677 words/s, in_qsize 15, out_qsize 0\n",
      "2020-05-07 13:33:31,096 : INFO : EPOCH 7 - PROGRESS: at 18.18% examples, 369440 words/s, in_qsize 16, out_qsize 0\n"
     ]
    },
    {
     "name": "stderr",
     "output_type": "stream",
     "text": [
      "2020-05-07 13:33:32,112 : INFO : EPOCH 7 - PROGRESS: at 23.68% examples, 385104 words/s, in_qsize 14, out_qsize 1\n",
      "2020-05-07 13:33:33,163 : INFO : EPOCH 7 - PROGRESS: at 29.31% examples, 394725 words/s, in_qsize 14, out_qsize 1\n",
      "2020-05-07 13:33:34,171 : INFO : EPOCH 7 - PROGRESS: at 35.28% examples, 407669 words/s, in_qsize 12, out_qsize 3\n",
      "2020-05-07 13:33:35,183 : INFO : EPOCH 7 - PROGRESS: at 41.37% examples, 418221 words/s, in_qsize 13, out_qsize 2\n",
      "2020-05-07 13:33:36,253 : INFO : EPOCH 7 - PROGRESS: at 48.41% examples, 432522 words/s, in_qsize 15, out_qsize 0\n",
      "2020-05-07 13:33:37,333 : INFO : EPOCH 7 - PROGRESS: at 54.27% examples, 433877 words/s, in_qsize 16, out_qsize 0\n",
      "2020-05-07 13:33:38,350 : INFO : EPOCH 7 - PROGRESS: at 57.62% examples, 419250 words/s, in_qsize 15, out_qsize 0\n",
      "2020-05-07 13:33:39,448 : INFO : EPOCH 7 - PROGRESS: at 62.05% examples, 411614 words/s, in_qsize 12, out_qsize 3\n",
      "2020-05-07 13:33:40,640 : INFO : EPOCH 7 - PROGRESS: at 65.63% examples, 397138 words/s, in_qsize 16, out_qsize 2\n",
      "2020-05-07 13:33:41,788 : INFO : EPOCH 7 - PROGRESS: at 69.53% examples, 387985 words/s, in_qsize 12, out_qsize 3\n",
      "2020-05-07 13:33:42,792 : INFO : EPOCH 7 - PROGRESS: at 73.74% examples, 385305 words/s, in_qsize 15, out_qsize 0\n",
      "2020-05-07 13:33:43,881 : INFO : EPOCH 7 - PROGRESS: at 77.31% examples, 377864 words/s, in_qsize 16, out_qsize 3\n",
      "2020-05-07 13:33:44,901 : INFO : EPOCH 7 - PROGRESS: at 81.86% examples, 377200 words/s, in_qsize 15, out_qsize 3\n",
      "2020-05-07 13:33:45,947 : INFO : EPOCH 7 - PROGRESS: at 87.06% examples, 378944 words/s, in_qsize 14, out_qsize 5\n",
      "2020-05-07 13:33:46,991 : INFO : EPOCH 7 - PROGRESS: at 92.91% examples, 383233 words/s, in_qsize 15, out_qsize 0\n",
      "2020-05-07 13:33:47,955 : INFO : worker thread finished; awaiting finish of 7 more threads\n",
      "2020-05-07 13:33:47,960 : INFO : worker thread finished; awaiting finish of 6 more threads\n",
      "2020-05-07 13:33:47,964 : INFO : worker thread finished; awaiting finish of 5 more threads\n",
      "2020-05-07 13:33:47,982 : INFO : worker thread finished; awaiting finish of 4 more threads\n",
      "2020-05-07 13:33:47,993 : INFO : EPOCH 7 - PROGRESS: at 99.67% examples, 391599 words/s, in_qsize 3, out_qsize 1\n",
      "2020-05-07 13:33:47,994 : INFO : worker thread finished; awaiting finish of 3 more threads\n",
      "2020-05-07 13:33:48,006 : INFO : worker thread finished; awaiting finish of 2 more threads\n",
      "2020-05-07 13:33:48,010 : INFO : worker thread finished; awaiting finish of 1 more threads\n",
      "2020-05-07 13:33:48,012 : INFO : worker thread finished; awaiting finish of 0 more threads\n",
      "2020-05-07 13:33:48,013 : INFO : EPOCH - 7 : training on 9232906 raw words (8229569 effective words) took 21.0s, 392502 effective words/s\n",
      "2020-05-07 13:33:49,032 : INFO : EPOCH 8 - PROGRESS: at 4.53% examples, 372121 words/s, in_qsize 15, out_qsize 0\n",
      "2020-05-07 13:33:50,043 : INFO : EPOCH 8 - PROGRESS: at 9.74% examples, 397526 words/s, in_qsize 16, out_qsize 0\n",
      "2020-05-07 13:33:51,053 : INFO : EPOCH 8 - PROGRESS: at 15.48% examples, 420870 words/s, in_qsize 15, out_qsize 0\n",
      "2020-05-07 13:33:52,202 : INFO : EPOCH 8 - PROGRESS: at 21.09% examples, 416108 words/s, in_qsize 15, out_qsize 6\n",
      "2020-05-07 13:33:53,238 : INFO : EPOCH 8 - PROGRESS: at 26.61% examples, 420629 words/s, in_qsize 16, out_qsize 0\n",
      "2020-05-07 13:33:54,377 : INFO : EPOCH 8 - PROGRESS: at 31.38% examples, 408803 words/s, in_qsize 12, out_qsize 6\n",
      "2020-05-07 13:33:55,387 : INFO : EPOCH 8 - PROGRESS: at 36.71% examples, 410391 words/s, in_qsize 15, out_qsize 0\n",
      "2020-05-07 13:33:56,413 : INFO : EPOCH 8 - PROGRESS: at 42.67% examples, 418568 words/s, in_qsize 15, out_qsize 0\n",
      "2020-05-07 13:33:57,570 : INFO : EPOCH 8 - PROGRESS: at 48.31% examples, 416385 words/s, in_qsize 15, out_qsize 0\n",
      "2020-05-07 13:33:58,613 : INFO : EPOCH 8 - PROGRESS: at 53.41% examples, 414880 words/s, in_qsize 11, out_qsize 4\n",
      "2020-05-07 13:33:59,644 : INFO : EPOCH 8 - PROGRESS: at 58.80% examples, 416395 words/s, in_qsize 15, out_qsize 0\n",
      "2020-05-07 13:34:00,654 : INFO : EPOCH 8 - PROGRESS: at 64.76% examples, 421909 words/s, in_qsize 16, out_qsize 0\n",
      "2020-05-07 13:34:01,672 : INFO : EPOCH 8 - PROGRESS: at 72.02% examples, 434174 words/s, in_qsize 16, out_qsize 0\n",
      "2020-05-07 13:34:02,734 : INFO : EPOCH 8 - PROGRESS: at 79.36% examples, 444012 words/s, in_qsize 16, out_qsize 0\n",
      "2020-05-07 13:34:03,744 : INFO : EPOCH 8 - PROGRESS: at 85.99% examples, 450040 words/s, in_qsize 15, out_qsize 0\n",
      "2020-05-07 13:34:04,744 : INFO : EPOCH 8 - PROGRESS: at 90.62% examples, 446038 words/s, in_qsize 16, out_qsize 1\n",
      "2020-05-07 13:34:05,777 : INFO : EPOCH 8 - PROGRESS: at 95.06% examples, 440655 words/s, in_qsize 14, out_qsize 1\n",
      "2020-05-07 13:34:06,463 : INFO : worker thread finished; awaiting finish of 7 more threads\n",
      "2020-05-07 13:34:06,518 : INFO : worker thread finished; awaiting finish of 6 more threads\n",
      "2020-05-07 13:34:06,585 : INFO : worker thread finished; awaiting finish of 5 more threads\n",
      "2020-05-07 13:34:06,606 : INFO : worker thread finished; awaiting finish of 4 more threads\n",
      "2020-05-07 13:34:06,618 : INFO : worker thread finished; awaiting finish of 3 more threads\n",
      "2020-05-07 13:34:06,621 : INFO : worker thread finished; awaiting finish of 2 more threads\n",
      "2020-05-07 13:34:06,623 : INFO : worker thread finished; awaiting finish of 1 more threads\n",
      "2020-05-07 13:34:06,631 : INFO : worker thread finished; awaiting finish of 0 more threads\n",
      "2020-05-07 13:34:06,632 : INFO : EPOCH - 8 : training on 9232906 raw words (8228917 effective words) took 18.6s, 442304 effective words/s\n",
      "2020-05-07 13:34:07,749 : INFO : EPOCH 9 - PROGRESS: at 5.72% examples, 430227 words/s, in_qsize 14, out_qsize 2\n",
      "2020-05-07 13:34:08,762 : INFO : EPOCH 9 - PROGRESS: at 10.39% examples, 405116 words/s, in_qsize 11, out_qsize 4\n",
      "2020-05-07 13:34:09,801 : INFO : EPOCH 9 - PROGRESS: at 16.35% examples, 426866 words/s, in_qsize 12, out_qsize 3\n",
      "2020-05-07 13:34:10,812 : INFO : EPOCH 9 - PROGRESS: at 22.93% examples, 453870 words/s, in_qsize 15, out_qsize 0\n",
      "2020-05-07 13:34:11,827 : INFO : EPOCH 9 - PROGRESS: at 29.31% examples, 466424 words/s, in_qsize 15, out_qsize 0\n",
      "2020-05-07 13:34:12,844 : INFO : EPOCH 9 - PROGRESS: at 35.61% examples, 473230 words/s, in_qsize 14, out_qsize 1\n",
      "2020-05-07 13:34:13,867 : INFO : EPOCH 9 - PROGRESS: at 40.29% examples, 459184 words/s, in_qsize 15, out_qsize 0\n",
      "2020-05-07 13:34:14,871 : INFO : EPOCH 9 - PROGRESS: at 44.84% examples, 448642 words/s, in_qsize 15, out_qsize 1\n",
      "2020-05-07 13:34:15,894 : INFO : EPOCH 9 - PROGRESS: at 50.59% examples, 450069 words/s, in_qsize 16, out_qsize 0\n",
      "2020-05-07 13:34:16,916 : INFO : EPOCH 9 - PROGRESS: at 54.92% examples, 439927 words/s, in_qsize 15, out_qsize 0\n",
      "2020-05-07 13:34:17,959 : INFO : EPOCH 9 - PROGRESS: at 59.34% examples, 431683 words/s, in_qsize 15, out_qsize 0\n",
      "2020-05-07 13:34:18,974 : INFO : EPOCH 9 - PROGRESS: at 64.76% examples, 432253 words/s, in_qsize 15, out_qsize 0\n",
      "2020-05-07 13:34:19,984 : INFO : EPOCH 9 - PROGRESS: at 68.88% examples, 424920 words/s, in_qsize 16, out_qsize 1\n",
      "2020-05-07 13:34:20,999 : INFO : EPOCH 9 - PROGRESS: at 72.56% examples, 415969 words/s, in_qsize 16, out_qsize 2\n",
      "2020-05-07 13:34:22,002 : INFO : EPOCH 9 - PROGRESS: at 78.28% examples, 419542 words/s, in_qsize 16, out_qsize 0\n",
      "2020-05-07 13:34:23,019 : INFO : EPOCH 9 - PROGRESS: at 83.38% examples, 419037 words/s, in_qsize 13, out_qsize 2\n",
      "2020-05-07 13:34:24,049 : INFO : EPOCH 9 - PROGRESS: at 89.11% examples, 421373 words/s, in_qsize 15, out_qsize 2\n",
      "2020-05-07 13:34:25,118 : INFO : EPOCH 9 - PROGRESS: at 96.04% examples, 427884 words/s, in_qsize 15, out_qsize 1\n",
      "2020-05-07 13:34:25,839 : INFO : worker thread finished; awaiting finish of 7 more threads\n",
      "2020-05-07 13:34:25,867 : INFO : worker thread finished; awaiting finish of 6 more threads\n",
      "2020-05-07 13:34:25,911 : INFO : worker thread finished; awaiting finish of 5 more threads\n",
      "2020-05-07 13:34:25,919 : INFO : worker thread finished; awaiting finish of 4 more threads\n",
      "2020-05-07 13:34:25,921 : INFO : worker thread finished; awaiting finish of 3 more threads\n",
      "2020-05-07 13:34:25,923 : INFO : worker thread finished; awaiting finish of 2 more threads\n",
      "2020-05-07 13:34:25,931 : INFO : worker thread finished; awaiting finish of 1 more threads\n",
      "2020-05-07 13:34:25,936 : INFO : worker thread finished; awaiting finish of 0 more threads\n"
     ]
    },
    {
     "name": "stderr",
     "output_type": "stream",
     "text": [
      "2020-05-07 13:34:25,937 : INFO : EPOCH - 9 : training on 9232906 raw words (8228852 effective words) took 19.3s, 426678 effective words/s\n",
      "2020-05-07 13:34:26,971 : INFO : EPOCH 10 - PROGRESS: at 3.67% examples, 297986 words/s, in_qsize 15, out_qsize 0\n",
      "2020-05-07 13:34:28,051 : INFO : EPOCH 10 - PROGRESS: at 7.99% examples, 314289 words/s, in_qsize 14, out_qsize 1\n",
      "2020-05-07 13:34:29,078 : INFO : EPOCH 10 - PROGRESS: at 12.56% examples, 330810 words/s, in_qsize 15, out_qsize 0\n",
      "2020-05-07 13:34:30,161 : INFO : EPOCH 10 - PROGRESS: at 17.00% examples, 332463 words/s, in_qsize 14, out_qsize 2\n",
      "2020-05-07 13:34:31,167 : INFO : EPOCH 10 - PROGRESS: at 21.64% examples, 341875 words/s, in_qsize 15, out_qsize 0\n",
      "2020-05-07 13:34:32,181 : INFO : EPOCH 10 - PROGRESS: at 26.50% examples, 350545 words/s, in_qsize 14, out_qsize 1\n",
      "2020-05-07 13:34:33,199 : INFO : EPOCH 10 - PROGRESS: at 32.90% examples, 373877 words/s, in_qsize 15, out_qsize 0\n",
      "2020-05-07 13:34:34,199 : INFO : EPOCH 10 - PROGRESS: at 39.97% examples, 398710 words/s, in_qsize 15, out_qsize 0\n",
      "2020-05-07 13:34:35,232 : INFO : EPOCH 10 - PROGRESS: at 47.00% examples, 416706 words/s, in_qsize 15, out_qsize 0\n",
      "2020-05-07 13:34:36,241 : INFO : EPOCH 10 - PROGRESS: at 54.05% examples, 432103 words/s, in_qsize 14, out_qsize 1\n",
      "2020-05-07 13:34:37,265 : INFO : EPOCH 10 - PROGRESS: at 58.05% examples, 422158 words/s, in_qsize 15, out_qsize 0\n",
      "2020-05-07 13:34:38,355 : INFO : EPOCH 10 - PROGRESS: at 62.27% examples, 413053 words/s, in_qsize 16, out_qsize 1\n",
      "2020-05-07 13:34:39,370 : INFO : EPOCH 10 - PROGRESS: at 66.50% examples, 407720 words/s, in_qsize 13, out_qsize 2\n",
      "2020-05-07 13:34:40,459 : INFO : EPOCH 10 - PROGRESS: at 72.02% examples, 408424 words/s, in_qsize 15, out_qsize 0\n",
      "2020-05-07 13:34:41,531 : INFO : EPOCH 10 - PROGRESS: at 76.55% examples, 404359 words/s, in_qsize 15, out_qsize 0\n",
      "2020-05-07 13:34:42,549 : INFO : EPOCH 10 - PROGRESS: at 81.53% examples, 404219 words/s, in_qsize 14, out_qsize 1\n",
      "2020-05-07 13:34:43,600 : INFO : EPOCH 10 - PROGRESS: at 87.92% examples, 409924 words/s, in_qsize 16, out_qsize 0\n",
      "2020-05-07 13:34:44,610 : INFO : EPOCH 10 - PROGRESS: at 93.99% examples, 414489 words/s, in_qsize 16, out_qsize 0\n",
      "2020-05-07 13:34:45,380 : INFO : worker thread finished; awaiting finish of 7 more threads\n",
      "2020-05-07 13:34:45,385 : INFO : worker thread finished; awaiting finish of 6 more threads\n",
      "2020-05-07 13:34:45,387 : INFO : worker thread finished; awaiting finish of 5 more threads\n",
      "2020-05-07 13:34:45,402 : INFO : worker thread finished; awaiting finish of 4 more threads\n",
      "2020-05-07 13:34:45,422 : INFO : worker thread finished; awaiting finish of 3 more threads\n",
      "2020-05-07 13:34:45,445 : INFO : worker thread finished; awaiting finish of 2 more threads\n",
      "2020-05-07 13:34:45,454 : INFO : worker thread finished; awaiting finish of 1 more threads\n",
      "2020-05-07 13:34:45,459 : INFO : worker thread finished; awaiting finish of 0 more threads\n",
      "2020-05-07 13:34:45,460 : INFO : EPOCH - 10 : training on 9232906 raw words (8228885 effective words) took 19.5s, 421878 effective words/s\n",
      "2020-05-07 13:34:46,499 : INFO : EPOCH 11 - PROGRESS: at 6.91% examples, 564982 words/s, in_qsize 14, out_qsize 1\n",
      "2020-05-07 13:34:47,506 : INFO : EPOCH 11 - PROGRESS: at 13.97% examples, 570166 words/s, in_qsize 15, out_qsize 0\n",
      "2020-05-07 13:34:48,522 : INFO : EPOCH 11 - PROGRESS: at 21.20% examples, 575919 words/s, in_qsize 14, out_qsize 1\n",
      "2020-05-07 13:34:49,525 : INFO : EPOCH 11 - PROGRESS: at 28.23% examples, 576382 words/s, in_qsize 15, out_qsize 0\n",
      "2020-05-07 13:34:50,560 : INFO : EPOCH 11 - PROGRESS: at 35.50% examples, 576468 words/s, in_qsize 15, out_qsize 0\n",
      "2020-05-07 13:34:51,566 : INFO : EPOCH 11 - PROGRESS: at 42.78% examples, 579135 words/s, in_qsize 15, out_qsize 0\n",
      "2020-05-07 13:34:52,573 : INFO : EPOCH 11 - PROGRESS: at 49.94% examples, 579821 words/s, in_qsize 16, out_qsize 0\n",
      "2020-05-07 13:34:53,600 : INFO : EPOCH 11 - PROGRESS: at 56.87% examples, 576632 words/s, in_qsize 14, out_qsize 1\n",
      "2020-05-07 13:34:54,632 : INFO : EPOCH 11 - PROGRESS: at 64.43% examples, 579792 words/s, in_qsize 16, out_qsize 1\n",
      "2020-05-07 13:34:55,647 : INFO : EPOCH 11 - PROGRESS: at 71.48% examples, 578842 words/s, in_qsize 16, out_qsize 0\n",
      "2020-05-07 13:34:56,672 : INFO : EPOCH 11 - PROGRESS: at 77.85% examples, 572857 words/s, in_qsize 16, out_qsize 0\n",
      "2020-05-07 13:34:57,696 : INFO : EPOCH 11 - PROGRESS: at 85.01% examples, 572940 words/s, in_qsize 15, out_qsize 0\n",
      "2020-05-07 13:34:58,727 : INFO : EPOCH 11 - PROGRESS: at 92.14% examples, 572746 words/s, in_qsize 16, out_qsize 0\n",
      "2020-05-07 13:34:59,709 : INFO : worker thread finished; awaiting finish of 7 more threads\n",
      "2020-05-07 13:34:59,725 : INFO : worker thread finished; awaiting finish of 6 more threads\n",
      "2020-05-07 13:34:59,764 : INFO : EPOCH 11 - PROGRESS: at 99.50% examples, 573562 words/s, in_qsize 5, out_qsize 1\n",
      "2020-05-07 13:34:59,783 : INFO : worker thread finished; awaiting finish of 5 more threads\n",
      "2020-05-07 13:34:59,784 : INFO : worker thread finished; awaiting finish of 4 more threads\n",
      "2020-05-07 13:34:59,785 : INFO : worker thread finished; awaiting finish of 3 more threads\n",
      "2020-05-07 13:34:59,808 : INFO : worker thread finished; awaiting finish of 2 more threads\n",
      "2020-05-07 13:34:59,823 : INFO : worker thread finished; awaiting finish of 1 more threads\n",
      "2020-05-07 13:34:59,843 : INFO : worker thread finished; awaiting finish of 0 more threads\n",
      "2020-05-07 13:34:59,844 : INFO : EPOCH - 11 : training on 9232906 raw words (8228556 effective words) took 14.4s, 573285 effective words/s\n",
      "2020-05-07 13:35:00,862 : INFO : EPOCH 12 - PROGRESS: at 6.69% examples, 551554 words/s, in_qsize 15, out_qsize 0\n",
      "2020-05-07 13:35:01,900 : INFO : EPOCH 12 - PROGRESS: at 13.86% examples, 559343 words/s, in_qsize 16, out_qsize 0\n",
      "2020-05-07 13:35:02,901 : INFO : EPOCH 12 - PROGRESS: at 21.10% examples, 571576 words/s, in_qsize 15, out_qsize 0\n",
      "2020-05-07 13:35:03,906 : INFO : EPOCH 12 - PROGRESS: at 26.28% examples, 535365 words/s, in_qsize 14, out_qsize 1\n",
      "2020-05-07 13:35:04,921 : INFO : EPOCH 12 - PROGRESS: at 30.40% examples, 494872 words/s, in_qsize 15, out_qsize 0\n",
      "2020-05-07 13:35:06,112 : INFO : EPOCH 12 - PROGRESS: at 35.72% examples, 470330 words/s, in_qsize 15, out_qsize 0\n",
      "2020-05-07 13:35:07,206 : INFO : EPOCH 12 - PROGRESS: at 40.61% examples, 454820 words/s, in_qsize 14, out_qsize 1\n",
      "2020-05-07 13:35:08,215 : INFO : EPOCH 12 - PROGRESS: at 46.14% examples, 454267 words/s, in_qsize 15, out_qsize 0\n",
      "2020-05-07 13:35:09,284 : INFO : EPOCH 12 - PROGRESS: at 51.02% examples, 445254 words/s, in_qsize 14, out_qsize 5\n",
      "2020-05-07 13:35:10,288 : INFO : EPOCH 12 - PROGRESS: at 57.19% examples, 451103 words/s, in_qsize 14, out_qsize 1\n",
      "2020-05-07 13:35:11,306 : INFO : EPOCH 12 - PROGRESS: at 64.33% examples, 462354 words/s, in_qsize 16, out_qsize 0\n",
      "2020-05-07 13:35:12,308 : INFO : EPOCH 12 - PROGRESS: at 71.70% examples, 473784 words/s, in_qsize 15, out_qsize 0\n",
      "2020-05-07 13:35:13,319 : INFO : EPOCH 12 - PROGRESS: at 76.22% examples, 466036 words/s, in_qsize 15, out_qsize 0\n",
      "2020-05-07 13:35:14,381 : INFO : EPOCH 12 - PROGRESS: at 81.64% examples, 462590 words/s, in_qsize 13, out_qsize 2\n",
      "2020-05-07 13:35:15,401 : INFO : EPOCH 12 - PROGRESS: at 86.74% examples, 459172 words/s, in_qsize 16, out_qsize 0\n",
      "2020-05-07 13:35:16,405 : INFO : EPOCH 12 - PROGRESS: at 93.13% examples, 463105 words/s, in_qsize 16, out_qsize 1\n",
      "2020-05-07 13:35:17,435 : INFO : EPOCH 12 - PROGRESS: at 98.74% examples, 462338 words/s, in_qsize 11, out_qsize 1\n",
      "2020-05-07 13:35:17,455 : INFO : worker thread finished; awaiting finish of 7 more threads\n",
      "2020-05-07 13:35:17,474 : INFO : worker thread finished; awaiting finish of 6 more threads\n",
      "2020-05-07 13:35:17,475 : INFO : worker thread finished; awaiting finish of 5 more threads\n",
      "2020-05-07 13:35:17,522 : INFO : worker thread finished; awaiting finish of 4 more threads\n",
      "2020-05-07 13:35:17,528 : INFO : worker thread finished; awaiting finish of 3 more threads\n",
      "2020-05-07 13:35:17,537 : INFO : worker thread finished; awaiting finish of 2 more threads\n",
      "2020-05-07 13:35:17,545 : INFO : worker thread finished; awaiting finish of 1 more threads\n",
      "2020-05-07 13:35:17,551 : INFO : worker thread finished; awaiting finish of 0 more threads\n"
     ]
    },
    {
     "name": "stderr",
     "output_type": "stream",
     "text": [
      "2020-05-07 13:35:17,551 : INFO : EPOCH - 12 : training on 9232906 raw words (8228865 effective words) took 17.7s, 465172 effective words/s\n",
      "2020-05-07 13:35:18,624 : INFO : EPOCH 13 - PROGRESS: at 6.48% examples, 509958 words/s, in_qsize 14, out_qsize 2\n",
      "2020-05-07 13:35:19,646 : INFO : EPOCH 13 - PROGRESS: at 14.19% examples, 563997 words/s, in_qsize 15, out_qsize 0\n",
      "2020-05-07 13:35:20,682 : INFO : EPOCH 13 - PROGRESS: at 20.56% examples, 545145 words/s, in_qsize 16, out_qsize 0\n",
      "2020-05-07 13:35:21,689 : INFO : EPOCH 13 - PROGRESS: at 25.08% examples, 502636 words/s, in_qsize 16, out_qsize 1\n",
      "2020-05-07 13:35:22,694 : INFO : EPOCH 13 - PROGRESS: at 31.27% examples, 503180 words/s, in_qsize 15, out_qsize 0\n",
      "2020-05-07 13:35:23,695 : INFO : EPOCH 13 - PROGRESS: at 37.57% examples, 505227 words/s, in_qsize 16, out_qsize 0\n",
      "2020-05-07 13:35:24,695 : INFO : EPOCH 13 - PROGRESS: at 44.29% examples, 511779 words/s, in_qsize 14, out_qsize 1\n",
      "2020-05-07 13:35:25,698 : INFO : EPOCH 13 - PROGRESS: at 51.24% examples, 518756 words/s, in_qsize 16, out_qsize 0\n",
      "2020-05-07 13:35:26,750 : INFO : EPOCH 13 - PROGRESS: at 57.08% examples, 511712 words/s, in_qsize 14, out_qsize 1\n",
      "2020-05-07 13:35:27,789 : INFO : EPOCH 13 - PROGRESS: at 63.24% examples, 509368 words/s, in_qsize 15, out_qsize 0\n",
      "2020-05-07 13:35:28,821 : INFO : EPOCH 13 - PROGRESS: at 67.47% examples, 493491 words/s, in_qsize 16, out_qsize 0\n",
      "2020-05-07 13:35:29,943 : INFO : EPOCH 13 - PROGRESS: at 72.02% examples, 478986 words/s, in_qsize 16, out_qsize 1\n",
      "2020-05-07 13:35:30,953 : INFO : EPOCH 13 - PROGRESS: at 76.11% examples, 468162 words/s, in_qsize 15, out_qsize 2\n",
      "2020-05-07 13:35:31,974 : INFO : EPOCH 13 - PROGRESS: at 80.88% examples, 462162 words/s, in_qsize 14, out_qsize 1\n",
      "2020-05-07 13:35:32,977 : INFO : EPOCH 13 - PROGRESS: at 86.31% examples, 460942 words/s, in_qsize 15, out_qsize 0\n",
      "2020-05-07 13:35:34,017 : INFO : EPOCH 13 - PROGRESS: at 91.17% examples, 456187 words/s, in_qsize 14, out_qsize 1\n",
      "2020-05-07 13:35:35,033 : INFO : EPOCH 13 - PROGRESS: at 97.77% examples, 460790 words/s, in_qsize 16, out_qsize 1\n",
      "2020-05-07 13:35:35,245 : INFO : worker thread finished; awaiting finish of 7 more threads\n",
      "2020-05-07 13:35:35,250 : INFO : worker thread finished; awaiting finish of 6 more threads\n",
      "2020-05-07 13:35:35,251 : INFO : worker thread finished; awaiting finish of 5 more threads\n",
      "2020-05-07 13:35:35,276 : INFO : worker thread finished; awaiting finish of 4 more threads\n",
      "2020-05-07 13:35:35,298 : INFO : worker thread finished; awaiting finish of 3 more threads\n",
      "2020-05-07 13:35:35,311 : INFO : worker thread finished; awaiting finish of 2 more threads\n",
      "2020-05-07 13:35:35,328 : INFO : worker thread finished; awaiting finish of 1 more threads\n",
      "2020-05-07 13:35:35,337 : INFO : worker thread finished; awaiting finish of 0 more threads\n",
      "2020-05-07 13:35:35,338 : INFO : EPOCH - 13 : training on 9232906 raw words (8228024 effective words) took 17.8s, 463245 effective words/s\n",
      "2020-05-07 13:35:36,410 : INFO : EPOCH 14 - PROGRESS: at 6.48% examples, 506078 words/s, in_qsize 14, out_qsize 1\n",
      "2020-05-07 13:35:37,417 : INFO : EPOCH 14 - PROGRESS: at 13.97% examples, 556667 words/s, in_qsize 16, out_qsize 0\n",
      "2020-05-07 13:35:38,419 : INFO : EPOCH 14 - PROGRESS: at 21.20% examples, 569532 words/s, in_qsize 15, out_qsize 0\n",
      "2020-05-07 13:35:39,446 : INFO : EPOCH 14 - PROGRESS: at 28.23% examples, 568203 words/s, in_qsize 15, out_qsize 0\n",
      "2020-05-07 13:35:40,462 : INFO : EPOCH 14 - PROGRESS: at 35.17% examples, 566810 words/s, in_qsize 13, out_qsize 2\n",
      "2020-05-07 13:35:41,493 : INFO : EPOCH 14 - PROGRESS: at 42.67% examples, 571742 words/s, in_qsize 16, out_qsize 0\n",
      "2020-05-07 13:35:42,501 : INFO : EPOCH 14 - PROGRESS: at 49.72% examples, 572170 words/s, in_qsize 15, out_qsize 0\n",
      "2020-05-07 13:35:43,509 : INFO : EPOCH 14 - PROGRESS: at 56.65% examples, 571390 words/s, in_qsize 16, out_qsize 0\n",
      "2020-05-07 13:35:44,541 : INFO : EPOCH 14 - PROGRESS: at 63.89% examples, 572185 words/s, in_qsize 16, out_qsize 0\n",
      "2020-05-07 13:35:45,612 : INFO : EPOCH 14 - PROGRESS: at 69.64% examples, 558517 words/s, in_qsize 16, out_qsize 0\n",
      "2020-05-07 13:35:46,616 : INFO : EPOCH 14 - PROGRESS: at 73.96% examples, 540365 words/s, in_qsize 15, out_qsize 0\n",
      "2020-05-07 13:35:47,662 : INFO : EPOCH 14 - PROGRESS: at 79.04% examples, 528426 words/s, in_qsize 15, out_qsize 2\n",
      "2020-05-07 13:35:48,674 : INFO : EPOCH 14 - PROGRESS: at 85.34% examples, 527062 words/s, in_qsize 16, out_qsize 0\n",
      "2020-05-07 13:35:49,765 : INFO : EPOCH 14 - PROGRESS: at 91.71% examples, 523635 words/s, in_qsize 15, out_qsize 0\n",
      "2020-05-07 13:35:50,792 : INFO : EPOCH 14 - PROGRESS: at 95.60% examples, 509577 words/s, in_qsize 13, out_qsize 2\n",
      "2020-05-07 13:35:51,361 : INFO : worker thread finished; awaiting finish of 7 more threads\n",
      "2020-05-07 13:35:51,415 : INFO : worker thread finished; awaiting finish of 6 more threads\n",
      "2020-05-07 13:35:51,417 : INFO : worker thread finished; awaiting finish of 5 more threads\n",
      "2020-05-07 13:35:51,480 : INFO : worker thread finished; awaiting finish of 4 more threads\n",
      "2020-05-07 13:35:51,486 : INFO : worker thread finished; awaiting finish of 3 more threads\n",
      "2020-05-07 13:35:51,492 : INFO : worker thread finished; awaiting finish of 2 more threads\n",
      "2020-05-07 13:35:51,517 : INFO : worker thread finished; awaiting finish of 1 more threads\n",
      "2020-05-07 13:35:51,548 : INFO : worker thread finished; awaiting finish of 0 more threads\n",
      "2020-05-07 13:35:51,549 : INFO : EPOCH - 14 : training on 9232906 raw words (8230158 effective words) took 16.2s, 508191 effective words/s\n",
      "2020-05-07 13:35:52,687 : INFO : EPOCH 15 - PROGRESS: at 3.78% examples, 281900 words/s, in_qsize 14, out_qsize 1\n",
      "2020-05-07 13:35:53,695 : INFO : EPOCH 15 - PROGRESS: at 8.54% examples, 332879 words/s, in_qsize 16, out_qsize 4\n",
      "2020-05-07 13:35:54,759 : INFO : EPOCH 15 - PROGRESS: at 13.64% examples, 353188 words/s, in_qsize 16, out_qsize 2\n",
      "2020-05-07 13:35:55,835 : INFO : EPOCH 15 - PROGRESS: at 18.51% examples, 358038 words/s, in_qsize 16, out_qsize 0\n",
      "2020-05-07 13:35:56,847 : INFO : EPOCH 15 - PROGRESS: at 23.14% examples, 362071 words/s, in_qsize 16, out_qsize 0\n",
      "2020-05-07 13:35:57,856 : INFO : EPOCH 15 - PROGRESS: at 27.04% examples, 354953 words/s, in_qsize 15, out_qsize 0\n",
      "2020-05-07 13:35:58,907 : INFO : EPOCH 15 - PROGRESS: at 31.59% examples, 355154 words/s, in_qsize 12, out_qsize 3\n",
      "2020-05-07 13:35:59,933 : INFO : EPOCH 15 - PROGRESS: at 36.49% examples, 359447 words/s, in_qsize 14, out_qsize 1\n",
      "2020-05-07 13:36:00,937 : INFO : EPOCH 15 - PROGRESS: at 41.69% examples, 366551 words/s, in_qsize 15, out_qsize 1\n",
      "2020-05-07 13:36:01,954 : INFO : EPOCH 15 - PROGRESS: at 46.25% examples, 366703 words/s, in_qsize 15, out_qsize 0\n",
      "2020-05-07 13:36:03,159 : INFO : EPOCH 15 - PROGRESS: at 51.02% examples, 362385 words/s, in_qsize 14, out_qsize 4\n",
      "2020-05-07 13:36:04,231 : INFO : EPOCH 15 - PROGRESS: at 55.67% examples, 361954 words/s, in_qsize 8, out_qsize 7\n",
      "2020-05-07 13:36:05,244 : INFO : EPOCH 15 - PROGRESS: at 61.83% examples, 372263 words/s, in_qsize 15, out_qsize 0\n",
      "2020-05-07 13:36:06,256 : INFO : EPOCH 15 - PROGRESS: at 68.01% examples, 381227 words/s, in_qsize 15, out_qsize 0\n",
      "2020-05-07 13:36:07,289 : INFO : EPOCH 15 - PROGRESS: at 74.82% examples, 391870 words/s, in_qsize 16, out_qsize 0\n",
      "2020-05-07 13:36:08,303 : INFO : EPOCH 15 - PROGRESS: at 80.99% examples, 398457 words/s, in_qsize 15, out_qsize 0\n",
      "2020-05-07 13:36:09,334 : INFO : EPOCH 15 - PROGRESS: at 85.45% examples, 395873 words/s, in_qsize 15, out_qsize 0\n",
      "2020-05-07 13:36:10,463 : INFO : EPOCH 15 - PROGRESS: at 91.49% examples, 398657 words/s, in_qsize 13, out_qsize 2\n",
      "2020-05-07 13:36:11,466 : INFO : EPOCH 15 - PROGRESS: at 99.28% examples, 410834 words/s, in_qsize 7, out_qsize 1\n",
      "2020-05-07 13:36:11,471 : INFO : worker thread finished; awaiting finish of 7 more threads\n",
      "2020-05-07 13:36:11,513 : INFO : worker thread finished; awaiting finish of 6 more threads\n",
      "2020-05-07 13:36:11,555 : INFO : worker thread finished; awaiting finish of 5 more threads\n",
      "2020-05-07 13:36:11,561 : INFO : worker thread finished; awaiting finish of 4 more threads\n",
      "2020-05-07 13:36:11,583 : INFO : worker thread finished; awaiting finish of 3 more threads\n",
      "2020-05-07 13:36:11,585 : INFO : worker thread finished; awaiting finish of 2 more threads\n"
     ]
    },
    {
     "name": "stderr",
     "output_type": "stream",
     "text": [
      "2020-05-07 13:36:11,596 : INFO : worker thread finished; awaiting finish of 1 more threads\n",
      "2020-05-07 13:36:11,613 : INFO : worker thread finished; awaiting finish of 0 more threads\n",
      "2020-05-07 13:36:11,614 : INFO : EPOCH - 15 : training on 9232906 raw words (8229262 effective words) took 20.0s, 410782 effective words/s\n",
      "2020-05-07 13:36:12,633 : INFO : EPOCH 16 - PROGRESS: at 6.80% examples, 560249 words/s, in_qsize 15, out_qsize 0\n",
      "2020-05-07 13:36:13,640 : INFO : EPOCH 16 - PROGRESS: at 14.08% examples, 576692 words/s, in_qsize 16, out_qsize 0\n",
      "2020-05-07 13:36:14,650 : INFO : EPOCH 16 - PROGRESS: at 21.20% examples, 578578 words/s, in_qsize 16, out_qsize 0\n",
      "2020-05-07 13:36:15,713 : INFO : EPOCH 16 - PROGRESS: at 25.85% examples, 521830 words/s, in_qsize 15, out_qsize 0\n",
      "2020-05-07 13:36:16,724 : INFO : EPOCH 16 - PROGRESS: at 31.70% examples, 512686 words/s, in_qsize 16, out_qsize 0\n",
      "2020-05-07 13:36:17,781 : INFO : EPOCH 16 - PROGRESS: at 36.16% examples, 483935 words/s, in_qsize 14, out_qsize 1\n",
      "2020-05-07 13:36:18,793 : INFO : EPOCH 16 - PROGRESS: at 42.02% examples, 482672 words/s, in_qsize 15, out_qsize 2\n",
      "2020-05-07 13:36:19,799 : INFO : EPOCH 16 - PROGRESS: at 49.61% examples, 499564 words/s, in_qsize 16, out_qsize 0\n",
      "2020-05-07 13:36:20,800 : INFO : EPOCH 16 - PROGRESS: at 54.81% examples, 491627 words/s, in_qsize 16, out_qsize 0\n",
      "2020-05-07 13:36:21,830 : INFO : EPOCH 16 - PROGRESS: at 60.43% examples, 487376 words/s, in_qsize 15, out_qsize 0\n",
      "2020-05-07 13:36:22,831 : INFO : EPOCH 16 - PROGRESS: at 66.06% examples, 485216 words/s, in_qsize 15, out_qsize 0\n",
      "2020-05-07 13:36:23,856 : INFO : EPOCH 16 - PROGRESS: at 73.10% examples, 491847 words/s, in_qsize 16, out_qsize 0\n",
      "2020-05-07 13:36:24,968 : INFO : EPOCH 16 - PROGRESS: at 77.41% examples, 477571 words/s, in_qsize 12, out_qsize 6\n",
      "2020-05-07 13:36:25,983 : INFO : EPOCH 16 - PROGRESS: at 83.05% examples, 476057 words/s, in_qsize 15, out_qsize 0\n",
      "2020-05-07 13:36:26,994 : INFO : EPOCH 16 - PROGRESS: at 87.17% examples, 466760 words/s, in_qsize 13, out_qsize 2\n",
      "2020-05-07 13:36:28,037 : INFO : EPOCH 16 - PROGRESS: at 91.38% examples, 458274 words/s, in_qsize 15, out_qsize 0\n",
      "2020-05-07 13:36:29,043 : INFO : EPOCH 16 - PROGRESS: at 96.15% examples, 454307 words/s, in_qsize 12, out_qsize 3\n",
      "2020-05-07 13:36:29,712 : INFO : worker thread finished; awaiting finish of 7 more threads\n",
      "2020-05-07 13:36:29,716 : INFO : worker thread finished; awaiting finish of 6 more threads\n",
      "2020-05-07 13:36:29,773 : INFO : worker thread finished; awaiting finish of 5 more threads\n",
      "2020-05-07 13:36:29,777 : INFO : worker thread finished; awaiting finish of 4 more threads\n",
      "2020-05-07 13:36:29,781 : INFO : worker thread finished; awaiting finish of 3 more threads\n",
      "2020-05-07 13:36:29,792 : INFO : worker thread finished; awaiting finish of 2 more threads\n",
      "2020-05-07 13:36:29,793 : INFO : worker thread finished; awaiting finish of 1 more threads\n",
      "2020-05-07 13:36:29,800 : INFO : worker thread finished; awaiting finish of 0 more threads\n",
      "2020-05-07 13:36:29,801 : INFO : EPOCH - 16 : training on 9232906 raw words (8228334 effective words) took 18.2s, 452871 effective words/s\n",
      "2020-05-07 13:36:31,020 : INFO : EPOCH 17 - PROGRESS: at 4.97% examples, 342365 words/s, in_qsize 14, out_qsize 1\n",
      "2020-05-07 13:36:32,020 : INFO : EPOCH 17 - PROGRESS: at 11.04% examples, 413387 words/s, in_qsize 16, out_qsize 0\n",
      "2020-05-07 13:36:33,093 : INFO : EPOCH 17 - PROGRESS: at 17.22% examples, 433028 words/s, in_qsize 14, out_qsize 1\n",
      "2020-05-07 13:36:34,103 : INFO : EPOCH 17 - PROGRESS: at 23.36% examples, 449621 words/s, in_qsize 16, out_qsize 3\n",
      "2020-05-07 13:36:35,110 : INFO : EPOCH 17 - PROGRESS: at 28.23% examples, 439872 words/s, in_qsize 14, out_qsize 1\n",
      "2020-05-07 13:36:36,177 : INFO : EPOCH 17 - PROGRESS: at 34.74% examples, 450104 words/s, in_qsize 15, out_qsize 0\n",
      "2020-05-07 13:36:37,189 : INFO : EPOCH 17 - PROGRESS: at 40.93% examples, 457136 words/s, in_qsize 14, out_qsize 1\n",
      "2020-05-07 13:36:38,210 : INFO : EPOCH 17 - PROGRESS: at 47.98% examples, 470529 words/s, in_qsize 16, out_qsize 0\n",
      "2020-05-07 13:36:39,216 : INFO : EPOCH 17 - PROGRESS: at 54.17% examples, 474151 words/s, in_qsize 15, out_qsize 0\n",
      "2020-05-07 13:36:40,269 : INFO : EPOCH 17 - PROGRESS: at 58.59% examples, 461363 words/s, in_qsize 15, out_qsize 0\n",
      "2020-05-07 13:36:41,309 : INFO : EPOCH 17 - PROGRESS: at 62.92% examples, 450613 words/s, in_qsize 16, out_qsize 1\n",
      "2020-05-07 13:36:42,335 : INFO : EPOCH 17 - PROGRESS: at 67.15% examples, 441451 words/s, in_qsize 13, out_qsize 1\n",
      "2020-05-07 13:36:43,402 : INFO : EPOCH 17 - PROGRESS: at 71.48% examples, 432967 words/s, in_qsize 14, out_qsize 5\n",
      "2020-05-07 13:36:44,414 : INFO : EPOCH 17 - PROGRESS: at 76.11% examples, 429219 words/s, in_qsize 16, out_qsize 0\n",
      "2020-05-07 13:36:45,420 : INFO : EPOCH 17 - PROGRESS: at 80.78% examples, 426073 words/s, in_qsize 16, out_qsize 0\n",
      "2020-05-07 13:36:46,491 : INFO : EPOCH 17 - PROGRESS: at 85.01% examples, 419530 words/s, in_qsize 15, out_qsize 0\n",
      "2020-05-07 13:36:47,679 : INFO : EPOCH 17 - PROGRESS: at 91.28% examples, 420556 words/s, in_qsize 14, out_qsize 1\n",
      "2020-05-07 13:36:48,681 : INFO : EPOCH 17 - PROGRESS: at 97.66% examples, 426092 words/s, in_qsize 16, out_qsize 1\n",
      "2020-05-07 13:36:48,924 : INFO : worker thread finished; awaiting finish of 7 more threads\n",
      "2020-05-07 13:36:48,945 : INFO : worker thread finished; awaiting finish of 6 more threads\n",
      "2020-05-07 13:36:48,984 : INFO : worker thread finished; awaiting finish of 5 more threads\n",
      "2020-05-07 13:36:48,990 : INFO : worker thread finished; awaiting finish of 4 more threads\n",
      "2020-05-07 13:36:48,998 : INFO : worker thread finished; awaiting finish of 3 more threads\n",
      "2020-05-07 13:36:49,007 : INFO : worker thread finished; awaiting finish of 2 more threads\n",
      "2020-05-07 13:36:49,013 : INFO : worker thread finished; awaiting finish of 1 more threads\n",
      "2020-05-07 13:36:49,015 : INFO : worker thread finished; awaiting finish of 0 more threads\n",
      "2020-05-07 13:36:49,015 : INFO : EPOCH - 17 : training on 9232906 raw words (8228110 effective words) took 19.2s, 428736 effective words/s\n",
      "2020-05-07 13:36:50,135 : INFO : EPOCH 18 - PROGRESS: at 5.29% examples, 408760 words/s, in_qsize 15, out_qsize 0\n",
      "2020-05-07 13:36:51,173 : INFO : EPOCH 18 - PROGRESS: at 9.85% examples, 384959 words/s, in_qsize 15, out_qsize 0\n",
      "2020-05-07 13:36:52,175 : INFO : EPOCH 18 - PROGRESS: at 14.51% examples, 384033 words/s, in_qsize 15, out_qsize 0\n",
      "2020-05-07 13:36:53,184 : INFO : EPOCH 18 - PROGRESS: at 19.69% examples, 393733 words/s, in_qsize 16, out_qsize 0\n",
      "2020-05-07 13:36:54,191 : INFO : EPOCH 18 - PROGRESS: at 24.22% examples, 389457 words/s, in_qsize 15, out_qsize 0\n",
      "2020-05-07 13:36:55,254 : INFO : EPOCH 18 - PROGRESS: at 28.02% examples, 372990 words/s, in_qsize 15, out_qsize 1\n",
      "2020-05-07 13:36:56,282 : INFO : EPOCH 18 - PROGRESS: at 33.01% examples, 376671 words/s, in_qsize 14, out_qsize 1\n",
      "2020-05-07 13:36:57,287 : INFO : EPOCH 18 - PROGRESS: at 37.47% examples, 375027 words/s, in_qsize 14, out_qsize 1\n",
      "2020-05-07 13:36:58,300 : INFO : EPOCH 18 - PROGRESS: at 42.02% examples, 374372 words/s, in_qsize 14, out_qsize 1\n",
      "2020-05-07 13:36:59,328 : INFO : EPOCH 18 - PROGRESS: at 46.46% examples, 372469 words/s, in_qsize 16, out_qsize 0\n",
      "2020-05-07 13:37:00,358 : INFO : EPOCH 18 - PROGRESS: at 51.46% examples, 374789 words/s, in_qsize 15, out_qsize 0\n",
      "2020-05-07 13:37:01,383 : INFO : EPOCH 18 - PROGRESS: at 55.78% examples, 372504 words/s, in_qsize 15, out_qsize 0\n",
      "2020-05-07 13:37:02,390 : INFO : EPOCH 18 - PROGRESS: at 61.07% examples, 377140 words/s, in_qsize 16, out_qsize 0\n",
      "2020-05-07 13:37:03,396 : INFO : EPOCH 18 - PROGRESS: at 67.47% examples, 387362 words/s, in_qsize 15, out_qsize 0\n",
      "2020-05-07 13:37:04,404 : INFO : EPOCH 18 - PROGRESS: at 72.02% examples, 386304 words/s, in_qsize 13, out_qsize 2\n",
      "2020-05-07 13:37:05,480 : INFO : EPOCH 18 - PROGRESS: at 76.54% examples, 383786 words/s, in_qsize 15, out_qsize 0\n",
      "2020-05-07 13:37:06,528 : INFO : EPOCH 18 - PROGRESS: at 80.78% examples, 380638 words/s, in_qsize 13, out_qsize 2\n",
      "2020-05-07 13:37:07,538 : INFO : EPOCH 18 - PROGRESS: at 85.66% examples, 381523 words/s, in_qsize 16, out_qsize 0\n",
      "2020-05-07 13:37:08,541 : INFO : EPOCH 18 - PROGRESS: at 89.87% examples, 379718 words/s, in_qsize 15, out_qsize 2\n"
     ]
    },
    {
     "name": "stderr",
     "output_type": "stream",
     "text": [
      "2020-05-07 13:37:09,557 : INFO : EPOCH 18 - PROGRESS: at 94.96% examples, 381343 words/s, in_qsize 16, out_qsize 2\n",
      "2020-05-07 13:37:10,248 : INFO : worker thread finished; awaiting finish of 7 more threads\n",
      "2020-05-07 13:37:10,256 : INFO : worker thread finished; awaiting finish of 6 more threads\n",
      "2020-05-07 13:37:10,267 : INFO : worker thread finished; awaiting finish of 5 more threads\n",
      "2020-05-07 13:37:10,313 : INFO : worker thread finished; awaiting finish of 4 more threads\n",
      "2020-05-07 13:37:10,349 : INFO : worker thread finished; awaiting finish of 3 more threads\n",
      "2020-05-07 13:37:10,352 : INFO : worker thread finished; awaiting finish of 2 more threads\n",
      "2020-05-07 13:37:10,371 : INFO : worker thread finished; awaiting finish of 1 more threads\n",
      "2020-05-07 13:37:10,380 : INFO : worker thread finished; awaiting finish of 0 more threads\n",
      "2020-05-07 13:37:10,382 : INFO : EPOCH - 18 : training on 9232906 raw words (8229847 effective words) took 21.3s, 386116 effective words/s\n",
      "2020-05-07 13:37:11,421 : INFO : EPOCH 19 - PROGRESS: at 4.86% examples, 396739 words/s, in_qsize 15, out_qsize 0\n",
      "2020-05-07 13:37:12,425 : INFO : EPOCH 19 - PROGRESS: at 10.50% examples, 429005 words/s, in_qsize 14, out_qsize 1\n",
      "2020-05-07 13:37:13,455 : INFO : EPOCH 19 - PROGRESS: at 15.81% examples, 427234 words/s, in_qsize 12, out_qsize 3\n",
      "2020-05-07 13:37:14,546 : INFO : EPOCH 19 - PROGRESS: at 21.64% examples, 430887 words/s, in_qsize 14, out_qsize 1\n",
      "2020-05-07 13:37:15,565 : INFO : EPOCH 19 - PROGRESS: at 28.12% examples, 449414 words/s, in_qsize 15, out_qsize 0\n",
      "2020-05-07 13:37:16,594 : INFO : EPOCH 19 - PROGRESS: at 33.55% examples, 446647 words/s, in_qsize 16, out_qsize 0\n",
      "2020-05-07 13:37:17,621 : INFO : EPOCH 19 - PROGRESS: at 40.19% examples, 458338 words/s, in_qsize 15, out_qsize 0\n",
      "2020-05-07 13:37:18,642 : INFO : EPOCH 19 - PROGRESS: at 46.25% examples, 462092 words/s, in_qsize 16, out_qsize 0\n",
      "2020-05-07 13:37:19,661 : INFO : EPOCH 19 - PROGRESS: at 51.56% examples, 458340 words/s, in_qsize 16, out_qsize 0\n",
      "2020-05-07 13:37:20,682 : INFO : EPOCH 19 - PROGRESS: at 58.26% examples, 466587 words/s, in_qsize 15, out_qsize 0\n",
      "2020-05-07 13:37:21,694 : INFO : EPOCH 19 - PROGRESS: at 64.33% examples, 468975 words/s, in_qsize 15, out_qsize 0\n",
      "2020-05-07 13:37:22,698 : INFO : EPOCH 19 - PROGRESS: at 69.96% examples, 468329 words/s, in_qsize 15, out_qsize 2\n",
      "2020-05-07 13:37:23,725 : INFO : EPOCH 19 - PROGRESS: at 76.11% examples, 470374 words/s, in_qsize 15, out_qsize 0\n",
      "2020-05-07 13:37:24,738 : INFO : EPOCH 19 - PROGRESS: at 81.75% examples, 469397 words/s, in_qsize 14, out_qsize 1\n",
      "2020-05-07 13:37:25,748 : INFO : EPOCH 19 - PROGRESS: at 87.70% examples, 470467 words/s, in_qsize 14, out_qsize 1\n",
      "2020-05-07 13:37:26,761 : INFO : EPOCH 19 - PROGRESS: at 93.24% examples, 469131 words/s, in_qsize 16, out_qsize 0\n",
      "2020-05-07 13:37:27,825 : INFO : EPOCH 19 - PROGRESS: at 99.06% examples, 468122 words/s, in_qsize 9, out_qsize 0\n",
      "2020-05-07 13:37:27,898 : INFO : worker thread finished; awaiting finish of 7 more threads\n",
      "2020-05-07 13:37:27,907 : INFO : worker thread finished; awaiting finish of 6 more threads\n",
      "2020-05-07 13:37:27,908 : INFO : worker thread finished; awaiting finish of 5 more threads\n",
      "2020-05-07 13:37:27,910 : INFO : worker thread finished; awaiting finish of 4 more threads\n",
      "2020-05-07 13:37:27,945 : INFO : worker thread finished; awaiting finish of 3 more threads\n",
      "2020-05-07 13:37:27,965 : INFO : worker thread finished; awaiting finish of 2 more threads\n",
      "2020-05-07 13:37:27,972 : INFO : worker thread finished; awaiting finish of 1 more threads\n",
      "2020-05-07 13:37:28,003 : INFO : worker thread finished; awaiting finish of 0 more threads\n",
      "2020-05-07 13:37:28,005 : INFO : EPOCH - 19 : training on 9232906 raw words (8229206 effective words) took 17.6s, 467730 effective words/s\n",
      "2020-05-07 13:37:29,032 : INFO : EPOCH 20 - PROGRESS: at 3.89% examples, 318565 words/s, in_qsize 11, out_qsize 4\n",
      "2020-05-07 13:37:30,053 : INFO : EPOCH 20 - PROGRESS: at 8.32% examples, 338248 words/s, in_qsize 13, out_qsize 3\n",
      "2020-05-07 13:37:31,068 : INFO : EPOCH 20 - PROGRESS: at 13.54% examples, 366037 words/s, in_qsize 15, out_qsize 0\n",
      "2020-05-07 13:37:32,074 : INFO : EPOCH 20 - PROGRESS: at 18.62% examples, 378532 words/s, in_qsize 13, out_qsize 2\n",
      "2020-05-07 13:37:33,197 : INFO : EPOCH 20 - PROGRESS: at 23.68% examples, 377345 words/s, in_qsize 16, out_qsize 2\n",
      "2020-05-07 13:37:34,309 : INFO : EPOCH 20 - PROGRESS: at 29.21% examples, 382939 words/s, in_qsize 15, out_qsize 1\n",
      "2020-05-07 13:37:35,333 : INFO : EPOCH 20 - PROGRESS: at 33.23% examples, 374362 words/s, in_qsize 15, out_qsize 0\n",
      "2020-05-07 13:37:36,378 : INFO : EPOCH 20 - PROGRESS: at 38.56% examples, 379780 words/s, in_qsize 16, out_qsize 0\n",
      "2020-05-07 13:37:37,395 : INFO : EPOCH 20 - PROGRESS: at 42.78% examples, 375612 words/s, in_qsize 15, out_qsize 0\n",
      "2020-05-07 13:37:38,435 : INFO : EPOCH 20 - PROGRESS: at 46.79% examples, 369780 words/s, in_qsize 16, out_qsize 0\n",
      "2020-05-07 13:37:39,441 : INFO : EPOCH 20 - PROGRESS: at 50.92% examples, 366840 words/s, in_qsize 14, out_qsize 5\n",
      "2020-05-07 13:37:40,444 : INFO : EPOCH 20 - PROGRESS: at 56.65% examples, 375233 words/s, in_qsize 14, out_qsize 1\n",
      "2020-05-07 13:37:41,486 : INFO : EPOCH 20 - PROGRESS: at 61.83% examples, 377957 words/s, in_qsize 15, out_qsize 0\n",
      "2020-05-07 13:37:42,635 : INFO : EPOCH 20 - PROGRESS: at 64.98% examples, 365953 words/s, in_qsize 16, out_qsize 6\n",
      "2020-05-07 13:37:43,667 : INFO : EPOCH 20 - PROGRESS: at 70.72% examples, 371957 words/s, in_qsize 16, out_qsize 0\n",
      "2020-05-07 13:37:44,733 : INFO : EPOCH 20 - PROGRESS: at 76.00% examples, 374349 words/s, in_qsize 15, out_qsize 0\n",
      "2020-05-07 13:37:45,837 : INFO : EPOCH 20 - PROGRESS: at 80.23% examples, 370650 words/s, in_qsize 13, out_qsize 2\n",
      "2020-05-07 13:37:46,882 : INFO : EPOCH 20 - PROGRESS: at 84.80% examples, 369953 words/s, in_qsize 13, out_qsize 2\n",
      "2020-05-07 13:37:47,923 : INFO : EPOCH 20 - PROGRESS: at 89.76% examples, 371214 words/s, in_qsize 15, out_qsize 1\n",
      "2020-05-07 13:37:48,957 : INFO : EPOCH 20 - PROGRESS: at 94.20% examples, 370339 words/s, in_qsize 15, out_qsize 0\n",
      "2020-05-07 13:37:49,902 : INFO : worker thread finished; awaiting finish of 7 more threads\n",
      "2020-05-07 13:37:49,904 : INFO : worker thread finished; awaiting finish of 6 more threads\n",
      "2020-05-07 13:37:49,910 : INFO : worker thread finished; awaiting finish of 5 more threads\n",
      "2020-05-07 13:37:49,929 : INFO : worker thread finished; awaiting finish of 4 more threads\n",
      "2020-05-07 13:37:49,938 : INFO : worker thread finished; awaiting finish of 3 more threads\n",
      "2020-05-07 13:37:49,941 : INFO : worker thread finished; awaiting finish of 2 more threads\n",
      "2020-05-07 13:37:49,953 : INFO : worker thread finished; awaiting finish of 1 more threads\n",
      "2020-05-07 13:37:49,960 : INFO : EPOCH 20 - PROGRESS: at 100.00% examples, 375225 words/s, in_qsize 0, out_qsize 1\n",
      "2020-05-07 13:37:49,961 : INFO : worker thread finished; awaiting finish of 0 more threads\n",
      "2020-05-07 13:37:49,962 : INFO : EPOCH - 20 : training on 9232906 raw words (8230283 effective words) took 21.9s, 375191 effective words/s\n",
      "2020-05-07 13:37:51,030 : INFO : EPOCH 21 - PROGRESS: at 4.64% examples, 374698 words/s, in_qsize 15, out_qsize 0\n",
      "2020-05-07 13:37:52,078 : INFO : EPOCH 21 - PROGRESS: at 9.96% examples, 395860 words/s, in_qsize 15, out_qsize 0\n",
      "2020-05-07 13:37:53,101 : INFO : EPOCH 21 - PROGRESS: at 15.59% examples, 414697 words/s, in_qsize 16, out_qsize 2\n",
      "2020-05-07 13:37:54,103 : INFO : EPOCH 21 - PROGRESS: at 22.39% examples, 450333 words/s, in_qsize 16, out_qsize 0\n",
      "2020-05-07 13:37:55,106 : INFO : EPOCH 21 - PROGRESS: at 29.53% examples, 477147 words/s, in_qsize 15, out_qsize 0\n",
      "2020-05-07 13:37:56,109 : INFO : EPOCH 21 - PROGRESS: at 36.49% examples, 492106 words/s, in_qsize 16, out_qsize 0\n",
      "2020-05-07 13:37:57,152 : INFO : EPOCH 21 - PROGRESS: at 43.65% examples, 502474 words/s, in_qsize 15, out_qsize 0\n",
      "2020-05-07 13:37:58,175 : INFO : EPOCH 21 - PROGRESS: at 50.27% examples, 506125 words/s, in_qsize 15, out_qsize 0\n",
      "2020-05-07 13:37:59,195 : INFO : EPOCH 21 - PROGRESS: at 53.95% examples, 482844 words/s, in_qsize 15, out_qsize 1\n",
      "2020-05-07 13:38:00,353 : INFO : EPOCH 21 - PROGRESS: at 58.91% examples, 468449 words/s, in_qsize 12, out_qsize 4\n"
     ]
    },
    {
     "name": "stderr",
     "output_type": "stream",
     "text": [
      "2020-05-07 13:38:01,368 : INFO : EPOCH 21 - PROGRESS: at 63.35% examples, 458789 words/s, in_qsize 12, out_qsize 1\n",
      "2020-05-07 13:38:02,410 : INFO : EPOCH 21 - PROGRESS: at 68.11% examples, 451830 words/s, in_qsize 15, out_qsize 0\n",
      "2020-05-07 13:38:03,423 : INFO : EPOCH 21 - PROGRESS: at 71.80% examples, 440297 words/s, in_qsize 13, out_qsize 2\n",
      "2020-05-07 13:38:04,448 : INFO : EPOCH 21 - PROGRESS: at 76.22% examples, 434371 words/s, in_qsize 14, out_qsize 1\n",
      "2020-05-07 13:38:05,464 : INFO : EPOCH 21 - PROGRESS: at 80.77% examples, 429981 words/s, in_qsize 15, out_qsize 0\n",
      "2020-05-07 13:38:06,466 : INFO : EPOCH 21 - PROGRESS: at 85.77% examples, 428702 words/s, in_qsize 16, out_qsize 0\n",
      "2020-05-07 13:38:07,527 : INFO : EPOCH 21 - PROGRESS: at 90.30% examples, 424107 words/s, in_qsize 15, out_qsize 0\n",
      "2020-05-07 13:38:08,540 : INFO : EPOCH 21 - PROGRESS: at 96.47% examples, 428338 words/s, in_qsize 15, out_qsize 0\n",
      "2020-05-07 13:38:09,059 : INFO : worker thread finished; awaiting finish of 7 more threads\n",
      "2020-05-07 13:38:09,121 : INFO : worker thread finished; awaiting finish of 6 more threads\n",
      "2020-05-07 13:38:09,128 : INFO : worker thread finished; awaiting finish of 5 more threads\n",
      "2020-05-07 13:38:09,158 : INFO : worker thread finished; awaiting finish of 4 more threads\n",
      "2020-05-07 13:38:09,160 : INFO : worker thread finished; awaiting finish of 3 more threads\n",
      "2020-05-07 13:38:09,175 : INFO : worker thread finished; awaiting finish of 2 more threads\n",
      "2020-05-07 13:38:09,188 : INFO : worker thread finished; awaiting finish of 1 more threads\n",
      "2020-05-07 13:38:09,194 : INFO : worker thread finished; awaiting finish of 0 more threads\n",
      "2020-05-07 13:38:09,195 : INFO : EPOCH - 21 : training on 9232906 raw words (8229689 effective words) took 19.2s, 428914 effective words/s\n",
      "2020-05-07 13:38:10,253 : INFO : EPOCH 22 - PROGRESS: at 5.61% examples, 450895 words/s, in_qsize 13, out_qsize 2\n",
      "2020-05-07 13:38:11,300 : INFO : EPOCH 22 - PROGRESS: at 12.12% examples, 480997 words/s, in_qsize 16, out_qsize 0\n",
      "2020-05-07 13:38:12,334 : INFO : EPOCH 22 - PROGRESS: at 18.94% examples, 501424 words/s, in_qsize 13, out_qsize 2\n",
      "2020-05-07 13:38:13,353 : INFO : EPOCH 22 - PROGRESS: at 26.39% examples, 526588 words/s, in_qsize 15, out_qsize 0\n",
      "2020-05-07 13:38:14,380 : INFO : EPOCH 22 - PROGRESS: at 33.44% examples, 533990 words/s, in_qsize 15, out_qsize 0\n",
      "2020-05-07 13:38:15,431 : INFO : EPOCH 22 - PROGRESS: at 40.83% examples, 541064 words/s, in_qsize 16, out_qsize 0\n",
      "2020-05-07 13:38:16,454 : INFO : EPOCH 22 - PROGRESS: at 48.09% examples, 547114 words/s, in_qsize 16, out_qsize 0\n",
      "2020-05-07 13:38:17,489 : INFO : EPOCH 22 - PROGRESS: at 55.35% examples, 550766 words/s, in_qsize 16, out_qsize 0\n",
      "2020-05-07 13:38:18,498 : INFO : EPOCH 22 - PROGRESS: at 62.59% examples, 555236 words/s, in_qsize 15, out_qsize 0\n",
      "2020-05-07 13:38:19,502 : INFO : EPOCH 22 - PROGRESS: at 69.64% examples, 557363 words/s, in_qsize 15, out_qsize 0\n",
      "2020-05-07 13:38:20,505 : INFO : EPOCH 22 - PROGRESS: at 76.87% examples, 560720 words/s, in_qsize 15, out_qsize 0\n",
      "2020-05-07 13:38:21,513 : INFO : EPOCH 22 - PROGRESS: at 83.71% examples, 560425 words/s, in_qsize 16, out_qsize 1\n",
      "2020-05-07 13:38:22,577 : INFO : EPOCH 22 - PROGRESS: at 90.84% examples, 559780 words/s, in_qsize 13, out_qsize 2\n",
      "2020-05-07 13:38:23,610 : INFO : EPOCH 22 - PROGRESS: at 98.42% examples, 562964 words/s, in_qsize 14, out_qsize 1\n",
      "2020-05-07 13:38:23,744 : INFO : worker thread finished; awaiting finish of 7 more threads\n",
      "2020-05-07 13:38:23,768 : INFO : worker thread finished; awaiting finish of 6 more threads\n",
      "2020-05-07 13:38:23,791 : INFO : worker thread finished; awaiting finish of 5 more threads\n",
      "2020-05-07 13:38:23,802 : INFO : worker thread finished; awaiting finish of 4 more threads\n",
      "2020-05-07 13:38:23,808 : INFO : worker thread finished; awaiting finish of 3 more threads\n",
      "2020-05-07 13:38:23,823 : INFO : worker thread finished; awaiting finish of 2 more threads\n",
      "2020-05-07 13:38:23,828 : INFO : worker thread finished; awaiting finish of 1 more threads\n",
      "2020-05-07 13:38:23,852 : INFO : worker thread finished; awaiting finish of 0 more threads\n",
      "2020-05-07 13:38:23,854 : INFO : EPOCH - 22 : training on 9232906 raw words (8228516 effective words) took 14.6s, 562554 effective words/s\n",
      "2020-05-07 13:38:24,902 : INFO : EPOCH 23 - PROGRESS: at 6.80% examples, 545146 words/s, in_qsize 15, out_qsize 0\n",
      "2020-05-07 13:38:25,909 : INFO : EPOCH 23 - PROGRESS: at 13.97% examples, 564112 words/s, in_qsize 16, out_qsize 0\n",
      "2020-05-07 13:38:26,936 : INFO : EPOCH 23 - PROGRESS: at 20.88% examples, 561269 words/s, in_qsize 16, out_qsize 0\n",
      "2020-05-07 13:38:27,948 : INFO : EPOCH 23 - PROGRESS: at 28.01% examples, 566183 words/s, in_qsize 16, out_qsize 0\n",
      "2020-05-07 13:38:28,974 : INFO : EPOCH 23 - PROGRESS: at 34.63% examples, 558857 words/s, in_qsize 15, out_qsize 3\n",
      "2020-05-07 13:38:29,974 : INFO : EPOCH 23 - PROGRESS: at 41.91% examples, 565016 words/s, in_qsize 15, out_qsize 3\n",
      "2020-05-07 13:38:30,993 : INFO : EPOCH 23 - PROGRESS: at 49.28% examples, 569254 words/s, in_qsize 15, out_qsize 0\n",
      "2020-05-07 13:38:32,027 : INFO : EPOCH 23 - PROGRESS: at 56.10% examples, 565875 words/s, in_qsize 16, out_qsize 0\n",
      "2020-05-07 13:38:33,040 : INFO : EPOCH 23 - PROGRESS: at 62.70% examples, 562654 words/s, in_qsize 16, out_qsize 0\n",
      "2020-05-07 13:38:34,060 : INFO : EPOCH 23 - PROGRESS: at 69.53% examples, 561445 words/s, in_qsize 16, out_qsize 1\n",
      "2020-05-07 13:38:35,062 : INFO : EPOCH 23 - PROGRESS: at 76.33% examples, 561299 words/s, in_qsize 16, out_qsize 0\n",
      "2020-05-07 13:38:36,075 : INFO : EPOCH 23 - PROGRESS: at 83.49% examples, 562862 words/s, in_qsize 14, out_qsize 1\n",
      "2020-05-07 13:38:37,083 : INFO : EPOCH 23 - PROGRESS: at 90.74% examples, 565073 words/s, in_qsize 15, out_qsize 0\n",
      "2020-05-07 13:38:38,092 : INFO : EPOCH 23 - PROGRESS: at 97.34% examples, 563235 words/s, in_qsize 14, out_qsize 0\n",
      "2020-05-07 13:38:38,349 : INFO : worker thread finished; awaiting finish of 7 more threads\n",
      "2020-05-07 13:38:38,376 : INFO : worker thread finished; awaiting finish of 6 more threads\n",
      "2020-05-07 13:38:38,388 : INFO : worker thread finished; awaiting finish of 5 more threads\n",
      "2020-05-07 13:38:38,396 : INFO : worker thread finished; awaiting finish of 4 more threads\n",
      "2020-05-07 13:38:38,419 : INFO : worker thread finished; awaiting finish of 3 more threads\n",
      "2020-05-07 13:38:38,425 : INFO : worker thread finished; awaiting finish of 2 more threads\n",
      "2020-05-07 13:38:38,427 : INFO : worker thread finished; awaiting finish of 1 more threads\n",
      "2020-05-07 13:38:38,435 : INFO : worker thread finished; awaiting finish of 0 more threads\n",
      "2020-05-07 13:38:38,437 : INFO : EPOCH - 23 : training on 9232906 raw words (8229007 effective words) took 14.6s, 565026 effective words/s\n",
      "2020-05-07 13:38:39,454 : INFO : EPOCH 24 - PROGRESS: at 6.15% examples, 507505 words/s, in_qsize 13, out_qsize 2\n",
      "2020-05-07 13:38:40,479 : INFO : EPOCH 24 - PROGRESS: at 13.43% examples, 545382 words/s, in_qsize 15, out_qsize 0\n",
      "2020-05-07 13:38:41,491 : INFO : EPOCH 24 - PROGRESS: at 20.34% examples, 551456 words/s, in_qsize 14, out_qsize 2\n",
      "2020-05-07 13:38:42,528 : INFO : EPOCH 24 - PROGRESS: at 27.04% examples, 546639 words/s, in_qsize 12, out_qsize 3\n",
      "2020-05-07 13:38:43,534 : INFO : EPOCH 24 - PROGRESS: at 34.42% examples, 557698 words/s, in_qsize 14, out_qsize 1\n",
      "2020-05-07 13:38:44,540 : INFO : EPOCH 24 - PROGRESS: at 41.48% examples, 560656 words/s, in_qsize 15, out_qsize 0\n",
      "2020-05-07 13:38:45,542 : INFO : EPOCH 24 - PROGRESS: at 48.41% examples, 561931 words/s, in_qsize 15, out_qsize 0\n",
      "2020-05-07 13:38:46,556 : INFO : EPOCH 24 - PROGRESS: at 55.56% examples, 564075 words/s, in_qsize 15, out_qsize 0\n",
      "2020-05-07 13:38:47,558 : INFO : EPOCH 24 - PROGRESS: at 62.70% examples, 566623 words/s, in_qsize 15, out_qsize 0\n",
      "2020-05-07 13:38:48,572 : INFO : EPOCH 24 - PROGRESS: at 69.53% examples, 565321 words/s, in_qsize 16, out_qsize 0\n",
      "2020-05-07 13:38:49,653 : INFO : EPOCH 24 - PROGRESS: at 76.65% examples, 563279 words/s, in_qsize 16, out_qsize 2\n",
      "2020-05-07 13:38:50,660 : INFO : EPOCH 24 - PROGRESS: at 83.81% examples, 564947 words/s, in_qsize 12, out_qsize 3\n",
      "2020-05-07 13:38:51,674 : INFO : EPOCH 24 - PROGRESS: at 91.17% examples, 567457 words/s, in_qsize 15, out_qsize 0\n"
     ]
    },
    {
     "name": "stderr",
     "output_type": "stream",
     "text": [
      "2020-05-07 13:38:52,692 : INFO : EPOCH 24 - PROGRESS: at 98.20% examples, 567539 words/s, in_qsize 16, out_qsize 0\n",
      "2020-05-07 13:38:52,852 : INFO : worker thread finished; awaiting finish of 7 more threads\n",
      "2020-05-07 13:38:52,856 : INFO : worker thread finished; awaiting finish of 6 more threads\n",
      "2020-05-07 13:38:52,863 : INFO : worker thread finished; awaiting finish of 5 more threads\n",
      "2020-05-07 13:38:52,919 : INFO : worker thread finished; awaiting finish of 4 more threads\n",
      "2020-05-07 13:38:52,931 : INFO : worker thread finished; awaiting finish of 3 more threads\n",
      "2020-05-07 13:38:52,958 : INFO : worker thread finished; awaiting finish of 2 more threads\n",
      "2020-05-07 13:38:52,959 : INFO : worker thread finished; awaiting finish of 1 more threads\n",
      "2020-05-07 13:38:52,962 : INFO : worker thread finished; awaiting finish of 0 more threads\n",
      "2020-05-07 13:38:52,963 : INFO : EPOCH - 24 : training on 9232906 raw words (8229223 effective words) took 14.5s, 567220 effective words/s\n",
      "2020-05-07 13:38:54,028 : INFO : EPOCH 25 - PROGRESS: at 6.59% examples, 522611 words/s, in_qsize 13, out_qsize 2\n",
      "2020-05-07 13:38:55,045 : INFO : EPOCH 25 - PROGRESS: at 14.19% examples, 567378 words/s, in_qsize 16, out_qsize 0\n",
      "2020-05-07 13:38:56,055 : INFO : EPOCH 25 - PROGRESS: at 21.09% examples, 566385 words/s, in_qsize 14, out_qsize 1\n",
      "2020-05-07 13:38:57,140 : INFO : EPOCH 25 - PROGRESS: at 28.34% examples, 562173 words/s, in_qsize 14, out_qsize 2\n",
      "2020-05-07 13:38:58,153 : INFO : EPOCH 25 - PROGRESS: at 35.94% examples, 572703 words/s, in_qsize 16, out_qsize 0\n",
      "2020-05-07 13:38:59,162 : INFO : EPOCH 25 - PROGRESS: at 43.22% examples, 575743 words/s, in_qsize 15, out_qsize 0\n",
      "2020-05-07 13:39:00,194 : INFO : EPOCH 25 - PROGRESS: at 50.05% examples, 571213 words/s, in_qsize 14, out_qsize 1\n",
      "2020-05-07 13:39:01,218 : INFO : EPOCH 25 - PROGRESS: at 57.30% examples, 572590 words/s, in_qsize 13, out_qsize 2\n",
      "2020-05-07 13:39:02,234 : INFO : EPOCH 25 - PROGRESS: at 64.22% examples, 571423 words/s, in_qsize 16, out_qsize 2\n",
      "2020-05-07 13:39:03,237 : INFO : EPOCH 25 - PROGRESS: at 71.80% examples, 576289 words/s, in_qsize 14, out_qsize 1\n",
      "2020-05-07 13:39:04,249 : INFO : EPOCH 25 - PROGRESS: at 78.93% examples, 576742 words/s, in_qsize 15, out_qsize 0\n",
      "2020-05-07 13:39:05,253 : INFO : EPOCH 25 - PROGRESS: at 85.88% examples, 576007 words/s, in_qsize 15, out_qsize 0\n",
      "2020-05-07 13:39:06,275 : INFO : EPOCH 25 - PROGRESS: at 92.91% examples, 575279 words/s, in_qsize 15, out_qsize 0\n",
      "2020-05-07 13:39:07,177 : INFO : worker thread finished; awaiting finish of 7 more threads\n",
      "2020-05-07 13:39:07,179 : INFO : worker thread finished; awaiting finish of 6 more threads\n",
      "2020-05-07 13:39:07,221 : INFO : worker thread finished; awaiting finish of 5 more threads\n",
      "2020-05-07 13:39:07,229 : INFO : worker thread finished; awaiting finish of 4 more threads\n",
      "2020-05-07 13:39:07,237 : INFO : worker thread finished; awaiting finish of 3 more threads\n",
      "2020-05-07 13:39:07,248 : INFO : worker thread finished; awaiting finish of 2 more threads\n",
      "2020-05-07 13:39:07,249 : INFO : worker thread finished; awaiting finish of 1 more threads\n",
      "2020-05-07 13:39:07,257 : INFO : worker thread finished; awaiting finish of 0 more threads\n",
      "2020-05-07 13:39:07,258 : INFO : EPOCH - 25 : training on 9232906 raw words (8229371 effective words) took 14.3s, 576718 effective words/s\n",
      "2020-05-07 13:39:08,283 : INFO : EPOCH 26 - PROGRESS: at 6.59% examples, 541202 words/s, in_qsize 15, out_qsize 0\n",
      "2020-05-07 13:39:09,292 : INFO : EPOCH 26 - PROGRESS: at 13.54% examples, 553084 words/s, in_qsize 15, out_qsize 0\n",
      "2020-05-07 13:39:10,304 : INFO : EPOCH 26 - PROGRESS: at 20.45% examples, 556754 words/s, in_qsize 14, out_qsize 1\n",
      "2020-05-07 13:39:11,327 : INFO : EPOCH 26 - PROGRESS: at 27.04% examples, 550361 words/s, in_qsize 15, out_qsize 2\n",
      "2020-05-07 13:39:12,332 : INFO : EPOCH 26 - PROGRESS: at 34.63% examples, 564279 words/s, in_qsize 16, out_qsize 0\n",
      "2020-05-07 13:39:13,335 : INFO : EPOCH 26 - PROGRESS: at 41.69% examples, 566304 words/s, in_qsize 15, out_qsize 0\n",
      "2020-05-07 13:39:14,358 : INFO : EPOCH 26 - PROGRESS: at 48.19% examples, 560003 words/s, in_qsize 15, out_qsize 1\n",
      "2020-05-07 13:39:15,367 : INFO : EPOCH 26 - PROGRESS: at 55.56% examples, 565029 words/s, in_qsize 14, out_qsize 1\n",
      "2020-05-07 13:39:16,382 : INFO : EPOCH 26 - PROGRESS: at 62.26% examples, 562735 words/s, in_qsize 16, out_qsize 1\n",
      "2020-05-07 13:39:17,431 : INFO : EPOCH 26 - PROGRESS: at 69.64% examples, 564254 words/s, in_qsize 16, out_qsize 0\n",
      "2020-05-07 13:39:18,452 : INFO : EPOCH 26 - PROGRESS: at 76.87% examples, 566090 words/s, in_qsize 15, out_qsize 0\n",
      "2020-05-07 13:39:19,458 : INFO : EPOCH 26 - PROGRESS: at 83.70% examples, 565412 words/s, in_qsize 15, out_qsize 2\n",
      "2020-05-07 13:39:20,485 : INFO : EPOCH 26 - PROGRESS: at 90.95% examples, 566617 words/s, in_qsize 14, out_qsize 3\n",
      "2020-05-07 13:39:21,487 : INFO : EPOCH 26 - PROGRESS: at 98.09% examples, 568034 words/s, in_qsize 16, out_qsize 0\n",
      "2020-05-07 13:39:21,723 : INFO : worker thread finished; awaiting finish of 7 more threads\n",
      "2020-05-07 13:39:21,737 : INFO : worker thread finished; awaiting finish of 6 more threads\n",
      "2020-05-07 13:39:21,738 : INFO : worker thread finished; awaiting finish of 5 more threads\n",
      "2020-05-07 13:39:21,749 : INFO : worker thread finished; awaiting finish of 4 more threads\n",
      "2020-05-07 13:39:21,801 : INFO : worker thread finished; awaiting finish of 3 more threads\n",
      "2020-05-07 13:39:21,813 : INFO : worker thread finished; awaiting finish of 2 more threads\n",
      "2020-05-07 13:39:21,833 : INFO : worker thread finished; awaiting finish of 1 more threads\n",
      "2020-05-07 13:39:21,843 : INFO : worker thread finished; awaiting finish of 0 more threads\n",
      "2020-05-07 13:39:21,844 : INFO : EPOCH - 26 : training on 9232906 raw words (8228288 effective words) took 14.6s, 564940 effective words/s\n",
      "2020-05-07 13:39:22,882 : INFO : EPOCH 27 - PROGRESS: at 4.11% examples, 333589 words/s, in_qsize 15, out_qsize 5\n",
      "2020-05-07 13:39:23,902 : INFO : EPOCH 27 - PROGRESS: at 8.87% examples, 358952 words/s, in_qsize 15, out_qsize 0\n",
      "2020-05-07 13:39:24,962 : INFO : EPOCH 27 - PROGRESS: at 14.40% examples, 382769 words/s, in_qsize 14, out_qsize 4\n",
      "2020-05-07 13:39:25,989 : INFO : EPOCH 27 - PROGRESS: at 20.98% examples, 419338 words/s, in_qsize 15, out_qsize 0\n",
      "2020-05-07 13:39:27,052 : INFO : EPOCH 27 - PROGRESS: at 28.02% examples, 445025 words/s, in_qsize 15, out_qsize 0\n",
      "2020-05-07 13:39:28,058 : INFO : EPOCH 27 - PROGRESS: at 35.61% examples, 473482 words/s, in_qsize 16, out_qsize 0\n",
      "2020-05-07 13:39:29,066 : INFO : EPOCH 27 - PROGRESS: at 40.94% examples, 467735 words/s, in_qsize 13, out_qsize 2\n",
      "2020-05-07 13:39:30,154 : INFO : EPOCH 27 - PROGRESS: at 46.35% examples, 460053 words/s, in_qsize 13, out_qsize 2\n",
      "2020-05-07 13:39:31,158 : INFO : EPOCH 27 - PROGRESS: at 51.45% examples, 455429 words/s, in_qsize 15, out_qsize 0\n",
      "2020-05-07 13:39:32,164 : INFO : EPOCH 27 - PROGRESS: at 56.43% examples, 450710 words/s, in_qsize 13, out_qsize 2\n",
      "2020-05-07 13:39:33,185 : INFO : EPOCH 27 - PROGRESS: at 62.16% examples, 451827 words/s, in_qsize 14, out_qsize 1\n",
      "2020-05-07 13:39:34,217 : INFO : EPOCH 27 - PROGRESS: at 67.90% examples, 452325 words/s, in_qsize 14, out_qsize 1\n",
      "2020-05-07 13:39:35,346 : INFO : EPOCH 27 - PROGRESS: at 73.64% examples, 449465 words/s, in_qsize 15, out_qsize 1\n",
      "2020-05-07 13:39:36,369 : INFO : EPOCH 27 - PROGRESS: at 78.28% examples, 444187 words/s, in_qsize 15, out_qsize 0\n",
      "2020-05-07 13:39:37,382 : INFO : EPOCH 27 - PROGRESS: at 83.81% examples, 444451 words/s, in_qsize 14, out_qsize 1\n",
      "2020-05-07 13:39:38,429 : INFO : EPOCH 27 - PROGRESS: at 89.01% examples, 442164 words/s, in_qsize 14, out_qsize 1\n",
      "2020-05-07 13:39:39,471 : INFO : EPOCH 27 - PROGRESS: at 95.82% examples, 447889 words/s, in_qsize 15, out_qsize 0\n",
      "2020-05-07 13:39:39,964 : INFO : worker thread finished; awaiting finish of 7 more threads\n",
      "2020-05-07 13:39:39,965 : INFO : worker thread finished; awaiting finish of 6 more threads\n",
      "2020-05-07 13:39:39,967 : INFO : worker thread finished; awaiting finish of 5 more threads\n",
      "2020-05-07 13:39:39,968 : INFO : worker thread finished; awaiting finish of 4 more threads\n",
      "2020-05-07 13:39:39,970 : INFO : worker thread finished; awaiting finish of 3 more threads\n"
     ]
    },
    {
     "name": "stderr",
     "output_type": "stream",
     "text": [
      "2020-05-07 13:39:39,995 : INFO : worker thread finished; awaiting finish of 2 more threads\n",
      "2020-05-07 13:39:40,011 : INFO : worker thread finished; awaiting finish of 1 more threads\n",
      "2020-05-07 13:39:40,024 : INFO : worker thread finished; awaiting finish of 0 more threads\n",
      "2020-05-07 13:39:40,025 : INFO : EPOCH - 27 : training on 9232906 raw words (8229454 effective words) took 18.2s, 453233 effective words/s\n",
      "2020-05-07 13:39:41,063 : INFO : EPOCH 28 - PROGRESS: at 6.48% examples, 527359 words/s, in_qsize 15, out_qsize 0\n",
      "2020-05-07 13:39:42,080 : INFO : EPOCH 28 - PROGRESS: at 13.97% examples, 565977 words/s, in_qsize 16, out_qsize 0\n",
      "2020-05-07 13:39:43,303 : INFO : EPOCH 28 - PROGRESS: at 20.56% examples, 520238 words/s, in_qsize 11, out_qsize 4\n",
      "2020-05-07 13:39:44,322 : INFO : EPOCH 28 - PROGRESS: at 24.76% examples, 477614 words/s, in_qsize 15, out_qsize 0\n",
      "2020-05-07 13:39:45,441 : INFO : EPOCH 28 - PROGRESS: at 29.97% examples, 457825 words/s, in_qsize 15, out_qsize 0\n",
      "2020-05-07 13:39:46,471 : INFO : EPOCH 28 - PROGRESS: at 34.20% examples, 438495 words/s, in_qsize 15, out_qsize 0\n",
      "2020-05-07 13:39:47,477 : INFO : EPOCH 28 - PROGRESS: at 38.56% examples, 427052 words/s, in_qsize 16, out_qsize 0\n",
      "2020-05-07 13:39:48,487 : INFO : EPOCH 28 - PROGRESS: at 45.71% examples, 445592 words/s, in_qsize 15, out_qsize 0\n",
      "2020-05-07 13:39:49,508 : INFO : EPOCH 28 - PROGRESS: at 52.75% examples, 458740 words/s, in_qsize 15, out_qsize 1\n",
      "2020-05-07 13:39:50,515 : INFO : EPOCH 28 - PROGRESS: at 59.89% examples, 470787 words/s, in_qsize 16, out_qsize 0\n",
      "2020-05-07 13:39:51,520 : INFO : EPOCH 28 - PROGRESS: at 67.04% examples, 480803 words/s, in_qsize 15, out_qsize 0\n",
      "2020-05-07 13:39:52,541 : INFO : EPOCH 28 - PROGRESS: at 73.96% examples, 487155 words/s, in_qsize 14, out_qsize 1\n",
      "2020-05-07 13:39:53,549 : INFO : EPOCH 28 - PROGRESS: at 81.21% examples, 495014 words/s, in_qsize 15, out_qsize 0\n",
      "2020-05-07 13:39:54,585 : INFO : EPOCH 28 - PROGRESS: at 88.35% examples, 500170 words/s, in_qsize 14, out_qsize 1\n",
      "2020-05-07 13:39:55,586 : INFO : EPOCH 28 - PROGRESS: at 95.39% examples, 505224 words/s, in_qsize 16, out_qsize 0\n",
      "2020-05-07 13:39:56,118 : INFO : worker thread finished; awaiting finish of 7 more threads\n",
      "2020-05-07 13:39:56,163 : INFO : worker thread finished; awaiting finish of 6 more threads\n",
      "2020-05-07 13:39:56,181 : INFO : worker thread finished; awaiting finish of 5 more threads\n",
      "2020-05-07 13:39:56,206 : INFO : worker thread finished; awaiting finish of 4 more threads\n",
      "2020-05-07 13:39:56,232 : INFO : worker thread finished; awaiting finish of 3 more threads\n",
      "2020-05-07 13:39:56,234 : INFO : worker thread finished; awaiting finish of 2 more threads\n",
      "2020-05-07 13:39:56,235 : INFO : worker thread finished; awaiting finish of 1 more threads\n",
      "2020-05-07 13:39:56,240 : INFO : worker thread finished; awaiting finish of 0 more threads\n",
      "2020-05-07 13:39:56,242 : INFO : EPOCH - 28 : training on 9232906 raw words (8230092 effective words) took 16.2s, 508282 effective words/s\n",
      "2020-05-07 13:39:57,271 : INFO : EPOCH 29 - PROGRESS: at 6.69% examples, 547416 words/s, in_qsize 14, out_qsize 1\n",
      "2020-05-07 13:39:58,296 : INFO : EPOCH 29 - PROGRESS: at 13.53% examples, 547605 words/s, in_qsize 16, out_qsize 1\n",
      "2020-05-07 13:39:59,381 : INFO : EPOCH 29 - PROGRESS: at 20.56% examples, 542786 words/s, in_qsize 16, out_qsize 0\n",
      "2020-05-07 13:40:00,387 : INFO : EPOCH 29 - PROGRESS: at 24.64% examples, 492509 words/s, in_qsize 15, out_qsize 0\n",
      "2020-05-07 13:40:01,405 : INFO : EPOCH 29 - PROGRESS: at 30.07% examples, 481676 words/s, in_qsize 16, out_qsize 0\n",
      "2020-05-07 13:40:02,475 : INFO : EPOCH 29 - PROGRESS: at 34.31% examples, 454578 words/s, in_qsize 16, out_qsize 0\n",
      "2020-05-07 13:40:03,491 : INFO : EPOCH 29 - PROGRESS: at 38.45% examples, 437543 words/s, in_qsize 15, out_qsize 0\n",
      "2020-05-07 13:40:04,504 : INFO : EPOCH 29 - PROGRESS: at 41.91% examples, 418319 words/s, in_qsize 14, out_qsize 2\n",
      "2020-05-07 13:40:05,508 : INFO : EPOCH 29 - PROGRESS: at 47.11% examples, 419126 words/s, in_qsize 16, out_qsize 0\n",
      "2020-05-07 13:40:06,662 : INFO : EPOCH 29 - PROGRESS: at 50.92% examples, 402603 words/s, in_qsize 11, out_qsize 6\n",
      "2020-05-07 13:40:07,685 : INFO : EPOCH 29 - PROGRESS: at 56.32% examples, 405551 words/s, in_qsize 11, out_qsize 3\n",
      "2020-05-07 13:40:08,777 : INFO : EPOCH 29 - PROGRESS: at 62.59% examples, 411440 words/s, in_qsize 15, out_qsize 0\n",
      "2020-05-07 13:40:09,783 : INFO : EPOCH 29 - PROGRESS: at 67.15% examples, 408527 words/s, in_qsize 15, out_qsize 0\n",
      "2020-05-07 13:40:10,797 : INFO : EPOCH 29 - PROGRESS: at 71.91% examples, 406984 words/s, in_qsize 16, out_qsize 0\n",
      "2020-05-07 13:40:11,836 : INFO : EPOCH 29 - PROGRESS: at 75.79% examples, 400428 words/s, in_qsize 15, out_qsize 2\n",
      "2020-05-07 13:40:12,864 : INFO : EPOCH 29 - PROGRESS: at 80.34% examples, 398143 words/s, in_qsize 15, out_qsize 1\n",
      "2020-05-07 13:40:13,876 : INFO : EPOCH 29 - PROGRESS: at 85.12% examples, 397519 words/s, in_qsize 14, out_qsize 1\n",
      "2020-05-07 13:40:14,946 : INFO : EPOCH 29 - PROGRESS: at 90.51% examples, 398606 words/s, in_qsize 15, out_qsize 0\n",
      "2020-05-07 13:40:16,046 : INFO : EPOCH 29 - PROGRESS: at 95.93% examples, 398965 words/s, in_qsize 16, out_qsize 0\n",
      "2020-05-07 13:40:16,584 : INFO : worker thread finished; awaiting finish of 7 more threads\n",
      "2020-05-07 13:40:16,586 : INFO : worker thread finished; awaiting finish of 6 more threads\n",
      "2020-05-07 13:40:16,591 : INFO : worker thread finished; awaiting finish of 5 more threads\n",
      "2020-05-07 13:40:16,592 : INFO : worker thread finished; awaiting finish of 4 more threads\n",
      "2020-05-07 13:40:16,594 : INFO : worker thread finished; awaiting finish of 3 more threads\n",
      "2020-05-07 13:40:16,656 : INFO : worker thread finished; awaiting finish of 2 more threads\n",
      "2020-05-07 13:40:16,663 : INFO : worker thread finished; awaiting finish of 1 more threads\n",
      "2020-05-07 13:40:16,677 : INFO : worker thread finished; awaiting finish of 0 more threads\n",
      "2020-05-07 13:40:16,678 : INFO : EPOCH - 29 : training on 9232906 raw words (8229203 effective words) took 20.4s, 403080 effective words/s\n",
      "2020-05-07 13:40:17,698 : INFO : EPOCH 30 - PROGRESS: at 5.83% examples, 480440 words/s, in_qsize 13, out_qsize 2\n",
      "2020-05-07 13:40:18,737 : INFO : EPOCH 30 - PROGRESS: at 13.21% examples, 532591 words/s, in_qsize 15, out_qsize 0\n",
      "2020-05-07 13:40:19,746 : INFO : EPOCH 30 - PROGRESS: at 20.34% examples, 549267 words/s, in_qsize 14, out_qsize 1\n",
      "2020-05-07 13:40:20,800 : INFO : EPOCH 30 - PROGRESS: at 27.37% examples, 549310 words/s, in_qsize 14, out_qsize 3\n",
      "2020-05-07 13:40:21,830 : INFO : EPOCH 30 - PROGRESS: at 34.63% examples, 555416 words/s, in_qsize 15, out_qsize 0\n",
      "2020-05-07 13:40:22,853 : INFO : EPOCH 30 - PROGRESS: at 41.80% examples, 558487 words/s, in_qsize 15, out_qsize 0\n",
      "2020-05-07 13:40:23,912 : INFO : EPOCH 30 - PROGRESS: at 49.17% examples, 560467 words/s, in_qsize 15, out_qsize 0\n",
      "2020-05-07 13:40:24,920 : INFO : EPOCH 30 - PROGRESS: at 56.00% examples, 559993 words/s, in_qsize 14, out_qsize 1\n",
      "2020-05-07 13:40:25,938 : INFO : EPOCH 30 - PROGRESS: at 63.24% examples, 563004 words/s, in_qsize 16, out_qsize 0\n",
      "2020-05-07 13:40:26,965 : INFO : EPOCH 30 - PROGRESS: at 70.18% examples, 562244 words/s, in_qsize 15, out_qsize 0\n",
      "2020-05-07 13:40:27,969 : INFO : EPOCH 30 - PROGRESS: at 76.87% examples, 561163 words/s, in_qsize 14, out_qsize 1\n",
      "2020-05-07 13:40:28,988 : INFO : EPOCH 30 - PROGRESS: at 84.03% examples, 562429 words/s, in_qsize 15, out_qsize 0\n",
      "2020-05-07 13:40:30,025 : INFO : EPOCH 30 - PROGRESS: at 91.17% examples, 562817 words/s, in_qsize 15, out_qsize 0\n",
      "2020-05-07 13:40:31,029 : INFO : EPOCH 30 - PROGRESS: at 98.41% examples, 565035 words/s, in_qsize 15, out_qsize 0\n",
      "2020-05-07 13:40:31,201 : INFO : worker thread finished; awaiting finish of 7 more threads\n",
      "2020-05-07 13:40:31,203 : INFO : worker thread finished; awaiting finish of 6 more threads\n",
      "2020-05-07 13:40:31,204 : INFO : worker thread finished; awaiting finish of 5 more threads\n",
      "2020-05-07 13:40:31,206 : INFO : worker thread finished; awaiting finish of 4 more threads\n",
      "2020-05-07 13:40:31,238 : INFO : worker thread finished; awaiting finish of 3 more threads\n",
      "2020-05-07 13:40:31,253 : INFO : worker thread finished; awaiting finish of 2 more threads\n"
     ]
    },
    {
     "name": "stderr",
     "output_type": "stream",
     "text": [
      "2020-05-07 13:40:31,261 : INFO : worker thread finished; awaiting finish of 1 more threads\n",
      "2020-05-07 13:40:31,282 : INFO : worker thread finished; awaiting finish of 0 more threads\n",
      "2020-05-07 13:40:31,282 : INFO : EPOCH - 30 : training on 9232906 raw words (8228857 effective words) took 14.6s, 564211 effective words/s\n",
      "2020-05-07 13:40:32,315 : INFO : EPOCH 31 - PROGRESS: at 6.59% examples, 536675 words/s, in_qsize 15, out_qsize 0\n",
      "2020-05-07 13:40:33,318 : INFO : EPOCH 31 - PROGRESS: at 13.75% examples, 561482 words/s, in_qsize 15, out_qsize 0\n",
      "2020-05-07 13:40:34,361 : INFO : EPOCH 31 - PROGRESS: at 20.66% examples, 556486 words/s, in_qsize 15, out_qsize 0\n",
      "2020-05-07 13:40:35,408 : INFO : EPOCH 31 - PROGRESS: at 28.02% examples, 562067 words/s, in_qsize 16, out_qsize 0\n",
      "2020-05-07 13:40:36,420 : INFO : EPOCH 31 - PROGRESS: at 35.07% examples, 564046 words/s, in_qsize 16, out_qsize 0\n",
      "2020-05-07 13:40:37,445 : INFO : EPOCH 31 - PROGRESS: at 42.24% examples, 565605 words/s, in_qsize 16, out_qsize 0\n",
      "2020-05-07 13:40:38,494 : INFO : EPOCH 31 - PROGRESS: at 49.18% examples, 562360 words/s, in_qsize 16, out_qsize 1\n",
      "2020-05-07 13:40:39,502 : INFO : EPOCH 31 - PROGRESS: at 56.43% examples, 565981 words/s, in_qsize 15, out_qsize 0\n",
      "2020-05-07 13:40:40,503 : INFO : EPOCH 31 - PROGRESS: at 63.24% examples, 565466 words/s, in_qsize 14, out_qsize 2\n",
      "2020-05-07 13:40:41,520 : INFO : EPOCH 31 - PROGRESS: at 70.07% examples, 564075 words/s, in_qsize 12, out_qsize 3\n",
      "2020-05-07 13:40:42,520 : INFO : EPOCH 31 - PROGRESS: at 77.53% examples, 568598 words/s, in_qsize 16, out_qsize 0\n",
      "2020-05-07 13:40:43,545 : INFO : EPOCH 31 - PROGRESS: at 84.58% examples, 568301 words/s, in_qsize 15, out_qsize 0\n",
      "2020-05-07 13:40:44,576 : INFO : EPOCH 31 - PROGRESS: at 90.19% examples, 559038 words/s, in_qsize 14, out_qsize 1\n",
      "2020-05-07 13:40:45,630 : INFO : EPOCH 31 - PROGRESS: at 94.42% examples, 542189 words/s, in_qsize 14, out_qsize 1\n",
      "2020-05-07 13:40:46,703 : INFO : EPOCH 31 - PROGRESS: at 98.74% examples, 527565 words/s, in_qsize 11, out_qsize 1\n",
      "2020-05-07 13:40:46,718 : INFO : worker thread finished; awaiting finish of 7 more threads\n",
      "2020-05-07 13:40:46,732 : INFO : worker thread finished; awaiting finish of 6 more threads\n",
      "2020-05-07 13:40:46,767 : INFO : worker thread finished; awaiting finish of 5 more threads\n",
      "2020-05-07 13:40:46,803 : INFO : worker thread finished; awaiting finish of 4 more threads\n",
      "2020-05-07 13:40:46,834 : INFO : worker thread finished; awaiting finish of 3 more threads\n",
      "2020-05-07 13:40:46,850 : INFO : worker thread finished; awaiting finish of 2 more threads\n",
      "2020-05-07 13:40:46,859 : INFO : worker thread finished; awaiting finish of 1 more threads\n",
      "2020-05-07 13:40:46,861 : INFO : worker thread finished; awaiting finish of 0 more threads\n",
      "2020-05-07 13:40:46,863 : INFO : EPOCH - 31 : training on 9232906 raw words (8228885 effective words) took 15.6s, 528840 effective words/s\n",
      "2020-05-07 13:40:47,909 : INFO : EPOCH 32 - PROGRESS: at 5.18% examples, 422783 words/s, in_qsize 15, out_qsize 0\n",
      "2020-05-07 13:40:48,951 : INFO : EPOCH 32 - PROGRESS: at 11.80% examples, 473000 words/s, in_qsize 16, out_qsize 0\n",
      "2020-05-07 13:40:49,961 : INFO : EPOCH 32 - PROGRESS: at 18.62% examples, 500177 words/s, in_qsize 12, out_qsize 3\n",
      "2020-05-07 13:40:51,018 : INFO : EPOCH 32 - PROGRESS: at 24.00% examples, 480054 words/s, in_qsize 16, out_qsize 0\n",
      "2020-05-07 13:40:52,027 : INFO : EPOCH 32 - PROGRESS: at 28.67% examples, 460422 words/s, in_qsize 15, out_qsize 0\n",
      "2020-05-07 13:40:53,031 : INFO : EPOCH 32 - PROGRESS: at 34.09% examples, 457632 words/s, in_qsize 16, out_qsize 0\n",
      "2020-05-07 13:40:54,052 : INFO : EPOCH 32 - PROGRESS: at 41.48% examples, 476942 words/s, in_qsize 15, out_qsize 0\n",
      "2020-05-07 13:40:55,108 : INFO : EPOCH 32 - PROGRESS: at 48.52% examples, 486140 words/s, in_qsize 14, out_qsize 1\n",
      "2020-05-07 13:40:56,138 : INFO : EPOCH 32 - PROGRESS: at 55.24% examples, 491732 words/s, in_qsize 15, out_qsize 0\n",
      "2020-05-07 13:40:57,202 : INFO : EPOCH 32 - PROGRESS: at 61.94% examples, 494568 words/s, in_qsize 16, out_qsize 3\n",
      "2020-05-07 13:40:58,242 : INFO : EPOCH 32 - PROGRESS: at 69.09% examples, 501068 words/s, in_qsize 14, out_qsize 1\n",
      "2020-05-07 13:40:59,315 : INFO : EPOCH 32 - PROGRESS: at 73.85% examples, 489322 words/s, in_qsize 11, out_qsize 4\n",
      "2020-05-07 13:41:00,324 : INFO : EPOCH 32 - PROGRESS: at 79.36% examples, 486381 words/s, in_qsize 11, out_qsize 4\n",
      "2020-05-07 13:41:01,328 : INFO : EPOCH 32 - PROGRESS: at 85.66% examples, 488322 words/s, in_qsize 16, out_qsize 0\n",
      "2020-05-07 13:41:02,358 : INFO : EPOCH 32 - PROGRESS: at 91.71% examples, 488085 words/s, in_qsize 15, out_qsize 5\n",
      "2020-05-07 13:41:03,394 : INFO : EPOCH 32 - PROGRESS: at 98.20% examples, 489869 words/s, in_qsize 11, out_qsize 6\n",
      "2020-05-07 13:41:03,472 : INFO : worker thread finished; awaiting finish of 7 more threads\n",
      "2020-05-07 13:41:03,512 : INFO : worker thread finished; awaiting finish of 6 more threads\n",
      "2020-05-07 13:41:03,530 : INFO : worker thread finished; awaiting finish of 5 more threads\n",
      "2020-05-07 13:41:03,536 : INFO : worker thread finished; awaiting finish of 4 more threads\n",
      "2020-05-07 13:41:03,537 : INFO : worker thread finished; awaiting finish of 3 more threads\n",
      "2020-05-07 13:41:03,600 : INFO : worker thread finished; awaiting finish of 2 more threads\n",
      "2020-05-07 13:41:03,608 : INFO : worker thread finished; awaiting finish of 1 more threads\n",
      "2020-05-07 13:41:03,613 : INFO : worker thread finished; awaiting finish of 0 more threads\n",
      "2020-05-07 13:41:03,614 : INFO : EPOCH - 32 : training on 9232906 raw words (8229404 effective words) took 16.7s, 492327 effective words/s\n",
      "2020-05-07 13:41:03,618 : INFO : training on a 295452992 raw words (263333193 effective words) took 556.9s, 472862 effective words/s\n"
     ]
    },
    {
     "name": "stdout",
     "output_type": "stream",
     "text": [
      "CPU times: user 26min, sys: 15.3 s, total: 26min 16s\n",
      "Wall time: 9min 16s\n"
     ]
    },
    {
     "data": {
      "text/plain": [
       "(263333193, 295452992)"
      ]
     },
     "execution_count": 26,
     "metadata": {},
     "output_type": "execute_result"
    }
   ],
   "source": [
    "%%time\n",
    "w2v_model.train(documents, total_examples=len(documents), epochs=W2V_EPOCH)"
   ]
  },
  {
   "cell_type": "code",
   "execution_count": 27,
   "metadata": {},
   "outputs": [
    {
     "name": "stderr",
     "output_type": "stream",
     "text": [
      "/opt/anaconda3/lib/python3.7/site-packages/ipykernel_launcher.py:1: DeprecationWarning: Call to deprecated `most_similar` (Method will be removed in 4.0.0, use self.wv.most_similar() instead).\n",
      "  \"\"\"Entry point for launching an IPython kernel.\n",
      "2020-05-07 13:41:03,653 : INFO : precomputing L2-norms of word weight vectors\n"
     ]
    },
    {
     "data": {
      "text/plain": [
       "[('luv', 0.5740943551063538),\n",
       " ('loves', 0.5717892646789551),\n",
       " ('adore', 0.5568811893463135),\n",
       " ('loved', 0.5138437747955322),\n",
       " ('looove', 0.4960799217224121),\n",
       " ('amazing', 0.4943632483482361),\n",
       " ('lovee', 0.48525866866111755),\n",
       " ('looooove', 0.47260385751724243),\n",
       " ('awesome', 0.45279037952423096),\n",
       " ('loooove', 0.43402644991874695)]"
      ]
     },
     "execution_count": 27,
     "metadata": {},
     "output_type": "execute_result"
    }
   ],
   "source": [
    "w2v_model.most_similar(\"love\")"
   ]
  },
  {
   "cell_type": "markdown",
   "metadata": {},
   "source": [
    "### Tokenize Text"
   ]
  },
  {
   "cell_type": "code",
   "execution_count": 28,
   "metadata": {},
   "outputs": [
    {
     "name": "stdout",
     "output_type": "stream",
     "text": [
      "Total words 290957\n",
      "CPU times: user 24.9 s, sys: 213 ms, total: 25.1 s\n",
      "Wall time: 26 s\n"
     ]
    }
   ],
   "source": [
    "%%time\n",
    "tokenizer = Tokenizer()\n",
    "tokenizer.fit_on_texts(df_train.text)\n",
    "\n",
    "vocab_size = len(tokenizer.word_index) + 1\n",
    "print(\"Total words\", vocab_size)"
   ]
  },
  {
   "cell_type": "code",
   "execution_count": 29,
   "metadata": {},
   "outputs": [
    {
     "name": "stdout",
     "output_type": "stream",
     "text": [
      "CPU times: user 25.3 s, sys: 1.34 s, total: 26.6 s\n",
      "Wall time: 29.6 s\n"
     ]
    }
   ],
   "source": [
    "%%time\n",
    "tokenizer = Tokenizer()\n",
    "x_train = pad_sequences(tokenizer.texts_to_sequences(df_train.text), maxlen=SEQUENCE_LENGTH)\n",
    "x_test = pad_sequences(tokenizer.texts_to_sequences(df_test.text), maxlen=SEQUENCE_LENGTH)"
   ]
  },
  {
   "cell_type": "markdown",
   "metadata": {},
   "source": [
    "### Label Encoder"
   ]
  },
  {
   "cell_type": "code",
   "execution_count": 30,
   "metadata": {},
   "outputs": [
    {
     "data": {
      "text/plain": [
       "['NEGATIVE', 'POSITIVE', 'NEUTRAL', 'NEUTRAL']"
      ]
     },
     "execution_count": 30,
     "metadata": {},
     "output_type": "execute_result"
    }
   ],
   "source": [
    "labels = df_train.target.unique().tolist()\n",
    "labels.append(NEUTRAL)\n",
    "labels"
   ]
  },
  {
   "cell_type": "code",
   "execution_count": 31,
   "metadata": {},
   "outputs": [
    {
     "name": "stdout",
     "output_type": "stream",
     "text": [
      "y_train (1280398, 1)\n",
      "y_test (320100, 1)\n"
     ]
    }
   ],
   "source": [
    "encoder = LabelEncoder()\n",
    "encoder.fit(df_train.target.tolist())\n",
    "\n",
    "y_train = encoder.transform(df_train.target.tolist())\n",
    "y_test = encoder.transform(df_test.target.tolist())\n",
    "\n",
    "y_train = y_train.reshape(-1,1)\n",
    "y_test = y_test.reshape(-1,1)\n",
    "\n",
    "print(\"y_train\",y_train.shape)\n",
    "print(\"y_test\",y_test.shape)"
   ]
  },
  {
   "cell_type": "code",
   "execution_count": 32,
   "metadata": {},
   "outputs": [
    {
     "name": "stdout",
     "output_type": "stream",
     "text": [
      "x_train (1280398, 300)\n",
      "y_train (1280398, 1)\n",
      "\n",
      "x_test (320100, 300)\n",
      "y_test (320100, 1)\n"
     ]
    }
   ],
   "source": [
    "tokenizer = Tokenizer()\n",
    "x_train = pad_sequences(tokenizer.texts_to_sequences(df_train.text), maxlen=SEQUENCE_LENGTH)\n",
    "x_test = pad_sequences(tokenizer.texts_to_sequences(df_test.text), maxlen=SEQUENCE_LENGTH)\n",
    "\n",
    "print(\"x_train\", x_train.shape)\n",
    "print(\"y_train\", y_train.shape)\n",
    "print()\n",
    "print(\"x_test\", x_test.shape)\n",
    "print(\"y_test\", y_test.shape)"
   ]
  },
  {
   "cell_type": "code",
   "execution_count": 33,
   "metadata": {},
   "outputs": [
    {
     "data": {
      "text/plain": [
       "array([[0],\n",
       "       [0],\n",
       "       [2],\n",
       "       [0],\n",
       "       [2],\n",
       "       [0],\n",
       "       [0],\n",
       "       [0],\n",
       "       [0],\n",
       "       [2]])"
      ]
     },
     "execution_count": 33,
     "metadata": {},
     "output_type": "execute_result"
    }
   ],
   "source": [
    "y_train[:10]"
   ]
  },
  {
   "cell_type": "markdown",
   "metadata": {},
   "source": [
    "### Embedding Layer (need to fix)"
   ]
  },
  {
   "cell_type": "code",
   "execution_count": 34,
   "metadata": {},
   "outputs": [
    {
     "name": "stdout",
     "output_type": "stream",
     "text": [
      "(290957, 300)\n"
     ]
    }
   ],
   "source": [
    "embedding_matrix = np.zeros((vocab_size, W2V_SIZE))\n",
    "\n",
    "for word, i in tokenizer.word_index.items():\n",
    "    if word in w2v_model.wv:\n",
    "        embedding_matrix[i] = w2v_model.wv[word]\n",
    "        \n",
    "print(embedding_matrix.shape)"
   ]
  },
  {
   "cell_type": "code",
   "execution_count": 35,
   "metadata": {},
   "outputs": [],
   "source": [
    "embedding_layer = Embedding(vocab_size, W2V_SIZE, weights=[embedding_matrix], input_length=SEQUENCE_LENGTH, trainable=False)"
   ]
  },
  {
   "cell_type": "markdown",
   "metadata": {},
   "source": [
    "### Build Model (need to fix)"
   ]
  },
  {
   "cell_type": "code",
   "execution_count": 36,
   "metadata": {},
   "outputs": [
    {
     "name": "stdout",
     "output_type": "stream",
     "text": [
      "Model: \"sequential_1\"\n",
      "_________________________________________________________________\n",
      "Layer (type)                 Output Shape              Param #   \n",
      "=================================================================\n",
      "embedding_1 (Embedding)      (None, 300, 300)          87287100  \n",
      "_________________________________________________________________\n",
      "dropout_1 (Dropout)          (None, 300, 300)          0         \n",
      "_________________________________________________________________\n",
      "lstm_1 (LSTM)                (None, 100)               160400    \n",
      "_________________________________________________________________\n",
      "dense_1 (Dense)              (None, 1)                 101       \n",
      "=================================================================\n",
      "Total params: 87,447,601\n",
      "Trainable params: 160,501\n",
      "Non-trainable params: 87,287,100\n",
      "_________________________________________________________________\n"
     ]
    }
   ],
   "source": [
    "model = Sequential()\n",
    "model.add(embedding_layer)\n",
    "model.add(Dropout(0.5))\n",
    "model.add(LSTM(100, dropout=0.2, recurrent_dropout=0.2))\n",
    "model.add(Dense(1, activation='sigmoid'))\n",
    "\n",
    "model.summary()"
   ]
  },
  {
   "cell_type": "markdown",
   "metadata": {},
   "source": [
    "### Compile Model"
   ]
  },
  {
   "cell_type": "code",
   "execution_count": 37,
   "metadata": {},
   "outputs": [],
   "source": [
    "model.compile(loss='binary_crossentropy',\n",
    "              optimizer=\"adam\",\n",
    "              metrics=['accuracy'])"
   ]
  },
  {
   "cell_type": "markdown",
   "metadata": {},
   "source": [
    "### Callbacks"
   ]
  },
  {
   "cell_type": "code",
   "execution_count": 38,
   "metadata": {},
   "outputs": [],
   "source": [
    "callbacks = [ ReduceLROnPlateau(monitor='val_loss', patience=5, cooldown=0),\n",
    "              EarlyStopping(monitor='val_acc', min_delta=1e-4, patience=5)]"
   ]
  },
  {
   "cell_type": "markdown",
   "metadata": {},
   "source": [
    "### Train "
   ]
  },
  {
   "cell_type": "code",
   "execution_count": 39,
   "metadata": {},
   "outputs": [
    {
     "name": "stdout",
     "output_type": "stream",
     "text": [
      "Train on 1152358 samples, validate on 128040 samples\n",
      "Epoch 1/8\n",
      "1152358/1152358 [==============================] - 9238s 8ms/step - loss: 0.0203 - accuracy: 5.1373e-04 - val_loss: -0.0024 - val_accuracy: 7.8101e-05\n"
     ]
    },
    {
     "name": "stderr",
     "output_type": "stream",
     "text": [
      "/opt/anaconda3/lib/python3.7/site-packages/keras/callbacks/callbacks.py:846: RuntimeWarning: Early stopping conditioned on metric `val_acc` which is not available. Available metrics are: val_loss,val_accuracy,loss,accuracy,lr\n",
      "  (self.monitor, ','.join(list(logs.keys()))), RuntimeWarning\n"
     ]
    },
    {
     "name": "stdout",
     "output_type": "stream",
     "text": [
      "Epoch 2/8\n",
      "1152358/1152358 [==============================] - 11640s 10ms/step - loss: 0.0134 - accuracy: 8.2440e-05 - val_loss: -0.0015 - val_accuracy: 7.8101e-05\n",
      "Epoch 3/8\n",
      "1152358/1152358 [==============================] - 10156s 9ms/step - loss: 0.0133 - accuracy: 8.2440e-05 - val_loss: 0.0019 - val_accuracy: 7.8101e-05\n",
      "Epoch 4/8\n",
      "1152358/1152358 [==============================] - 8858s 8ms/step - loss: 0.0099 - accuracy: 8.2440e-05 - val_loss: -0.0036 - val_accuracy: 7.8101e-05\n",
      "Epoch 5/8\n",
      "1152358/1152358 [==============================] - 8960s 8ms/step - loss: 0.0141 - accuracy: 8.2440e-05 - val_loss: 5.0304e-04 - val_accuracy: 7.8101e-05\n",
      "Epoch 6/8\n",
      "1152358/1152358 [==============================] - 8788s 8ms/step - loss: 0.0126 - accuracy: 8.2440e-05 - val_loss: -1.6241e-04 - val_accuracy: 7.8101e-05\n",
      "Epoch 7/8\n",
      "1152358/1152358 [==============================] - 8946s 8ms/step - loss: 0.0125 - accuracy: 8.2440e-05 - val_loss: 5.9953e-05 - val_accuracy: 7.8101e-05\n",
      "Epoch 8/8\n",
      "1152358/1152358 [==============================] - 8282s 7ms/step - loss: 0.0124 - accuracy: 8.2440e-05 - val_loss: 0.0016 - val_accuracy: 7.8101e-05\n",
      "CPU times: user 1d 18h 14min 25s, sys: 11h 49min 29s, total: 2d 6h 3min 55s\n",
      "Wall time: 20h 47min 50s\n"
     ]
    }
   ],
   "source": [
    "%%time\n",
    "history = model.fit(x_train, y_train,\n",
    "                    batch_size=BATCH_SIZE,\n",
    "                    epochs=EPOCHS,\n",
    "                    validation_split=0.1,\n",
    "                    verbose=1,\n",
    "                    callbacks=callbacks)"
   ]
  },
  {
   "cell_type": "markdown",
   "metadata": {},
   "source": [
    "### Evaluate"
   ]
  },
  {
   "cell_type": "code",
   "execution_count": 40,
   "metadata": {},
   "outputs": [
    {
     "name": "stdout",
     "output_type": "stream",
     "text": [
      "320100/320100 [==============================] - 812s 3ms/step\n",
      "\n",
      "ACCURACY: 0.00010621680848998949\n",
      "LOSS: -0.02723734414957345\n",
      "CPU times: user 26min 55s, sys: 8min 59s, total: 35min 55s\n",
      "Wall time: 13min 32s\n"
     ]
    }
   ],
   "source": [
    "%%time\n",
    "score = model.evaluate(x_test, y_test, batch_size=BATCH_SIZE)\n",
    "print()\n",
    "print(\"ACCURACY:\",score[1])\n",
    "print(\"LOSS:\",score[0])"
   ]
  },
  {
   "cell_type": "markdown",
   "metadata": {},
   "source": [
    "### Plot "
   ]
  },
  {
   "cell_type": "code",
   "execution_count": 46,
   "metadata": {},
   "outputs": [
    {
     "data": {
      "text/plain": [
       "{'val_loss': [-0.0023882761332271163,\n",
       "  -0.0015267150322372785,\n",
       "  0.0018763560051245686,\n",
       "  -0.0036038411106778063,\n",
       "  0.0005030375650319568,\n",
       "  -0.0001624067438203668,\n",
       "  5.99526346337326e-05,\n",
       "  0.0015820192344782316],\n",
       " 'val_accuracy': [7.81005946919322e-05,\n",
       "  7.81005946919322e-05,\n",
       "  7.81005946919322e-05,\n",
       "  7.81005946919322e-05,\n",
       "  7.81005946919322e-05,\n",
       "  7.81005946919322e-05,\n",
       "  7.81005946919322e-05,\n",
       "  7.81005946919322e-05],\n",
       " 'loss': [0.02031959138770794,\n",
       "  0.013354436841939208,\n",
       "  0.013346589464620614,\n",
       "  0.0099375405625802,\n",
       "  0.014083638338589156,\n",
       "  0.012554307373633786,\n",
       "  0.012486721776349118,\n",
       "  0.012430219740612918],\n",
       " 'accuracy': [0.00051372923,\n",
       "  8.2439656e-05,\n",
       "  8.2439656e-05,\n",
       "  8.2439656e-05,\n",
       "  8.2439656e-05,\n",
       "  8.2439656e-05,\n",
       "  8.2439656e-05,\n",
       "  8.2439656e-05],\n",
       " 'lr': [0.001, 0.001, 0.001, 0.001, 0.001, 0.001, 0.001, 0.001]}"
      ]
     },
     "execution_count": 46,
     "metadata": {},
     "output_type": "execute_result"
    }
   ],
   "source": [
    "history.history"
   ]
  },
  {
   "cell_type": "code",
   "execution_count": 47,
   "metadata": {},
   "outputs": [
    {
     "data": {
      "image/png": "[encoded data removed]",
      "text/plain": [
       "<Figure size 432x288 with 1 Axes>"
      ]
     },
     "metadata": {
      "needs_background": "light"
     },
     "output_type": "display_data"
    },
    {
     "data": {
      "image/png": "[encoded data removed]",
      "text/plain": [
       "<Figure size 432x288 with 1 Axes>"
      ]
     },
     "metadata": {
      "needs_background": "light"
     },
     "output_type": "display_data"
    }
   ],
   "source": [
    "acc = history.history['accuracy']\n",
    "val_acc = history.history['val_accuracy']\n",
    "loss = history.history['loss']\n",
    "val_loss = history.history['val_loss']\n",
    " \n",
    "epochs = range(len(acc))\n",
    "\n",
    "plt.plot(epochs, acc, 'b', label='Training acc')\n",
    "plt.plot(epochs, val_acc, 'r', label='Validation acc')\n",
    "plt.title('Training and validation accuracy')\n",
    "plt.legend()\n",
    " \n",
    "plt.figure()\n",
    " \n",
    "plt.plot(epochs, loss, 'b', label='Training loss')\n",
    "plt.plot(epochs, val_loss, 'r', label='Validation loss')\n",
    "plt.title('Training and validation loss')\n",
    "plt.legend()\n",
    " \n",
    "plt.show()"
   ]
  },
  {
   "cell_type": "markdown",
   "metadata": {},
   "source": [
    "### Predict"
   ]
  },
  {
   "cell_type": "code",
   "execution_count": 48,
   "metadata": {},
   "outputs": [],
   "source": [
    "def decode_sentiment(score, include_neutral=True):\n",
    "    if include_neutral:        \n",
    "        label = NEUTRAL\n",
    "        if score <= SENTIMENT_THRESHOLDS[0]:\n",
    "            label = NEGATIVE\n",
    "        elif score >= SENTIMENT_THRESHOLDS[1]:\n",
    "            label = POSITIVE\n",
    "\n",
    "        return label\n",
    "    else:\n",
    "        return NEGATIVE if score < 0.5 else POSITIVE"
   ]
  },
  {
   "cell_type": "code",
   "execution_count": 49,
   "metadata": {},
   "outputs": [],
   "source": [
    "def predict(text, include_neutral=True):\n",
    "    start_at = time.time()\n",
    "    # Tokenize text\n",
    "    x_test = pad_sequences(tokenizer.texts_to_sequences([text]), maxlen=SEQUENCE_LENGTH)\n",
    "    # Predict\n",
    "    score = model.predict([x_test])[0]\n",
    "    # Decode sentiment\n",
    "    label = decode_sentiment(score, include_neutral=include_neutral)\n",
    "\n",
    "    return {\"label\": label, \"score\": float(score),\n",
    "       \"elapsed_time\": time.time()-start_at} "
   ]
  },
  {
   "cell_type": "code",
   "execution_count": 50,
   "metadata": {},
   "outputs": [
    {
     "data": {
      "text/plain": [
       "{'label': 'POSITIVE',\n",
       " 'score': 0.9965639710426331,\n",
       " 'elapsed_time': 0.6580479145050049}"
      ]
     },
     "execution_count": 50,
     "metadata": {},
     "output_type": "execute_result"
    }
   ],
   "source": [
    "predict(\"I love the music\")"
   ]
  },
  {
   "cell_type": "code",
   "execution_count": 51,
   "metadata": {},
   "outputs": [
    {
     "data": {
      "text/plain": [
       "{'label': 'POSITIVE',\n",
       " 'score': 0.9965639710426331,\n",
       " 'elapsed_time': 0.04838991165161133}"
      ]
     },
     "execution_count": 51,
     "metadata": {},
     "output_type": "execute_result"
    }
   ],
   "source": [
    "predict(\"I hate the rain\")"
   ]
  },
  {
   "cell_type": "code",
   "execution_count": 52,
   "metadata": {},
   "outputs": [
    {
     "data": {
      "text/plain": [
       "{'label': 'POSITIVE',\n",
       " 'score': 0.9965639710426331,\n",
       " 'elapsed_time': 0.050244808197021484}"
      ]
     },
     "execution_count": 52,
     "metadata": {},
     "output_type": "execute_result"
    }
   ],
   "source": [
    "predict(\"i don't know what i'm doing\")"
   ]
  },
  {
   "cell_type": "markdown",
   "metadata": {},
   "source": [
    "### Confusion Matrix "
   ]
  },
  {
   "cell_type": "code",
   "execution_count": 53,
   "metadata": {},
   "outputs": [],
   "source": [
    "def plot_confusion_matrix(cm, classes,\n",
    "                          title='Confusion matrix',\n",
    "                          cmap=plt.cm.Blues):\n",
    "    \"\"\"\n",
    "    This function prints and plots the confusion matrix.\n",
    "    Normalization can be applied by setting `normalize=True`.\n",
    "    \"\"\"\n",
    "\n",
    "    cm = cm.astype('float') / cm.sum(axis=1)[:, np.newaxis]\n",
    "\n",
    "    plt.imshow(cm, interpolation='nearest', cmap=cmap)\n",
    "    plt.title(title, fontsize=30)\n",
    "    plt.colorbar()\n",
    "    tick_marks = np.arange(len(classes))\n",
    "    plt.xticks(tick_marks, classes, rotation=90, fontsize=22)\n",
    "    plt.yticks(tick_marks, classes, fontsize=22)\n",
    "\n",
    "    fmt = '.2f'\n",
    "    thresh = cm.max() / 2.\n",
    "    for i, j in itertools.product(range(cm.shape[0]), range(cm.shape[1])):\n",
    "        plt.text(j, i, format(cm[i, j], fmt),\n",
    "                 horizontalalignment=\"center\",\n",
    "                 color=\"white\" if cm[i, j] > thresh else \"black\")\n",
    "\n",
    "    plt.ylabel('True label', fontsize=25)\n",
    "    plt.xlabel('Predicted label', fontsize=25)"
   ]
  },
  {
   "cell_type": "code",
   "execution_count": 54,
   "metadata": {},
   "outputs": [
    {
     "name": "stdout",
     "output_type": "stream",
     "text": [
      "320100/320100 [==============================] - 1418s 4ms/step\n"
     ]
    },
    {
     "data": {
      "image/png": "[encoded data removed]",
      "text/plain": [
       "<Figure size 864x864 with 2 Axes>"
      ]
     },
     "metadata": {
      "needs_background": "light"
     },
     "output_type": "display_data"
    },
    {
     "name": "stderr",
     "output_type": "stream",
     "text": [
      "/opt/anaconda3/lib/python3.7/site-packages/sklearn/metrics/classification.py:1437: UndefinedMetricWarning: Precision and F-score are ill-defined and being set to 0.0 in labels with no predicted samples.\n",
      "  'precision', 'predicted', average, warn_for)\n"
     ]
    },
    {
     "name": "stdout",
     "output_type": "stream",
     "text": [
      "              precision    recall  f1-score   support\n",
      "\n",
      "    NEGATIVE       0.00      0.00      0.00    159167\n",
      "     NEUTRAL       0.00      0.00      0.00        34\n",
      "    POSITIVE       0.50      1.00      0.67    160899\n",
      "\n",
      "    accuracy                           0.50    320100\n",
      "   macro avg       0.17      0.33      0.22    320100\n",
      "weighted avg       0.25      0.50      0.34    320100\n",
      "\n",
      "CPU times: user 28min 28s, sys: 14min 20s, total: 42min 48s\n",
      "Wall time: 23min 47s\n"
     ]
    },
    {
     "data": {
      "text/plain": [
       "0.5026522961574508"
      ]
     },
     "execution_count": 54,
     "metadata": {},
     "output_type": "execute_result"
    }
   ],
   "source": [
    "%%time\n",
    "y_pred_1d = []\n",
    "y_test_1d = list(df_test.target)\n",
    "scores = model.predict(x_test, verbose=1, batch_size=8000)\n",
    "y_pred_1d = [decode_sentiment(score, include_neutral=False) for score in scores]\n",
    "\n",
    "cnf_matrix = confusion_matrix(y_test_1d, y_pred_1d)\n",
    "plt.figure(figsize=(12,12))\n",
    "plot_confusion_matrix(cnf_matrix, classes=df_train.target.unique(), title=\"Confusion matrix\")\n",
    "plt.show()\n",
    "\n",
    "print(classification_report(y_test_1d, y_pred_1d))\n",
    "\n",
    "\n",
    "accuracy_score(y_test_1d, y_pred_1d)"
   ]
  },
  {
   "cell_type": "code",
   "execution_count": 55,
   "metadata": {},
   "outputs": [
    {
     "data": {
      "image/png": "[encoded data removed]",
      "text/plain": [
       "<Figure size 864x864 with 2 Axes>"
      ]
     },
     "metadata": {
      "needs_background": "light"
     },
     "output_type": "display_data"
    },
    {
     "name": "stdout",
     "output_type": "stream",
     "text": [
      "CPU times: user 2.34 s, sys: 129 ms, total: 2.47 s\n",
      "Wall time: 2.05 s\n"
     ]
    }
   ],
   "source": [
    "%%time\n",
    "\n",
    "cnf_matrix = confusion_matrix(y_test_1d, y_pred_1d)\n",
    "plt.figure(figsize=(12,12))\n",
    "plot_confusion_matrix(cnf_matrix, classes=df_train.target.unique(), title=\"Confusion matrix\")\n",
    "plt.show()"
   ]
  },
  {
   "cell_type": "markdown",
   "metadata": {},
   "source": [
    "### Classification report"
   ]
  },
  {
   "cell_type": "code",
   "execution_count": 56,
   "metadata": {},
   "outputs": [
    {
     "name": "stdout",
     "output_type": "stream",
     "text": [
      "              precision    recall  f1-score   support\n",
      "\n",
      "    NEGATIVE       0.00      0.00      0.00    159167\n",
      "     NEUTRAL       0.00      0.00      0.00        34\n",
      "    POSITIVE       0.50      1.00      0.67    160899\n",
      "\n",
      "    accuracy                           0.50    320100\n",
      "   macro avg       0.17      0.33      0.22    320100\n",
      "weighted avg       0.25      0.50      0.34    320100\n",
      "\n"
     ]
    }
   ],
   "source": [
    "print(classification_report(y_test_1d, y_pred_1d))"
   ]
  },
  {
   "cell_type": "markdown",
   "metadata": {},
   "source": [
    "### Accuracy Score"
   ]
  },
  {
   "cell_type": "code",
   "execution_count": 57,
   "metadata": {},
   "outputs": [
    {
     "data": {
      "text/plain": [
       "0.5026522961574508"
      ]
     },
     "execution_count": 57,
     "metadata": {},
     "output_type": "execute_result"
    }
   ],
   "source": [
    "accuracy_score(y_test_1d, y_pred_1d)"
   ]
  },
  {
   "cell_type": "markdown",
   "metadata": {},
   "source": [
    "### Save Model"
   ]
  },
  {
   "cell_type": "code",
   "execution_count": 58,
   "metadata": {},
   "outputs": [
    {
     "name": "stderr",
     "output_type": "stream",
     "text": [
      "2020-05-08 11:16:52,563 : INFO : saving Word2Vec object under model.w2v, separately None\n",
      "2020-05-08 11:16:52,600 : INFO : not storing attribute vectors_norm\n",
      "2020-05-08 11:16:52,606 : INFO : not storing attribute cum_table\n",
      "2020-05-08 11:16:56,878 : INFO : saved model.w2v\n"
     ]
    }
   ],
   "source": [
    "model.save(KERAS_MODEL)\n",
    "w2v_model.save(WORD2VEC_MODEL)\n",
    "pickle.dump(tokenizer, open(TOKENIZER_MODEL, \"wb\"), protocol=0)\n",
    "pickle.dump(encoder, open(ENCODER_MODEL, \"wb\"), protocol=0)"
   ]
  },
  {
   "cell_type": "code",
   "execution_count": null,
   "metadata": {},
   "outputs": [],
   "source": []
  },
  {
   "cell_type": "code",
   "execution_count": null,
   "metadata": {},
   "outputs": [],
   "source": []
  },
  {
   "cell_type": "code",
   "execution_count": null,
   "metadata": {},
   "outputs": [],
   "source": []
  },
  {
   "cell_type": "code",
   "execution_count": null,
   "metadata": {},
   "outputs": [],
   "source": []
  },
  {
   "cell_type": "code",
   "execution_count": null,
   "metadata": {},
   "outputs": [],
   "source": []
  },
  {
   "cell_type": "code",
   "execution_count": null,
   "metadata": {},
   "outputs": [],
   "source": []
  },
  {
   "cell_type": "code",
   "execution_count": null,
   "metadata": {},
   "outputs": [],
   "source": []
  }
 ],
 "metadata": {
  "kernelspec": {
   "display_name": "Python 3",
   "language": "python",
   "name": "python3"
  },
  "language_info": {
   "codemirror_mode": {
    "name": "ipython",
    "version": 3
   },
   "file_extension": ".py",
   "mimetype": "text/x-python",
   "name": "python",
   "nbconvert_exporter": "python",
   "pygments_lexer": "ipython3",
   "version": "3.7.4"
  }
 },
 "nbformat": 4,
 "nbformat_minor": 2
}
